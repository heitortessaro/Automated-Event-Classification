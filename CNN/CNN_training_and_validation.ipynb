{
  "nbformat": 4,
  "nbformat_minor": 0,
  "metadata": {
    "colab": {
      "name": "CNN_training_and_validation.ipynb",
      "provenance": [],
      "collapsed_sections": []
    },
    "kernelspec": {
      "name": "python3",
      "display_name": "Python 3"
    },
    "language_info": {
      "name": "python"
    },
    "accelerator": "GPU"
  },
  "cells": [
    {
      "cell_type": "markdown",
      "metadata": {
        "id": "0Q_wRXFTfQ0_"
      },
      "source": [
        "**Author: Heitor José Tessaro**\n"
      ]
    },
    {
      "cell_type": "markdown",
      "metadata": {
        "id": "C9pCg6KTMKD6"
      },
      "source": [
        "The purpose of this file is to train a CNN to perform event classification related to the operation of synchronous generator. A maximum of 15 classes are considered in the training process. \n",
        "\n",
        "\n",
        "---\n",
        "\n"
      ]
    },
    {
      "cell_type": "markdown",
      "metadata": {
        "id": "NL9LPCDfMocL"
      },
      "source": [
        "Iimport libraries"
      ]
    },
    {
      "cell_type": "code",
      "metadata": {
        "id": "mniTy0U_MJnt"
      },
      "source": [
        "import torch\n",
        "import torch.nn as nn\n",
        "import torch.nn.functional as F\n",
        "import torchvision\n",
        "import torchvision.transforms as transforms\n",
        "from torch.utils.data import DataLoader # gives easier dataset manegment and creates mini batches\n",
        "import matplotlib.pyplot as plt\n",
        "import numpy as np\n",
        "\n",
        "from torch.utils.data import Dataset\n",
        "import matplotlib.pyplot as plt\n",
        "import pandas as pd\n",
        "import os\n",
        "import random\n",
        "from google.colab import files\n",
        "import zipfile\n",
        "import glob\n",
        "from sklearn.utils import shuffle\n",
        "from sklearn.metrics import confusion_matrix\n",
        "\n"
      ],
      "execution_count": null,
      "outputs": []
    },
    {
      "cell_type": "markdown",
      "metadata": {
        "id": "fEg-lIAI-VOX"
      },
      "source": [
        "Remove all existing files"
      ]
    },
    {
      "cell_type": "code",
      "metadata": {
        "id": "u5hYTxF0-hGX"
      },
      "source": [
        "filesID = glob.glob('./*.eps')\n",
        "for f in filesID:\n",
        "    os.remove(f)\n",
        "\n",
        "filesID = glob.glob('./*.npy')\n",
        "for f in filesID:\n",
        "    os.remove(f)    \n",
        "\n",
        "filesID = glob.glob('./*.pth')\n",
        "for f in filesID:\n",
        "    os.remove(f)\n",
        "\n",
        "filesID = glob.glob('./*.zip')\n",
        "for f in filesID:\n",
        "    os.remove(f)\n",
        "\n",
        "filesID = glob.glob('./*.csv')\n",
        "for f in filesID:\n",
        "    os.remove(f)    "
      ],
      "execution_count": null,
      "outputs": []
    },
    {
      "cell_type": "markdown",
      "metadata": {
        "id": "op2xkwuBO2qh"
      },
      "source": [
        "Upload csv file with data from files and respective classes"
      ]
    },
    {
      "cell_type": "code",
      "metadata": {
        "id": "JPvSyLkVOgAM",
        "colab": {
          "resources": {
            "http://localhost:8080/nbextensions/google.colab/files.js": {
              "data": "Ly8gQ29weXJpZ2h0IDIwMTcgR29vZ2xlIExMQwovLwovLyBMaWNlbnNlZCB1bmRlciB0aGUgQXBhY2hlIExpY2Vuc2UsIFZlcnNpb24gMi4wICh0aGUgIkxpY2Vuc2UiKTsKLy8geW91IG1heSBub3QgdXNlIHRoaXMgZmlsZSBleGNlcHQgaW4gY29tcGxpYW5jZSB3aXRoIHRoZSBMaWNlbnNlLgovLyBZb3UgbWF5IG9idGFpbiBhIGNvcHkgb2YgdGhlIExpY2Vuc2UgYXQKLy8KLy8gICAgICBodHRwOi8vd3d3LmFwYWNoZS5vcmcvbGljZW5zZXMvTElDRU5TRS0yLjAKLy8KLy8gVW5sZXNzIHJlcXVpcmVkIGJ5IGFwcGxpY2FibGUgbGF3IG9yIGFncmVlZCB0byBpbiB3cml0aW5nLCBzb2Z0d2FyZQovLyBkaXN0cmlidXRlZCB1bmRlciB0aGUgTGljZW5zZSBpcyBkaXN0cmlidXRlZCBvbiBhbiAiQVMgSVMiIEJBU0lTLAovLyBXSVRIT1VUIFdBUlJBTlRJRVMgT1IgQ09ORElUSU9OUyBPRiBBTlkgS0lORCwgZWl0aGVyIGV4cHJlc3Mgb3IgaW1wbGllZC4KLy8gU2VlIHRoZSBMaWNlbnNlIGZvciB0aGUgc3BlY2lmaWMgbGFuZ3VhZ2UgZ292ZXJuaW5nIHBlcm1pc3Npb25zIGFuZAovLyBsaW1pdGF0aW9ucyB1bmRlciB0aGUgTGljZW5zZS4KCi8qKgogKiBAZmlsZW92ZXJ2aWV3IEhlbHBlcnMgZm9yIGdvb2dsZS5jb2xhYiBQeXRob24gbW9kdWxlLgogKi8KKGZ1bmN0aW9uKHNjb3BlKSB7CmZ1bmN0aW9uIHNwYW4odGV4dCwgc3R5bGVBdHRyaWJ1dGVzID0ge30pIHsKICBjb25zdCBlbGVtZW50ID0gZG9jdW1lbnQuY3JlYXRlRWxlbWVudCgnc3BhbicpOwogIGVsZW1lbnQudGV4dENvbnRlbnQgPSB0ZXh0OwogIGZvciAoY29uc3Qga2V5IG9mIE9iamVjdC5rZXlzKHN0eWxlQXR0cmlidXRlcykpIHsKICAgIGVsZW1lbnQuc3R5bGVba2V5XSA9IHN0eWxlQXR0cmlidXRlc1trZXldOwogIH0KICByZXR1cm4gZWxlbWVudDsKfQoKLy8gTWF4IG51bWJlciBvZiBieXRlcyB3aGljaCB3aWxsIGJlIHVwbG9hZGVkIGF0IGEgdGltZS4KY29uc3QgTUFYX1BBWUxPQURfU0laRSA9IDEwMCAqIDEwMjQ7CgpmdW5jdGlvbiBfdXBsb2FkRmlsZXMoaW5wdXRJZCwgb3V0cHV0SWQpIHsKICBjb25zdCBzdGVwcyA9IHVwbG9hZEZpbGVzU3RlcChpbnB1dElkLCBvdXRwdXRJZCk7CiAgY29uc3Qgb3V0cHV0RWxlbWVudCA9IGRvY3VtZW50LmdldEVsZW1lbnRCeUlkKG91dHB1dElkKTsKICAvLyBDYWNoZSBzdGVwcyBvbiB0aGUgb3V0cHV0RWxlbWVudCB0byBtYWtlIGl0IGF2YWlsYWJsZSBmb3IgdGhlIG5leHQgY2FsbAogIC8vIHRvIHVwbG9hZEZpbGVzQ29udGludWUgZnJvbSBQeXRob24uCiAgb3V0cHV0RWxlbWVudC5zdGVwcyA9IHN0ZXBzOwoKICByZXR1cm4gX3VwbG9hZEZpbGVzQ29udGludWUob3V0cHV0SWQpOwp9CgovLyBUaGlzIGlzIHJvdWdobHkgYW4gYXN5bmMgZ2VuZXJhdG9yIChub3Qgc3VwcG9ydGVkIGluIHRoZSBicm93c2VyIHlldCksCi8vIHdoZXJlIHRoZXJlIGFyZSBtdWx0aXBsZSBhc3luY2hyb25vdXMgc3RlcHMgYW5kIHRoZSBQeXRob24gc2lkZSBpcyBnb2luZwovLyB0byBwb2xsIGZvciBjb21wbGV0aW9uIG9mIGVhY2ggc3RlcC4KLy8gVGhpcyB1c2VzIGEgUHJvbWlzZSB0byBibG9jayB0aGUgcHl0aG9uIHNpZGUgb24gY29tcGxldGlvbiBvZiBlYWNoIHN0ZXAsCi8vIHRoZW4gcGFzc2VzIHRoZSByZXN1bHQgb2YgdGhlIHByZXZpb3VzIHN0ZXAgYXMgdGhlIGlucHV0IHRvIHRoZSBuZXh0IHN0ZXAuCmZ1bmN0aW9uIF91cGxvYWRGaWxlc0NvbnRpbnVlKG91dHB1dElkKSB7CiAgY29uc3Qgb3V0cHV0RWxlbWVudCA9IGRvY3VtZW50LmdldEVsZW1lbnRCeUlkKG91dHB1dElkKTsKICBjb25zdCBzdGVwcyA9IG91dHB1dEVsZW1lbnQuc3RlcHM7CgogIGNvbnN0IG5leHQgPSBzdGVwcy5uZXh0KG91dHB1dEVsZW1lbnQubGFzdFByb21pc2VWYWx1ZSk7CiAgcmV0dXJuIFByb21pc2UucmVzb2x2ZShuZXh0LnZhbHVlLnByb21pc2UpLnRoZW4oKHZhbHVlKSA9PiB7CiAgICAvLyBDYWNoZSB0aGUgbGFzdCBwcm9taXNlIHZhbHVlIHRvIG1ha2UgaXQgYXZhaWxhYmxlIHRvIHRoZSBuZXh0CiAgICAvLyBzdGVwIG9mIHRoZSBnZW5lcmF0b3IuCiAgICBvdXRwdXRFbGVtZW50Lmxhc3RQcm9taXNlVmFsdWUgPSB2YWx1ZTsKICAgIHJldHVybiBuZXh0LnZhbHVlLnJlc3BvbnNlOwogIH0pOwp9CgovKioKICogR2VuZXJhdG9yIGZ1bmN0aW9uIHdoaWNoIGlzIGNhbGxlZCBiZXR3ZWVuIGVhY2ggYXN5bmMgc3RlcCBvZiB0aGUgdXBsb2FkCiAqIHByb2Nlc3MuCiAqIEBwYXJhbSB7c3RyaW5nfSBpbnB1dElkIEVsZW1lbnQgSUQgb2YgdGhlIGlucHV0IGZpbGUgcGlja2VyIGVsZW1lbnQuCiAqIEBwYXJhbSB7c3RyaW5nfSBvdXRwdXRJZCBFbGVtZW50IElEIG9mIHRoZSBvdXRwdXQgZGlzcGxheS4KICogQHJldHVybiB7IUl0ZXJhYmxlPCFPYmplY3Q+fSBJdGVyYWJsZSBvZiBuZXh0IHN0ZXBzLgogKi8KZnVuY3Rpb24qIHVwbG9hZEZpbGVzU3RlcChpbnB1dElkLCBvdXRwdXRJZCkgewogIGNvbnN0IGlucHV0RWxlbWVudCA9IGRvY3VtZW50LmdldEVsZW1lbnRCeUlkKGlucHV0SWQpOwogIGlucHV0RWxlbWVudC5kaXNhYmxlZCA9IGZhbHNlOwoKICBjb25zdCBvdXRwdXRFbGVtZW50ID0gZG9jdW1lbnQuZ2V0RWxlbWVudEJ5SWQob3V0cHV0SWQpOwogIG91dHB1dEVsZW1lbnQuaW5uZXJIVE1MID0gJyc7CgogIGNvbnN0IHBpY2tlZFByb21pc2UgPSBuZXcgUHJvbWlzZSgocmVzb2x2ZSkgPT4gewogICAgaW5wdXRFbGVtZW50LmFkZEV2ZW50TGlzdGVuZXIoJ2NoYW5nZScsIChlKSA9PiB7CiAgICAgIHJlc29sdmUoZS50YXJnZXQuZmlsZXMpOwogICAgfSk7CiAgfSk7CgogIGNvbnN0IGNhbmNlbCA9IGRvY3VtZW50LmNyZWF0ZUVsZW1lbnQoJ2J1dHRvbicpOwogIGlucHV0RWxlbWVudC5wYXJlbnRFbGVtZW50LmFwcGVuZENoaWxkKGNhbmNlbCk7CiAgY2FuY2VsLnRleHRDb250ZW50ID0gJ0NhbmNlbCB1cGxvYWQnOwogIGNvbnN0IGNhbmNlbFByb21pc2UgPSBuZXcgUHJvbWlzZSgocmVzb2x2ZSkgPT4gewogICAgY2FuY2VsLm9uY2xpY2sgPSAoKSA9PiB7CiAgICAgIHJlc29sdmUobnVsbCk7CiAgICB9OwogIH0pOwoKICAvLyBXYWl0IGZvciB0aGUgdXNlciB0byBwaWNrIHRoZSBmaWxlcy4KICBjb25zdCBmaWxlcyA9IHlpZWxkIHsKICAgIHByb21pc2U6IFByb21pc2UucmFjZShbcGlja2VkUHJvbWlzZSwgY2FuY2VsUHJvbWlzZV0pLAogICAgcmVzcG9uc2U6IHsKICAgICAgYWN0aW9uOiAnc3RhcnRpbmcnLAogICAgfQogIH07CgogIGNhbmNlbC5yZW1vdmUoKTsKCiAgLy8gRGlzYWJsZSB0aGUgaW5wdXQgZWxlbWVudCBzaW5jZSBmdXJ0aGVyIHBpY2tzIGFyZSBub3QgYWxsb3dlZC4KICBpbnB1dEVsZW1lbnQuZGlzYWJsZWQgPSB0cnVlOwoKICBpZiAoIWZpbGVzKSB7CiAgICByZXR1cm4gewogICAgICByZXNwb25zZTogewogICAgICAgIGFjdGlvbjogJ2NvbXBsZXRlJywKICAgICAgfQogICAgfTsKICB9CgogIGZvciAoY29uc3QgZmlsZSBvZiBmaWxlcykgewogICAgY29uc3QgbGkgPSBkb2N1bWVudC5jcmVhdGVFbGVtZW50KCdsaScpOwogICAgbGkuYXBwZW5kKHNwYW4oZmlsZS5uYW1lLCB7Zm9udFdlaWdodDogJ2JvbGQnfSkpOwogICAgbGkuYXBwZW5kKHNwYW4oCiAgICAgICAgYCgke2ZpbGUudHlwZSB8fCAnbi9hJ30pIC0gJHtmaWxlLnNpemV9IGJ5dGVzLCBgICsKICAgICAgICBgbGFzdCBtb2RpZmllZDogJHsKICAgICAgICAgICAgZmlsZS5sYXN0TW9kaWZpZWREYXRlID8gZmlsZS5sYXN0TW9kaWZpZWREYXRlLnRvTG9jYWxlRGF0ZVN0cmluZygpIDoKICAgICAgICAgICAgICAgICAgICAgICAgICAgICAgICAgICAgJ24vYSd9IC0gYCkpOwogICAgY29uc3QgcGVyY2VudCA9IHNwYW4oJzAlIGRvbmUnKTsKICAgIGxpLmFwcGVuZENoaWxkKHBlcmNlbnQpOwoKICAgIG91dHB1dEVsZW1lbnQuYXBwZW5kQ2hpbGQobGkpOwoKICAgIGNvbnN0IGZpbGVEYXRhUHJvbWlzZSA9IG5ldyBQcm9taXNlKChyZXNvbHZlKSA9PiB7CiAgICAgIGNvbnN0IHJlYWRlciA9IG5ldyBGaWxlUmVhZGVyKCk7CiAgICAgIHJlYWRlci5vbmxvYWQgPSAoZSkgPT4gewogICAgICAgIHJlc29sdmUoZS50YXJnZXQucmVzdWx0KTsKICAgICAgfTsKICAgICAgcmVhZGVyLnJlYWRBc0FycmF5QnVmZmVyKGZpbGUpOwogICAgfSk7CiAgICAvLyBXYWl0IGZvciB0aGUgZGF0YSB0byBiZSByZWFkeS4KICAgIGxldCBmaWxlRGF0YSA9IHlpZWxkIHsKICAgICAgcHJvbWlzZTogZmlsZURhdGFQcm9taXNlLAogICAgICByZXNwb25zZTogewogICAgICAgIGFjdGlvbjogJ2NvbnRpbnVlJywKICAgICAgfQogICAgfTsKCiAgICAvLyBVc2UgYSBjaHVua2VkIHNlbmRpbmcgdG8gYXZvaWQgbWVzc2FnZSBzaXplIGxpbWl0cy4gU2VlIGIvNjIxMTU2NjAuCiAgICBsZXQgcG9zaXRpb24gPSAwOwogICAgZG8gewogICAgICBjb25zdCBsZW5ndGggPSBNYXRoLm1pbihmaWxlRGF0YS5ieXRlTGVuZ3RoIC0gcG9zaXRpb24sIE1BWF9QQVlMT0FEX1NJWkUpOwogICAgICBjb25zdCBjaHVuayA9IG5ldyBVaW50OEFycmF5KGZpbGVEYXRhLCBwb3NpdGlvbiwgbGVuZ3RoKTsKICAgICAgcG9zaXRpb24gKz0gbGVuZ3RoOwoKICAgICAgY29uc3QgYmFzZTY0ID0gYnRvYShTdHJpbmcuZnJvbUNoYXJDb2RlLmFwcGx5KG51bGwsIGNodW5rKSk7CiAgICAgIHlpZWxkIHsKICAgICAgICByZXNwb25zZTogewogICAgICAgICAgYWN0aW9uOiAnYXBwZW5kJywKICAgICAgICAgIGZpbGU6IGZpbGUubmFtZSwKICAgICAgICAgIGRhdGE6IGJhc2U2NCwKICAgICAgICB9LAogICAgICB9OwoKICAgICAgbGV0IHBlcmNlbnREb25lID0gZmlsZURhdGEuYnl0ZUxlbmd0aCA9PT0gMCA/CiAgICAgICAgICAxMDAgOgogICAgICAgICAgTWF0aC5yb3VuZCgocG9zaXRpb24gLyBmaWxlRGF0YS5ieXRlTGVuZ3RoKSAqIDEwMCk7CiAgICAgIHBlcmNlbnQudGV4dENvbnRlbnQgPSBgJHtwZXJjZW50RG9uZX0lIGRvbmVgOwoKICAgIH0gd2hpbGUgKHBvc2l0aW9uIDwgZmlsZURhdGEuYnl0ZUxlbmd0aCk7CiAgfQoKICAvLyBBbGwgZG9uZS4KICB5aWVsZCB7CiAgICByZXNwb25zZTogewogICAgICBhY3Rpb246ICdjb21wbGV0ZScsCiAgICB9CiAgfTsKfQoKc2NvcGUuZ29vZ2xlID0gc2NvcGUuZ29vZ2xlIHx8IHt9OwpzY29wZS5nb29nbGUuY29sYWIgPSBzY29wZS5nb29nbGUuY29sYWIgfHwge307CnNjb3BlLmdvb2dsZS5jb2xhYi5fZmlsZXMgPSB7CiAgX3VwbG9hZEZpbGVzLAogIF91cGxvYWRGaWxlc0NvbnRpbnVlLAp9Owp9KShzZWxmKTsK",
              "ok": true,
              "headers": [
                [
                  "content-type",
                  "application/javascript"
                ]
              ],
              "status": 200,
              "status_text": ""
            }
          },
          "base_uri": "https://localhost:8080/",
          "height": 109
        },
        "outputId": "2d83d1a6-2a4d-4a76-85c6-9c8cd63d5c7d"
      },
      "source": [
        "files.upload()"
      ],
      "execution_count": null,
      "outputs": [
        {
          "output_type": "display_data",
          "data": {
            "text/html": [
              "\n",
              "     <input type=\"file\" id=\"files-07cd0ee1-a49c-4058-9bbf-946e178fcd3d\" name=\"files[]\" multiple disabled\n",
              "        style=\"border:none\" />\n",
              "     <output id=\"result-07cd0ee1-a49c-4058-9bbf-946e178fcd3d\">\n",
              "      Upload widget is only available when the cell has been executed in the\n",
              "      current browser session. Please rerun this cell to enable.\n",
              "      </output>\n",
              "      <script src=\"/nbextensions/google.colab/files.js\"></script> "
            ],
            "text/plain": [
              "<IPython.core.display.HTML object>"
            ]
          },
          "metadata": {}
        },
        {
          "output_type": "stream",
          "name": "stdout",
          "text": [
            "Saving data.csv to data.csv\n"
          ]
        },
        {
          "output_type": "execute_result",
          "data": {
            "text/plain": [
              "{'data.csv': b'File names,class \\ndesenergizacao1.npy,0\\ndesenergizacao2.npy,0\\ndesenergizacao3.npy,0\\ndesenergizacao4.npy,0\\ndesenergizacao5.npy,0\\ndesenergizacao6.npy,0\\ndesenergizacao7.npy,0\\ndesenergizacao8.npy,0\\ndesenergizacao9.npy,0\\ndesenergizacao10.npy,0\\ndesenergizacao11.npy,0\\ndesenergizacao12.npy,0\\ndesenergizacao13.npy,0\\ndesenergizacao14.npy,0\\ndesenergizacao15.npy,0\\ndesenergizacao16.npy,0\\ndesenergizacao17.npy,0\\ndesenergizacao18.npy,0\\ndesenergizacao19.npy,0\\ndesenergizacao20.npy,0\\ndesenergizacao21.npy,0\\ndesenergizacao22.npy,0\\ndesenergizacao23.npy,0\\ndesenergizacao24.npy,0\\ndesenergizacao25.npy,0\\ndesenergizacao26.npy,0\\ndesenergizacao27.npy,0\\ndesenergizacao28.npy,0\\ndesenergizacao29.npy,0\\ndesenergizacao30.npy,0\\ndesenergizacao31.npy,0\\ndesenergizacao32.npy,0\\ndesenergizacao33.npy,0\\ndesenergizacao34.npy,0\\ndesenergizacao35.npy,0\\ndesenergizacao36.npy,0\\ndesenergizacao37.npy,0\\ndesenergizacao38.npy,0\\ndesenergizacao39.npy,0\\ndesenergizacao40.npy,0\\ndesenergizacao41.npy,0\\ndesenergizacao42.npy,0\\ndesenergizacao43.npy,0\\ndesenergizacao44.npy,0\\ndesenergizacao45.npy,0\\ndesenergizacao46.npy,0\\ndesenergizacao47.npy,0\\ndesenergizacao48.npy,0\\ndesenergizacao49.npy,0\\ndesenergizacao50.npy,0\\ndesenergizacao51.npy,0\\ndesenergizacao52.npy,0\\ndesenergizacao53.npy,0\\ndesenergizacao54.npy,0\\ndesenergizacao55.npy,0\\ndesenergizacao56.npy,0\\ndesenergizacao57.npy,0\\ndesenergizacao58.npy,0\\ndesenergizacao59.npy,0\\ndesenergizacao60.npy,0\\ndesenergizacao61.npy,0\\ndesenergizacao62.npy,0\\ndesenergizacao63.npy,0\\ndesenergizacao64.npy,0\\ndesenergizacao65.npy,0\\ndesenergizacao66.npy,0\\ndesenergizacao67.npy,0\\ndesenergizacao68.npy,0\\ndesenergizacao69.npy,0\\ndesenergizacao70.npy,0\\ndesenergizacao71.npy,0\\ndesenergizacao72.npy,0\\ndesenergizacao73.npy,0\\ndesenergizacao74.npy,0\\ndesenergizacao75.npy,0\\ndesenergizacao76.npy,0\\ndesenergizacao77.npy,0\\ndesenergizacao78.npy,0\\ndesenergizacao79.npy,0\\ndesenergizacao80.npy,0\\ndesenergizacao81.npy,0\\ndesenergizacao82.npy,0\\ndesenergizacao83.npy,0\\ndesenergizacao84.npy,0\\ndesenergizacao85.npy,0\\ndesenergizacao86.npy,0\\ndesenergizacao87.npy,0\\ndesenergizacao88.npy,0\\ndesenergizacao89.npy,0\\ndesenergizacao90.npy,0\\ndesenergizacao91.npy,0\\ndesenergizacao92.npy,0\\ndesenergizacao93.npy,0\\ndesenergizacao94.npy,0\\ndesenergizacao95.npy,0\\ndesenergizacao96.npy,0\\ndesenergizacao97.npy,0\\ndesenergizacao98.npy,0\\ndesenergizacao99.npy,0\\ndesenergizacao100.npy,0\\ndesenergizacao101.npy,0\\ndesenergizacao102.npy,0\\ndesenergizacao103.npy,0\\ndesenergizacao104.npy,0\\ndesenergizacao105.npy,0\\ndesenergizacao106.npy,0\\ndesenergizacao107.npy,0\\ndesenergizacao108.npy,0\\ndesenergizacao109.npy,0\\ndesenergizacao110.npy,0\\ndesenergizacao111.npy,0\\ndesenergizacao112.npy,0\\ndesenergizacao113.npy,0\\ndesenergizacao114.npy,0\\ndesenergizacao115.npy,0\\ndesenergizacao116.npy,0\\ndesenergizacao117.npy,0\\ndesenergizacao118.npy,0\\ndesenergizacao119.npy,0\\ndesenergizacao120.npy,0\\ndesenergizacao121.npy,0\\ndesenergizacao122.npy,0\\ndesenergizacao123.npy,0\\ndesenergizacao124.npy,0\\ndesenergizacao125.npy,0\\ndesenergizacao126.npy,0\\ndesenergizacao127.npy,0\\ndesenergizacao128.npy,0\\ndesenergizacao129.npy,0\\ndesenergizacao130.npy,0\\ndesenergizacao131.npy,0\\ndesenergizacao132.npy,0\\ndesenergizacao133.npy,0\\ndesenergizacao134.npy,0\\ndesenergizacao135.npy,0\\ndesenergizacao136.npy,0\\ndesenergizacao137.npy,0\\ndesenergizacao138.npy,0\\ndesenergizacao139.npy,0\\ndesenergizacao140.npy,0\\ndesenergizacao141.npy,0\\ndesenergizacao142.npy,0\\ndesenergizacao143.npy,0\\ndesenergizacao144.npy,0\\ndesenergizacao145.npy,0\\ndesenergizacao146.npy,0\\ndesenergizacao147.npy,0\\ndesenergizacao148.npy,0\\ndesenergizacao149.npy,0\\ndesenergizacao150.npy,0\\ndesenergizacao151.npy,0\\ndesenergizacao152.npy,0\\ndesenergizacao153.npy,0\\ndesenergizacao154.npy,0\\ndesenergizacao155.npy,0\\ndesenergizacao156.npy,0\\ndesenergizacao157.npy,0\\ndesenergizacao158.npy,0\\ndesenergizacao159.npy,0\\ndesenergizacao160.npy,0\\ndesenergizacao161.npy,0\\ndesenergizacao162.npy,0\\ndesenergizacao163.npy,0\\ndesenergizacao164.npy,0\\ndesenergizacao165.npy,0\\ndesenergizacao166.npy,0\\ndesenergizacao167.npy,0\\ndesenergizacao168.npy,0\\ndesenergizacao169.npy,0\\ndesenergizacao170.npy,0\\ndesenergizacao171.npy,0\\ndesenergizacao172.npy,0\\ndesenergizacao173.npy,0\\ndesenergizacao174.npy,0\\ndesenergizacao175.npy,0\\ndesenergizacao176.npy,0\\ndesenergizacao177.npy,0\\ndesenergizacao178.npy,0\\ndesenergizacao179.npy,0\\ndesenergizacao180.npy,0\\ndesenergizacao181.npy,0\\ndesenergizacao182.npy,0\\ndesenergizacao183.npy,0\\ndesenergizacao184.npy,0\\ndesenergizacao185.npy,0\\ndesenergizacao186.npy,0\\ndesenergizacao187.npy,0\\ndesenergizacao188.npy,0\\ndesenergizacao189.npy,0\\ndesenergizacao190.npy,0\\ndesenergizacao191.npy,0\\ndesenergizacao192.npy,0\\ndesenergizacao193.npy,0\\ndesenergizacao194.npy,0\\ndesenergizacao195.npy,0\\ndesenergizacao196.npy,0\\ndesenergizacao197.npy,0\\ndesenergizacao198.npy,0\\ndesenergizacao199.npy,0\\ndesenergizacao200.npy,0\\ndesenergizacao201.npy,0\\ndesenergizacao202.npy,0\\ndesenergizacao203.npy,0\\ndesenergizacao204.npy,0\\ndesenergizacao205.npy,0\\ndesenergizacao206.npy,0\\ndesenergizacao207.npy,0\\ndesenergizacao208.npy,0\\ndesenergizacao209.npy,0\\ndesenergizacao210.npy,0\\ndesenergizacao211.npy,0\\ndesenergizacao212.npy,0\\ndesenergizacao213.npy,0\\ndesenergizacao214.npy,0\\ndesenergizacao215.npy,0\\ndesenergizacao216.npy,0\\ndesenergizacao217.npy,0\\ndesenergizacao218.npy,0\\ndesenergizacao219.npy,0\\ndesenergizacao220.npy,0\\ndesenergizacao221.npy,0\\ndesenergizacao222.npy,0\\ndesenergizacao223.npy,0\\ndesenergizacao224.npy,0\\ndesenergizacao225.npy,0\\ndesenergizacao226.npy,0\\ndesenergizacao227.npy,0\\ndesenergizacao228.npy,0\\ndesenergizacao229.npy,0\\ndesenergizacao230.npy,0\\ndesenergizacao231.npy,0\\ndesenergizacao232.npy,0\\ndesenergizacao233.npy,0\\ndesenergizacao234.npy,0\\ndesenergizacao235.npy,0\\ndesenergizacao236.npy,0\\ndesenergizacao237.npy,0\\ndesenergizacao238.npy,0\\ndesenergizacao239.npy,0\\ndesenergizacao240.npy,0\\ndesenergizacao241.npy,0\\ndesenergizacao242.npy,0\\ndesenergizacao243.npy,0\\ndesenergizacao244.npy,0\\ndesenergizacao245.npy,0\\ndesenergizacao246.npy,0\\ndesenergizacao247.npy,0\\ndesenergizacao248.npy,0\\ndesenergizacao249.npy,0\\ndesenergizacao250.npy,0\\ndesenergizacao251.npy,0\\ndesenergizacao252.npy,0\\ndesenergizacao253.npy,0\\ndesenergizacao254.npy,0\\ndesenergizacao255.npy,0\\ndesenergizacao256.npy,0\\ndesenergizacao257.npy,0\\ndesenergizacao258.npy,0\\ndesenergizacao259.npy,0\\ndesenergizacao260.npy,0\\ndesenergizacao261.npy,0\\ndesenergizacao262.npy,0\\ndesenergizacao263.npy,0\\ndesenergizacao264.npy,0\\ndesenergizacao265.npy,0\\ndesenergizacao266.npy,0\\ndesenergizacao267.npy,0\\ndesenergizacao268.npy,0\\ndesenergizacao269.npy,0\\ndesenergizacao270.npy,0\\ndesenergizacao271.npy,0\\ndesenergizacao272.npy,0\\ndesenergizacao273.npy,0\\ndesenergizacao274.npy,0\\ndesenergizacao275.npy,0\\ndesenergizacao276.npy,0\\ndesenergizacao277.npy,0\\ndesenergizacao278.npy,0\\ndesenergizacao279.npy,0\\ndesenergizacao280.npy,0\\ndesenergizacao281.npy,0\\ndesenergizacao282.npy,0\\ndesenergizacao283.npy,0\\ndesenergizacao284.npy,0\\ndesenergizacao285.npy,0\\ndesenergizacao286.npy,0\\ndesenergizacao287.npy,0\\ndesenergizacao288.npy,0\\ndesenergizacao289.npy,0\\ndesenergizacao290.npy,0\\ndesenergizacao291.npy,0\\ndesenergizacao292.npy,0\\ndesenergizacao293.npy,0\\ndesenergizacao294.npy,0\\ndesenergizacao295.npy,0\\ndesenergizacao296.npy,0\\ndesenergizacao297.npy,0\\ndesenergizacao298.npy,0\\ndesenergizacao299.npy,0\\ndesenergizacao300.npy,0\\nincrementoCarga1.npy,1\\nincrementoCarga2.npy,1\\nincrementoCarga3.npy,1\\nincrementoCarga4.npy,1\\nincrementoCarga5.npy,1\\nincrementoCarga6.npy,1\\nincrementoCarga7.npy,1\\nincrementoCarga8.npy,1\\nincrementoCarga9.npy,1\\nincrementoCarga10.npy,1\\nincrementoCarga11.npy,1\\nincrementoCarga12.npy,1\\nincrementoCarga13.npy,1\\nincrementoCarga14.npy,1\\nincrementoCarga15.npy,1\\nincrementoCarga16.npy,1\\nincrementoCarga17.npy,1\\nincrementoCarga18.npy,1\\nincrementoCarga19.npy,1\\nincrementoCarga20.npy,1\\nincrementoCarga21.npy,1\\nincrementoCarga22.npy,1\\nincrementoCarga23.npy,1\\nincrementoCarga24.npy,1\\nincrementoCarga25.npy,1\\nincrementoCarga26.npy,1\\nincrementoCarga27.npy,1\\nincrementoCarga28.npy,1\\nincrementoCarga29.npy,1\\nincrementoCarga30.npy,1\\nincrementoCarga31.npy,1\\nincrementoCarga32.npy,1\\nincrementoCarga33.npy,1\\nincrementoCarga34.npy,1\\nincrementoCarga35.npy,1\\nincrementoCarga36.npy,1\\nincrementoCarga37.npy,1\\nincrementoCarga38.npy,1\\nincrementoCarga39.npy,1\\nincrementoCarga40.npy,1\\nincrementoCarga41.npy,1\\nincrementoCarga42.npy,1\\nincrementoCarga43.npy,1\\nincrementoCarga44.npy,1\\nincrementoCarga45.npy,1\\nincrementoCarga46.npy,1\\nincrementoCarga47.npy,1\\nincrementoCarga48.npy,1\\nincrementoCarga49.npy,1\\nincrementoCarga50.npy,1\\nincrementoCarga51.npy,1\\nincrementoCarga52.npy,1\\nincrementoCarga53.npy,1\\nincrementoCarga54.npy,1\\nincrementoCarga55.npy,1\\nincrementoCarga56.npy,1\\nincrementoCarga57.npy,1\\nincrementoCarga58.npy,1\\nincrementoCarga59.npy,1\\nincrementoCarga60.npy,1\\nincrementoCarga61.npy,1\\nincrementoCarga62.npy,1\\nincrementoCarga63.npy,1\\nincrementoCarga64.npy,1\\nincrementoCarga65.npy,1\\nincrementoCarga66.npy,1\\nincrementoCarga67.npy,1\\nincrementoCarga68.npy,1\\nincrementoCarga69.npy,1\\nincrementoCarga70.npy,1\\nincrementoCarga71.npy,1\\nincrementoCarga72.npy,1\\nincrementoCarga73.npy,1\\nincrementoCarga74.npy,1\\nincrementoCarga75.npy,1\\nincrementoCarga76.npy,1\\nincrementoCarga77.npy,1\\nincrementoCarga78.npy,1\\nincrementoCarga79.npy,1\\nincrementoCarga80.npy,1\\nincrementoCarga81.npy,1\\nincrementoCarga82.npy,1\\nincrementoCarga83.npy,1\\nincrementoCarga84.npy,1\\nincrementoCarga85.npy,1\\nincrementoCarga86.npy,1\\nincrementoCarga87.npy,1\\nincrementoCarga88.npy,1\\nincrementoCarga89.npy,1\\nincrementoCarga90.npy,1\\nincrementoCarga91.npy,1\\nincrementoCarga92.npy,1\\nincrementoCarga93.npy,1\\nincrementoCarga94.npy,1\\nincrementoCarga95.npy,1\\nincrementoCarga96.npy,1\\nincrementoCarga97.npy,1\\nincrementoCarga98.npy,1\\nincrementoCarga99.npy,1\\nincrementoCarga100.npy,1\\nincrementoCarga101.npy,1\\nincrementoCarga102.npy,1\\nincrementoCarga103.npy,1\\nincrementoCarga104.npy,1\\nincrementoCarga105.npy,1\\nincrementoCarga106.npy,1\\nincrementoCarga107.npy,1\\nincrementoCarga108.npy,1\\nincrementoCarga109.npy,1\\nincrementoCarga110.npy,1\\nincrementoCarga111.npy,1\\nincrementoCarga112.npy,1\\nincrementoCarga113.npy,1\\nincrementoCarga114.npy,1\\nincrementoCarga115.npy,1\\nincrementoCarga116.npy,1\\nincrementoCarga117.npy,1\\nincrementoCarga118.npy,1\\nincrementoCarga119.npy,1\\nincrementoCarga120.npy,1\\nincrementoCarga121.npy,1\\nincrementoCarga122.npy,1\\nincrementoCarga123.npy,1\\nincrementoCarga124.npy,1\\nincrementoCarga125.npy,1\\nincrementoCarga126.npy,1\\nincrementoCarga127.npy,1\\nincrementoCarga128.npy,1\\nincrementoCarga129.npy,1\\nincrementoCarga130.npy,1\\nincrementoCarga131.npy,1\\nincrementoCarga132.npy,1\\nincrementoCarga133.npy,1\\nincrementoCarga134.npy,1\\nincrementoCarga135.npy,1\\nincrementoCarga136.npy,1\\nincrementoCarga137.npy,1\\nincrementoCarga138.npy,1\\nincrementoCarga139.npy,1\\nincrementoCarga140.npy,1\\nincrementoCarga141.npy,1\\nincrementoCarga142.npy,1\\nincrementoCarga143.npy,1\\nincrementoCarga144.npy,1\\nincrementoCarga145.npy,1\\nincrementoCarga146.npy,1\\nincrementoCarga147.npy,1\\nincrementoCarga148.npy,1\\nincrementoCarga149.npy,1\\nincrementoCarga150.npy,1\\nincrementoCarga151.npy,1\\nincrementoCarga152.npy,1\\nincrementoCarga153.npy,1\\nincrementoCarga154.npy,1\\nincrementoCarga155.npy,1\\nincrementoCarga156.npy,1\\nincrementoCarga157.npy,1\\nincrementoCarga158.npy,1\\nincrementoCarga159.npy,1\\nincrementoCarga160.npy,1\\nincrementoCarga161.npy,1\\nincrementoCarga162.npy,1\\nincrementoCarga163.npy,1\\nincrementoCarga164.npy,1\\nincrementoCarga165.npy,1\\nincrementoCarga166.npy,1\\nincrementoCarga167.npy,1\\nincrementoCarga168.npy,1\\nincrementoCarga169.npy,1\\nincrementoCarga170.npy,1\\nincrementoCarga171.npy,1\\nincrementoCarga172.npy,1\\nincrementoCarga173.npy,1\\nincrementoCarga174.npy,1\\nincrementoCarga175.npy,1\\nincrementoCarga176.npy,1\\nincrementoCarga177.npy,1\\nincrementoCarga178.npy,1\\nincrementoCarga179.npy,1\\nincrementoCarga180.npy,1\\nincrementoCarga181.npy,1\\nincrementoCarga182.npy,1\\nincrementoCarga183.npy,1\\nincrementoCarga184.npy,1\\nincrementoCarga185.npy,1\\nincrementoCarga186.npy,1\\nincrementoCarga187.npy,1\\nincrementoCarga188.npy,1\\nincrementoCarga189.npy,1\\nincrementoCarga190.npy,1\\nincrementoCarga191.npy,1\\nincrementoCarga192.npy,1\\nincrementoCarga193.npy,1\\nincrementoCarga194.npy,1\\nincrementoCarga195.npy,1\\nincrementoCarga196.npy,1\\nincrementoCarga197.npy,1\\nincrementoCarga198.npy,1\\nincrementoCarga199.npy,1\\nincrementoCarga200.npy,1\\nincrementoCarga201.npy,1\\nincrementoCarga202.npy,1\\nincrementoCarga203.npy,1\\nincrementoCarga204.npy,1\\nincrementoCarga205.npy,1\\nincrementoCarga206.npy,1\\nincrementoCarga207.npy,1\\nincrementoCarga208.npy,1\\nincrementoCarga209.npy,1\\nincrementoCarga210.npy,1\\nincrementoCarga211.npy,1\\nincrementoCarga212.npy,1\\nincrementoCarga213.npy,1\\nincrementoCarga214.npy,1\\nincrementoCarga215.npy,1\\nincrementoCarga216.npy,1\\nincrementoCarga217.npy,1\\nincrementoCarga218.npy,1\\nincrementoCarga219.npy,1\\nincrementoCarga220.npy,1\\nincrementoCarga221.npy,1\\nincrementoCarga222.npy,1\\nincrementoCarga223.npy,1\\nincrementoCarga224.npy,1\\nincrementoCarga225.npy,1\\nincrementoCarga226.npy,1\\nincrementoCarga227.npy,1\\nincrementoCarga228.npy,1\\nincrementoCarga229.npy,1\\nincrementoCarga230.npy,1\\nincrementoCarga231.npy,1\\nincrementoCarga232.npy,1\\nincrementoCarga233.npy,1\\nincrementoCarga234.npy,1\\nincrementoCarga235.npy,1\\nincrementoCarga236.npy,1\\nincrementoCarga237.npy,1\\nincrementoCarga238.npy,1\\nincrementoCarga239.npy,1\\nincrementoCarga240.npy,1\\nincrementoCarga241.npy,1\\nincrementoCarga242.npy,1\\nincrementoCarga243.npy,1\\nincrementoCarga244.npy,1\\nincrementoCarga245.npy,1\\nincrementoCarga246.npy,1\\nincrementoCarga247.npy,1\\nincrementoCarga248.npy,1\\nincrementoCarga249.npy,1\\nincrementoCarga250.npy,1\\nincrementoCarga251.npy,1\\nincrementoCarga252.npy,1\\nincrementoCarga253.npy,1\\nincrementoCarga254.npy,1\\nincrementoCarga255.npy,1\\nincrementoCarga256.npy,1\\nincrementoCarga257.npy,1\\nincrementoCarga258.npy,1\\nincrementoCarga259.npy,1\\nincrementoCarga260.npy,1\\nincrementoCarga261.npy,1\\nincrementoCarga262.npy,1\\nincrementoCarga263.npy,1\\nincrementoCarga264.npy,1\\nincrementoCarga265.npy,1\\nincrementoCarga266.npy,1\\nincrementoCarga267.npy,1\\nincrementoCarga268.npy,1\\nincrementoCarga269.npy,1\\nincrementoCarga270.npy,1\\nincrementoCarga271.npy,1\\nincrementoCarga272.npy,1\\nincrementoCarga273.npy,1\\nincrementoCarga274.npy,1\\nincrementoCarga275.npy,1\\nincrementoCarga276.npy,1\\nincrementoCarga277.npy,1\\nincrementoCarga278.npy,1\\nincrementoCarga279.npy,1\\nincrementoCarga280.npy,1\\nincrementoCarga281.npy,1\\nincrementoCarga282.npy,1\\nincrementoCarga283.npy,1\\nincrementoCarga284.npy,1\\nincrementoCarga285.npy,1\\nincrementoCarga286.npy,1\\nincrementoCarga287.npy,1\\nincrementoCarga288.npy,1\\nincrementoCarga289.npy,1\\nincrementoCarga290.npy,1\\nincrementoCarga291.npy,1\\nincrementoCarga292.npy,1\\nincrementoCarga293.npy,1\\nincrementoCarga294.npy,1\\nincrementoCarga295.npy,1\\nincrementoCarga296.npy,1\\nincrementoCarga297.npy,1\\nincrementoCarga298.npy,1\\nincrementoCarga299.npy,1\\nincrementoCarga300.npy,1\\ndecrementoCarga1.npy,2\\ndecrementoCarga2.npy,2\\ndecrementoCarga3.npy,2\\ndecrementoCarga4.npy,2\\ndecrementoCarga5.npy,2\\ndecrementoCarga6.npy,2\\ndecrementoCarga7.npy,2\\ndecrementoCarga8.npy,2\\ndecrementoCarga9.npy,2\\ndecrementoCarga10.npy,2\\ndecrementoCarga11.npy,2\\ndecrementoCarga12.npy,2\\ndecrementoCarga13.npy,2\\ndecrementoCarga14.npy,2\\ndecrementoCarga15.npy,2\\ndecrementoCarga16.npy,2\\ndecrementoCarga17.npy,2\\ndecrementoCarga18.npy,2\\ndecrementoCarga19.npy,2\\ndecrementoCarga20.npy,2\\ndecrementoCarga21.npy,2\\ndecrementoCarga22.npy,2\\ndecrementoCarga23.npy,2\\ndecrementoCarga24.npy,2\\ndecrementoCarga25.npy,2\\ndecrementoCarga26.npy,2\\ndecrementoCarga27.npy,2\\ndecrementoCarga28.npy,2\\ndecrementoCarga29.npy,2\\ndecrementoCarga30.npy,2\\ndecrementoCarga31.npy,2\\ndecrementoCarga32.npy,2\\ndecrementoCarga33.npy,2\\ndecrementoCarga34.npy,2\\ndecrementoCarga35.npy,2\\ndecrementoCarga36.npy,2\\ndecrementoCarga37.npy,2\\ndecrementoCarga38.npy,2\\ndecrementoCarga39.npy,2\\ndecrementoCarga40.npy,2\\ndecrementoCarga41.npy,2\\ndecrementoCarga42.npy,2\\ndecrementoCarga43.npy,2\\ndecrementoCarga44.npy,2\\ndecrementoCarga45.npy,2\\ndecrementoCarga46.npy,2\\ndecrementoCarga47.npy,2\\ndecrementoCarga48.npy,2\\ndecrementoCarga49.npy,2\\ndecrementoCarga50.npy,2\\ndecrementoCarga51.npy,2\\ndecrementoCarga52.npy,2\\ndecrementoCarga53.npy,2\\ndecrementoCarga54.npy,2\\ndecrementoCarga55.npy,2\\ndecrementoCarga56.npy,2\\ndecrementoCarga57.npy,2\\ndecrementoCarga58.npy,2\\ndecrementoCarga59.npy,2\\ndecrementoCarga60.npy,2\\ndecrementoCarga61.npy,2\\ndecrementoCarga62.npy,2\\ndecrementoCarga63.npy,2\\ndecrementoCarga64.npy,2\\ndecrementoCarga65.npy,2\\ndecrementoCarga66.npy,2\\ndecrementoCarga67.npy,2\\ndecrementoCarga68.npy,2\\ndecrementoCarga69.npy,2\\ndecrementoCarga70.npy,2\\ndecrementoCarga71.npy,2\\ndecrementoCarga72.npy,2\\ndecrementoCarga73.npy,2\\ndecrementoCarga74.npy,2\\ndecrementoCarga75.npy,2\\ndecrementoCarga76.npy,2\\ndecrementoCarga77.npy,2\\ndecrementoCarga78.npy,2\\ndecrementoCarga79.npy,2\\ndecrementoCarga80.npy,2\\ndecrementoCarga81.npy,2\\ndecrementoCarga82.npy,2\\ndecrementoCarga83.npy,2\\ndecrementoCarga84.npy,2\\ndecrementoCarga85.npy,2\\ndecrementoCarga86.npy,2\\ndecrementoCarga87.npy,2\\ndecrementoCarga88.npy,2\\ndecrementoCarga89.npy,2\\ndecrementoCarga90.npy,2\\ndecrementoCarga91.npy,2\\ndecrementoCarga92.npy,2\\ndecrementoCarga93.npy,2\\ndecrementoCarga94.npy,2\\ndecrementoCarga95.npy,2\\ndecrementoCarga96.npy,2\\ndecrementoCarga97.npy,2\\ndecrementoCarga98.npy,2\\ndecrementoCarga99.npy,2\\ndecrementoCarga100.npy,2\\ndecrementoCarga101.npy,2\\ndecrementoCarga102.npy,2\\ndecrementoCarga103.npy,2\\ndecrementoCarga104.npy,2\\ndecrementoCarga105.npy,2\\ndecrementoCarga106.npy,2\\ndecrementoCarga107.npy,2\\ndecrementoCarga108.npy,2\\ndecrementoCarga109.npy,2\\ndecrementoCarga110.npy,2\\ndecrementoCarga111.npy,2\\ndecrementoCarga112.npy,2\\ndecrementoCarga113.npy,2\\ndecrementoCarga114.npy,2\\ndecrementoCarga115.npy,2\\ndecrementoCarga116.npy,2\\ndecrementoCarga117.npy,2\\ndecrementoCarga118.npy,2\\ndecrementoCarga119.npy,2\\ndecrementoCarga120.npy,2\\ndecrementoCarga121.npy,2\\ndecrementoCarga122.npy,2\\ndecrementoCarga123.npy,2\\ndecrementoCarga124.npy,2\\ndecrementoCarga125.npy,2\\ndecrementoCarga126.npy,2\\ndecrementoCarga127.npy,2\\ndecrementoCarga128.npy,2\\ndecrementoCarga129.npy,2\\ndecrementoCarga130.npy,2\\ndecrementoCarga131.npy,2\\ndecrementoCarga132.npy,2\\ndecrementoCarga133.npy,2\\ndecrementoCarga134.npy,2\\ndecrementoCarga135.npy,2\\ndecrementoCarga136.npy,2\\ndecrementoCarga137.npy,2\\ndecrementoCarga138.npy,2\\ndecrementoCarga139.npy,2\\ndecrementoCarga140.npy,2\\ndecrementoCarga141.npy,2\\ndecrementoCarga142.npy,2\\ndecrementoCarga143.npy,2\\ndecrementoCarga144.npy,2\\ndecrementoCarga145.npy,2\\ndecrementoCarga146.npy,2\\ndecrementoCarga147.npy,2\\ndecrementoCarga148.npy,2\\ndecrementoCarga149.npy,2\\ndecrementoCarga150.npy,2\\ndecrementoCarga151.npy,2\\ndecrementoCarga152.npy,2\\ndecrementoCarga153.npy,2\\ndecrementoCarga154.npy,2\\ndecrementoCarga155.npy,2\\ndecrementoCarga156.npy,2\\ndecrementoCarga157.npy,2\\ndecrementoCarga158.npy,2\\ndecrementoCarga159.npy,2\\ndecrementoCarga160.npy,2\\ndecrementoCarga161.npy,2\\ndecrementoCarga162.npy,2\\ndecrementoCarga163.npy,2\\ndecrementoCarga164.npy,2\\ndecrementoCarga165.npy,2\\ndecrementoCarga166.npy,2\\ndecrementoCarga167.npy,2\\ndecrementoCarga168.npy,2\\ndecrementoCarga169.npy,2\\ndecrementoCarga170.npy,2\\ndecrementoCarga171.npy,2\\ndecrementoCarga172.npy,2\\ndecrementoCarga173.npy,2\\ndecrementoCarga174.npy,2\\ndecrementoCarga175.npy,2\\ndecrementoCarga176.npy,2\\ndecrementoCarga177.npy,2\\ndecrementoCarga178.npy,2\\ndecrementoCarga179.npy,2\\ndecrementoCarga180.npy,2\\ndecrementoCarga181.npy,2\\ndecrementoCarga182.npy,2\\ndecrementoCarga183.npy,2\\ndecrementoCarga184.npy,2\\ndecrementoCarga185.npy,2\\ndecrementoCarga186.npy,2\\ndecrementoCarga187.npy,2\\ndecrementoCarga188.npy,2\\ndecrementoCarga189.npy,2\\ndecrementoCarga190.npy,2\\ndecrementoCarga191.npy,2\\ndecrementoCarga192.npy,2\\ndecrementoCarga193.npy,2\\ndecrementoCarga194.npy,2\\ndecrementoCarga195.npy,2\\ndecrementoCarga196.npy,2\\ndecrementoCarga197.npy,2\\ndecrementoCarga198.npy,2\\ndecrementoCarga199.npy,2\\ndecrementoCarga200.npy,2\\ndecrementoCarga201.npy,2\\ndecrementoCarga202.npy,2\\ndecrementoCarga203.npy,2\\ndecrementoCarga204.npy,2\\ndecrementoCarga205.npy,2\\ndecrementoCarga206.npy,2\\ndecrementoCarga207.npy,2\\ndecrementoCarga208.npy,2\\ndecrementoCarga209.npy,2\\ndecrementoCarga210.npy,2\\ndecrementoCarga211.npy,2\\ndecrementoCarga212.npy,2\\ndecrementoCarga213.npy,2\\ndecrementoCarga214.npy,2\\ndecrementoCarga215.npy,2\\ndecrementoCarga216.npy,2\\ndecrementoCarga217.npy,2\\ndecrementoCarga218.npy,2\\ndecrementoCarga219.npy,2\\ndecrementoCarga220.npy,2\\ndecrementoCarga221.npy,2\\ndecrementoCarga222.npy,2\\ndecrementoCarga223.npy,2\\ndecrementoCarga224.npy,2\\ndecrementoCarga225.npy,2\\ndecrementoCarga226.npy,2\\ndecrementoCarga227.npy,2\\ndecrementoCarga228.npy,2\\ndecrementoCarga229.npy,2\\ndecrementoCarga230.npy,2\\ndecrementoCarga231.npy,2\\ndecrementoCarga232.npy,2\\ndecrementoCarga233.npy,2\\ndecrementoCarga234.npy,2\\ndecrementoCarga235.npy,2\\ndecrementoCarga236.npy,2\\ndecrementoCarga237.npy,2\\ndecrementoCarga238.npy,2\\ndecrementoCarga239.npy,2\\ndecrementoCarga240.npy,2\\ndecrementoCarga241.npy,2\\ndecrementoCarga242.npy,2\\ndecrementoCarga243.npy,2\\ndecrementoCarga244.npy,2\\ndecrementoCarga245.npy,2\\ndecrementoCarga246.npy,2\\ndecrementoCarga247.npy,2\\ndecrementoCarga248.npy,2\\ndecrementoCarga249.npy,2\\ndecrementoCarga250.npy,2\\ndecrementoCarga251.npy,2\\ndecrementoCarga252.npy,2\\ndecrementoCarga253.npy,2\\ndecrementoCarga254.npy,2\\ndecrementoCarga255.npy,2\\ndecrementoCarga256.npy,2\\ndecrementoCarga257.npy,2\\ndecrementoCarga258.npy,2\\ndecrementoCarga259.npy,2\\ndecrementoCarga260.npy,2\\ndecrementoCarga261.npy,2\\ndecrementoCarga262.npy,2\\ndecrementoCarga263.npy,2\\ndecrementoCarga264.npy,2\\ndecrementoCarga265.npy,2\\ndecrementoCarga266.npy,2\\ndecrementoCarga267.npy,2\\ndecrementoCarga268.npy,2\\ndecrementoCarga269.npy,2\\ndecrementoCarga270.npy,2\\ndecrementoCarga271.npy,2\\ndecrementoCarga272.npy,2\\ndecrementoCarga273.npy,2\\ndecrementoCarga274.npy,2\\ndecrementoCarga275.npy,2\\ndecrementoCarga276.npy,2\\ndecrementoCarga277.npy,2\\ndecrementoCarga278.npy,2\\ndecrementoCarga279.npy,2\\ndecrementoCarga280.npy,2\\ndecrementoCarga281.npy,2\\ndecrementoCarga282.npy,2\\ndecrementoCarga283.npy,2\\ndecrementoCarga284.npy,2\\ndecrementoCarga285.npy,2\\ndecrementoCarga286.npy,2\\ndecrementoCarga287.npy,2\\ndecrementoCarga288.npy,2\\ndecrementoCarga289.npy,2\\ndecrementoCarga290.npy,2\\ndecrementoCarga291.npy,2\\ndecrementoCarga292.npy,2\\ndecrementoCarga293.npy,2\\ndecrementoCarga294.npy,2\\ndecrementoCarga295.npy,2\\ndecrementoCarga296.npy,2\\ndecrementoCarga297.npy,2\\ndecrementoCarga298.npy,2\\ndecrementoCarga299.npy,2\\ndecrementoCarga300.npy,2\\nFaltaMonoAT1.npy,3\\nFaltaMonoAT2.npy,3\\nFaltaMonoAT3.npy,3\\nFaltaMonoAT4.npy,3\\nFaltaMonoAT5.npy,3\\nFaltaMonoAT6.npy,3\\nFaltaMonoAT7.npy,3\\nFaltaMonoAT8.npy,3\\nFaltaMonoAT9.npy,3\\nFaltaMonoAT10.npy,3\\nFaltaMonoAT11.npy,3\\nFaltaMonoAT12.npy,3\\nFaltaMonoAT13.npy,3\\nFaltaMonoAT14.npy,3\\nFaltaMonoAT15.npy,3\\nFaltaMonoAT16.npy,3\\nFaltaMonoAT17.npy,3\\nFaltaMonoAT18.npy,3\\nFaltaMonoAT19.npy,3\\nFaltaMonoAT20.npy,3\\nFaltaMonoAT21.npy,3\\nFaltaMonoAT22.npy,3\\nFaltaMonoAT23.npy,3\\nFaltaMonoAT24.npy,3\\nFaltaMonoAT25.npy,3\\nFaltaMonoAT26.npy,3\\nFaltaMonoAT27.npy,3\\nFaltaMonoAT28.npy,3\\nFaltaMonoAT29.npy,3\\nFaltaMonoAT30.npy,3\\nFaltaMonoAT31.npy,3\\nFaltaMonoAT32.npy,3\\nFaltaMonoAT33.npy,3\\nFaltaMonoAT34.npy,3\\nFaltaMonoAT35.npy,3\\nFaltaMonoAT36.npy,3\\nFaltaMonoAT37.npy,3\\nFaltaMonoAT38.npy,3\\nFaltaMonoAT39.npy,3\\nFaltaMonoAT40.npy,3\\nFaltaMonoAT41.npy,3\\nFaltaMonoAT42.npy,3\\nFaltaMonoAT43.npy,3\\nFaltaMonoAT44.npy,3\\nFaltaMonoAT45.npy,3\\nFaltaMonoAT46.npy,3\\nFaltaMonoAT47.npy,3\\nFaltaMonoAT48.npy,3\\nFaltaMonoAT49.npy,3\\nFaltaMonoAT50.npy,3\\nFaltaMonoAT51.npy,3\\nFaltaMonoAT52.npy,3\\nFaltaMonoAT53.npy,3\\nFaltaMonoAT54.npy,3\\nFaltaMonoAT55.npy,3\\nFaltaMonoAT56.npy,3\\nFaltaMonoAT57.npy,3\\nFaltaMonoAT58.npy,3\\nFaltaMonoAT59.npy,3\\nFaltaMonoAT60.npy,3\\nFaltaMonoAT61.npy,3\\nFaltaMonoAT62.npy,3\\nFaltaMonoAT63.npy,3\\nFaltaMonoAT64.npy,3\\nFaltaMonoAT65.npy,3\\nFaltaMonoAT66.npy,3\\nFaltaMonoAT67.npy,3\\nFaltaMonoAT68.npy,3\\nFaltaMonoAT69.npy,3\\nFaltaMonoAT70.npy,3\\nFaltaMonoAT71.npy,3\\nFaltaMonoAT72.npy,3\\nFaltaMonoAT73.npy,3\\nFaltaMonoAT74.npy,3\\nFaltaMonoAT75.npy,3\\nFaltaMonoAT76.npy,3\\nFaltaMonoAT77.npy,3\\nFaltaMonoAT78.npy,3\\nFaltaMonoAT79.npy,3\\nFaltaMonoAT80.npy,3\\nFaltaMonoAT81.npy,3\\nFaltaMonoAT82.npy,3\\nFaltaMonoAT83.npy,3\\nFaltaMonoAT84.npy,3\\nFaltaMonoAT85.npy,3\\nFaltaMonoAT86.npy,3\\nFaltaMonoAT87.npy,3\\nFaltaMonoAT88.npy,3\\nFaltaMonoAT89.npy,3\\nFaltaMonoAT90.npy,3\\nFaltaMonoAT91.npy,3\\nFaltaMonoAT92.npy,3\\nFaltaMonoAT93.npy,3\\nFaltaMonoAT94.npy,3\\nFaltaMonoAT95.npy,3\\nFaltaMonoAT96.npy,3\\nFaltaMonoAT97.npy,3\\nFaltaMonoAT98.npy,3\\nFaltaMonoAT99.npy,3\\nFaltaMonoAT100.npy,3\\nFaltaMonoAT101.npy,3\\nFaltaMonoAT102.npy,3\\nFaltaMonoAT103.npy,3\\nFaltaMonoAT104.npy,3\\nFaltaMonoAT105.npy,3\\nFaltaMonoAT106.npy,3\\nFaltaMonoAT107.npy,3\\nFaltaMonoAT108.npy,3\\nFaltaMonoAT109.npy,3\\nFaltaMonoAT110.npy,3\\nFaltaMonoAT111.npy,3\\nFaltaMonoAT112.npy,3\\nFaltaMonoAT113.npy,3\\nFaltaMonoAT114.npy,3\\nFaltaMonoAT115.npy,3\\nFaltaMonoAT116.npy,3\\nFaltaMonoAT117.npy,3\\nFaltaMonoAT118.npy,3\\nFaltaMonoAT119.npy,3\\nFaltaMonoAT120.npy,3\\nFaltaMonoAT121.npy,3\\nFaltaMonoAT122.npy,3\\nFaltaMonoAT123.npy,3\\nFaltaMonoAT124.npy,3\\nFaltaMonoAT125.npy,3\\nFaltaMonoAT126.npy,3\\nFaltaMonoAT127.npy,3\\nFaltaMonoAT128.npy,3\\nFaltaMonoAT129.npy,3\\nFaltaMonoAT130.npy,3\\nFaltaMonoAT131.npy,3\\nFaltaMonoAT132.npy,3\\nFaltaMonoAT133.npy,3\\nFaltaMonoAT134.npy,3\\nFaltaMonoAT135.npy,3\\nFaltaMonoAT136.npy,3\\nFaltaMonoAT137.npy,3\\nFaltaMonoAT138.npy,3\\nFaltaMonoAT139.npy,3\\nFaltaMonoAT140.npy,3\\nFaltaMonoAT141.npy,3\\nFaltaMonoAT142.npy,3\\nFaltaMonoAT143.npy,3\\nFaltaMonoAT144.npy,3\\nFaltaMonoAT145.npy,3\\nFaltaMonoAT146.npy,3\\nFaltaMonoAT147.npy,3\\nFaltaMonoAT148.npy,3\\nFaltaMonoAT149.npy,3\\nFaltaMonoAT150.npy,3\\nFaltaMonoAT151.npy,3\\nFaltaMonoAT152.npy,3\\nFaltaMonoAT153.npy,3\\nFaltaMonoAT154.npy,3\\nFaltaMonoAT155.npy,3\\nFaltaMonoAT156.npy,3\\nFaltaMonoAT157.npy,3\\nFaltaMonoAT158.npy,3\\nFaltaMonoAT159.npy,3\\nFaltaMonoAT160.npy,3\\nFaltaMonoAT161.npy,3\\nFaltaMonoAT162.npy,3\\nFaltaMonoAT163.npy,3\\nFaltaMonoAT164.npy,3\\nFaltaMonoAT165.npy,3\\nFaltaMonoAT166.npy,3\\nFaltaMonoAT167.npy,3\\nFaltaMonoAT168.npy,3\\nFaltaMonoAT169.npy,3\\nFaltaMonoAT170.npy,3\\nFaltaMonoAT171.npy,3\\nFaltaMonoAT172.npy,3\\nFaltaMonoAT173.npy,3\\nFaltaMonoAT174.npy,3\\nFaltaMonoAT175.npy,3\\nFaltaMonoAT176.npy,3\\nFaltaMonoAT177.npy,3\\nFaltaMonoAT178.npy,3\\nFaltaMonoAT179.npy,3\\nFaltaMonoAT180.npy,3\\nFaltaMonoAT181.npy,3\\nFaltaMonoAT182.npy,3\\nFaltaMonoAT183.npy,3\\nFaltaMonoAT184.npy,3\\nFaltaMonoAT185.npy,3\\nFaltaMonoAT186.npy,3\\nFaltaMonoAT187.npy,3\\nFaltaMonoAT188.npy,3\\nFaltaMonoAT189.npy,3\\nFaltaMonoAT190.npy,3\\nFaltaMonoAT191.npy,3\\nFaltaMonoAT192.npy,3\\nFaltaMonoAT193.npy,3\\nFaltaMonoAT194.npy,3\\nFaltaMonoAT195.npy,3\\nFaltaMonoAT196.npy,3\\nFaltaMonoAT197.npy,3\\nFaltaMonoAT198.npy,3\\nFaltaMonoAT199.npy,3\\nFaltaMonoAT200.npy,3\\nFaltaMonoAT201.npy,3\\nFaltaMonoAT202.npy,3\\nFaltaMonoAT203.npy,3\\nFaltaMonoAT204.npy,3\\nFaltaMonoAT205.npy,3\\nFaltaMonoAT206.npy,3\\nFaltaMonoAT207.npy,3\\nFaltaMonoAT208.npy,3\\nFaltaMonoAT209.npy,3\\nFaltaMonoAT210.npy,3\\nFaltaMonoAT211.npy,3\\nFaltaMonoAT212.npy,3\\nFaltaMonoAT213.npy,3\\nFaltaMonoAT214.npy,3\\nFaltaMonoAT215.npy,3\\nFaltaMonoAT216.npy,3\\nFaltaMonoAT217.npy,3\\nFaltaMonoAT218.npy,3\\nFaltaMonoAT219.npy,3\\nFaltaMonoAT220.npy,3\\nFaltaMonoAT221.npy,3\\nFaltaMonoAT222.npy,3\\nFaltaMonoAT223.npy,3\\nFaltaMonoAT224.npy,3\\nFaltaMonoAT225.npy,3\\nFaltaMonoAT226.npy,3\\nFaltaMonoAT227.npy,3\\nFaltaMonoAT228.npy,3\\nFaltaMonoAT229.npy,3\\nFaltaMonoAT230.npy,3\\nFaltaMonoAT231.npy,3\\nFaltaMonoAT232.npy,3\\nFaltaMonoAT233.npy,3\\nFaltaMonoAT234.npy,3\\nFaltaMonoAT235.npy,3\\nFaltaMonoAT236.npy,3\\nFaltaMonoAT237.npy,3\\nFaltaMonoAT238.npy,3\\nFaltaMonoAT239.npy,3\\nFaltaMonoAT240.npy,3\\nFaltaMonoAT241.npy,3\\nFaltaMonoAT242.npy,3\\nFaltaMonoAT243.npy,3\\nFaltaMonoAT244.npy,3\\nFaltaMonoAT245.npy,3\\nFaltaMonoAT246.npy,3\\nFaltaMonoAT247.npy,3\\nFaltaMonoAT248.npy,3\\nFaltaMonoAT249.npy,3\\nFaltaMonoAT250.npy,3\\nFaltaMonoAT251.npy,3\\nFaltaMonoAT252.npy,3\\nFaltaMonoAT253.npy,3\\nFaltaMonoAT254.npy,3\\nFaltaMonoAT255.npy,3\\nFaltaMonoAT256.npy,3\\nFaltaMonoAT257.npy,3\\nFaltaMonoAT258.npy,3\\nFaltaMonoAT259.npy,3\\nFaltaMonoAT260.npy,3\\nFaltaMonoAT261.npy,3\\nFaltaMonoAT262.npy,3\\nFaltaMonoAT263.npy,3\\nFaltaMonoAT264.npy,3\\nFaltaMonoAT265.npy,3\\nFaltaMonoAT266.npy,3\\nFaltaMonoAT267.npy,3\\nFaltaMonoAT268.npy,3\\nFaltaMonoAT269.npy,3\\nFaltaMonoAT270.npy,3\\nFaltaMonoAT271.npy,3\\nFaltaMonoAT272.npy,3\\nFaltaMonoAT273.npy,3\\nFaltaMonoAT274.npy,3\\nFaltaMonoAT275.npy,3\\nFaltaMonoAT276.npy,3\\nFaltaMonoAT277.npy,3\\nFaltaMonoAT278.npy,3\\nFaltaMonoAT279.npy,3\\nFaltaMonoAT280.npy,3\\nFaltaMonoAT281.npy,3\\nFaltaMonoAT282.npy,3\\nFaltaMonoAT283.npy,3\\nFaltaMonoAT284.npy,3\\nFaltaMonoAT285.npy,3\\nFaltaMonoAT286.npy,3\\nFaltaMonoAT287.npy,3\\nFaltaMonoAT288.npy,3\\nFaltaMonoAT289.npy,3\\nFaltaMonoAT290.npy,3\\nFaltaMonoAT291.npy,3\\nFaltaMonoAT292.npy,3\\nFaltaMonoAT293.npy,3\\nFaltaMonoAT294.npy,3\\nFaltaMonoAT295.npy,3\\nFaltaMonoAT296.npy,3\\nFaltaMonoAT297.npy,3\\nFaltaMonoAT298.npy,3\\nFaltaMonoAT299.npy,3\\nFaltaMonoAT300.npy,3\\nFaltaMonoBT1.npy,4\\nFaltaMonoBT2.npy,4\\nFaltaMonoBT3.npy,4\\nFaltaMonoBT4.npy,4\\nFaltaMonoBT5.npy,4\\nFaltaMonoBT6.npy,4\\nFaltaMonoBT7.npy,4\\nFaltaMonoBT8.npy,4\\nFaltaMonoBT9.npy,4\\nFaltaMonoBT10.npy,4\\nFaltaMonoBT11.npy,4\\nFaltaMonoBT12.npy,4\\nFaltaMonoBT13.npy,4\\nFaltaMonoBT14.npy,4\\nFaltaMonoBT15.npy,4\\nFaltaMonoBT16.npy,4\\nFaltaMonoBT17.npy,4\\nFaltaMonoBT18.npy,4\\nFaltaMonoBT19.npy,4\\nFaltaMonoBT20.npy,4\\nFaltaMonoBT21.npy,4\\nFaltaMonoBT22.npy,4\\nFaltaMonoBT23.npy,4\\nFaltaMonoBT24.npy,4\\nFaltaMonoBT25.npy,4\\nFaltaMonoBT26.npy,4\\nFaltaMonoBT27.npy,4\\nFaltaMonoBT28.npy,4\\nFaltaMonoBT29.npy,4\\nFaltaMonoBT30.npy,4\\nFaltaMonoBT31.npy,4\\nFaltaMonoBT32.npy,4\\nFaltaMonoBT33.npy,4\\nFaltaMonoBT34.npy,4\\nFaltaMonoBT35.npy,4\\nFaltaMonoBT36.npy,4\\nFaltaMonoBT37.npy,4\\nFaltaMonoBT38.npy,4\\nFaltaMonoBT39.npy,4\\nFaltaMonoBT40.npy,4\\nFaltaMonoBT41.npy,4\\nFaltaMonoBT42.npy,4\\nFaltaMonoBT43.npy,4\\nFaltaMonoBT44.npy,4\\nFaltaMonoBT45.npy,4\\nFaltaMonoBT46.npy,4\\nFaltaMonoBT47.npy,4\\nFaltaMonoBT48.npy,4\\nFaltaMonoBT49.npy,4\\nFaltaMonoBT50.npy,4\\nFaltaMonoBT51.npy,4\\nFaltaMonoBT52.npy,4\\nFaltaMonoBT53.npy,4\\nFaltaMonoBT54.npy,4\\nFaltaMonoBT55.npy,4\\nFaltaMonoBT56.npy,4\\nFaltaMonoBT57.npy,4\\nFaltaMonoBT58.npy,4\\nFaltaMonoBT59.npy,4\\nFaltaMonoBT60.npy,4\\nFaltaMonoBT61.npy,4\\nFaltaMonoBT62.npy,4\\nFaltaMonoBT63.npy,4\\nFaltaMonoBT64.npy,4\\nFaltaMonoBT65.npy,4\\nFaltaMonoBT66.npy,4\\nFaltaMonoBT67.npy,4\\nFaltaMonoBT68.npy,4\\nFaltaMonoBT69.npy,4\\nFaltaMonoBT70.npy,4\\nFaltaMonoBT71.npy,4\\nFaltaMonoBT72.npy,4\\nFaltaMonoBT73.npy,4\\nFaltaMonoBT74.npy,4\\nFaltaMonoBT75.npy,4\\nFaltaMonoBT76.npy,4\\nFaltaMonoBT77.npy,4\\nFaltaMonoBT78.npy,4\\nFaltaMonoBT79.npy,4\\nFaltaMonoBT80.npy,4\\nFaltaMonoBT81.npy,4\\nFaltaMonoBT82.npy,4\\nFaltaMonoBT83.npy,4\\nFaltaMonoBT84.npy,4\\nFaltaMonoBT85.npy,4\\nFaltaMonoBT86.npy,4\\nFaltaMonoBT87.npy,4\\nFaltaMonoBT88.npy,4\\nFaltaMonoBT89.npy,4\\nFaltaMonoBT90.npy,4\\nFaltaMonoBT91.npy,4\\nFaltaMonoBT92.npy,4\\nFaltaMonoBT93.npy,4\\nFaltaMonoBT94.npy,4\\nFaltaMonoBT95.npy,4\\nFaltaMonoBT96.npy,4\\nFaltaMonoBT97.npy,4\\nFaltaMonoBT98.npy,4\\nFaltaMonoBT99.npy,4\\nFaltaMonoBT100.npy,4\\nFaltaMonoBT101.npy,4\\nFaltaMonoBT102.npy,4\\nFaltaMonoBT103.npy,4\\nFaltaMonoBT104.npy,4\\nFaltaMonoBT105.npy,4\\nFaltaMonoBT106.npy,4\\nFaltaMonoBT107.npy,4\\nFaltaMonoBT108.npy,4\\nFaltaMonoBT109.npy,4\\nFaltaMonoBT110.npy,4\\nFaltaMonoBT111.npy,4\\nFaltaMonoBT112.npy,4\\nFaltaMonoBT113.npy,4\\nFaltaMonoBT114.npy,4\\nFaltaMonoBT115.npy,4\\nFaltaMonoBT116.npy,4\\nFaltaMonoBT117.npy,4\\nFaltaMonoBT118.npy,4\\nFaltaMonoBT119.npy,4\\nFaltaMonoBT120.npy,4\\nFaltaMonoBT121.npy,4\\nFaltaMonoBT122.npy,4\\nFaltaMonoBT123.npy,4\\nFaltaMonoBT124.npy,4\\nFaltaMonoBT125.npy,4\\nFaltaMonoBT126.npy,4\\nFaltaMonoBT127.npy,4\\nFaltaMonoBT128.npy,4\\nFaltaMonoBT129.npy,4\\nFaltaMonoBT130.npy,4\\nFaltaMonoBT131.npy,4\\nFaltaMonoBT132.npy,4\\nFaltaMonoBT133.npy,4\\nFaltaMonoBT134.npy,4\\nFaltaMonoBT135.npy,4\\nFaltaMonoBT136.npy,4\\nFaltaMonoBT137.npy,4\\nFaltaMonoBT138.npy,4\\nFaltaMonoBT139.npy,4\\nFaltaMonoBT140.npy,4\\nFaltaMonoBT141.npy,4\\nFaltaMonoBT142.npy,4\\nFaltaMonoBT143.npy,4\\nFaltaMonoBT144.npy,4\\nFaltaMonoBT145.npy,4\\nFaltaMonoBT146.npy,4\\nFaltaMonoBT147.npy,4\\nFaltaMonoBT148.npy,4\\nFaltaMonoBT149.npy,4\\nFaltaMonoBT150.npy,4\\nFaltaMonoBT151.npy,4\\nFaltaMonoBT152.npy,4\\nFaltaMonoBT153.npy,4\\nFaltaMonoBT154.npy,4\\nFaltaMonoBT155.npy,4\\nFaltaMonoBT156.npy,4\\nFaltaMonoBT157.npy,4\\nFaltaMonoBT158.npy,4\\nFaltaMonoBT159.npy,4\\nFaltaMonoBT160.npy,4\\nFaltaMonoBT161.npy,4\\nFaltaMonoBT162.npy,4\\nFaltaMonoBT163.npy,4\\nFaltaMonoBT164.npy,4\\nFaltaMonoBT165.npy,4\\nFaltaMonoBT166.npy,4\\nFaltaMonoBT167.npy,4\\nFaltaMonoBT168.npy,4\\nFaltaMonoBT169.npy,4\\nFaltaMonoBT170.npy,4\\nFaltaMonoBT171.npy,4\\nFaltaMonoBT172.npy,4\\nFaltaMonoBT173.npy,4\\nFaltaMonoBT174.npy,4\\nFaltaMonoBT175.npy,4\\nFaltaMonoBT176.npy,4\\nFaltaMonoBT177.npy,4\\nFaltaMonoBT178.npy,4\\nFaltaMonoBT179.npy,4\\nFaltaMonoBT180.npy,4\\nFaltaMonoBT181.npy,4\\nFaltaMonoBT182.npy,4\\nFaltaMonoBT183.npy,4\\nFaltaMonoBT184.npy,4\\nFaltaMonoBT185.npy,4\\nFaltaMonoBT186.npy,4\\nFaltaMonoBT187.npy,4\\nFaltaMonoBT188.npy,4\\nFaltaMonoBT189.npy,4\\nFaltaMonoBT190.npy,4\\nFaltaMonoBT191.npy,4\\nFaltaMonoBT192.npy,4\\nFaltaMonoBT193.npy,4\\nFaltaMonoBT194.npy,4\\nFaltaMonoBT195.npy,4\\nFaltaMonoBT196.npy,4\\nFaltaMonoBT197.npy,4\\nFaltaMonoBT198.npy,4\\nFaltaMonoBT199.npy,4\\nFaltaMonoBT200.npy,4\\nFaltaMonoBT201.npy,4\\nFaltaMonoBT202.npy,4\\nFaltaMonoBT203.npy,4\\nFaltaMonoBT204.npy,4\\nFaltaMonoBT205.npy,4\\nFaltaMonoBT206.npy,4\\nFaltaMonoBT207.npy,4\\nFaltaMonoBT208.npy,4\\nFaltaMonoBT209.npy,4\\nFaltaMonoBT210.npy,4\\nFaltaMonoBT211.npy,4\\nFaltaMonoBT212.npy,4\\nFaltaMonoBT213.npy,4\\nFaltaMonoBT214.npy,4\\nFaltaMonoBT215.npy,4\\nFaltaMonoBT216.npy,4\\nFaltaMonoBT217.npy,4\\nFaltaMonoBT218.npy,4\\nFaltaMonoBT219.npy,4\\nFaltaMonoBT220.npy,4\\nFaltaMonoBT221.npy,4\\nFaltaMonoBT222.npy,4\\nFaltaMonoBT223.npy,4\\nFaltaMonoBT224.npy,4\\nFaltaMonoBT225.npy,4\\nFaltaMonoBT226.npy,4\\nFaltaMonoBT227.npy,4\\nFaltaMonoBT228.npy,4\\nFaltaMonoBT229.npy,4\\nFaltaMonoBT230.npy,4\\nFaltaMonoBT231.npy,4\\nFaltaMonoBT232.npy,4\\nFaltaMonoBT233.npy,4\\nFaltaMonoBT234.npy,4\\nFaltaMonoBT235.npy,4\\nFaltaMonoBT236.npy,4\\nFaltaMonoBT237.npy,4\\nFaltaMonoBT238.npy,4\\nFaltaMonoBT239.npy,4\\nFaltaMonoBT240.npy,4\\nFaltaMonoBT241.npy,4\\nFaltaMonoBT242.npy,4\\nFaltaMonoBT243.npy,4\\nFaltaMonoBT244.npy,4\\nFaltaMonoBT245.npy,4\\nFaltaMonoBT246.npy,4\\nFaltaMonoBT247.npy,4\\nFaltaMonoBT248.npy,4\\nFaltaMonoBT249.npy,4\\nFaltaMonoBT250.npy,4\\nFaltaMonoBT251.npy,4\\nFaltaMonoBT252.npy,4\\nFaltaMonoBT253.npy,4\\nFaltaMonoBT254.npy,4\\nFaltaMonoBT255.npy,4\\nFaltaMonoBT256.npy,4\\nFaltaMonoBT257.npy,4\\nFaltaMonoBT258.npy,4\\nFaltaMonoBT259.npy,4\\nFaltaMonoBT260.npy,4\\nFaltaMonoBT261.npy,4\\nFaltaMonoBT262.npy,4\\nFaltaMonoBT263.npy,4\\nFaltaMonoBT264.npy,4\\nFaltaMonoBT265.npy,4\\nFaltaMonoBT266.npy,4\\nFaltaMonoBT267.npy,4\\nFaltaMonoBT268.npy,4\\nFaltaMonoBT269.npy,4\\nFaltaMonoBT270.npy,4\\nFaltaMonoBT271.npy,4\\nFaltaMonoBT272.npy,4\\nFaltaMonoBT273.npy,4\\nFaltaMonoBT274.npy,4\\nFaltaMonoBT275.npy,4\\nFaltaMonoBT276.npy,4\\nFaltaMonoBT277.npy,4\\nFaltaMonoBT278.npy,4\\nFaltaMonoBT279.npy,4\\nFaltaMonoBT280.npy,4\\nFaltaMonoBT281.npy,4\\nFaltaMonoBT282.npy,4\\nFaltaMonoBT283.npy,4\\nFaltaMonoBT284.npy,4\\nFaltaMonoBT285.npy,4\\nFaltaMonoBT286.npy,4\\nFaltaMonoBT287.npy,4\\nFaltaMonoBT288.npy,4\\nFaltaMonoBT289.npy,4\\nFaltaMonoBT290.npy,4\\nFaltaMonoBT291.npy,4\\nFaltaMonoBT292.npy,4\\nFaltaMonoBT293.npy,4\\nFaltaMonoBT294.npy,4\\nFaltaMonoBT295.npy,4\\nFaltaMonoBT296.npy,4\\nFaltaMonoBT297.npy,4\\nFaltaMonoBT298.npy,4\\nFaltaMonoBT299.npy,4\\nFaltaMonoBT300.npy,4\\nFaltaBiAT1.npy,5\\nFaltaBiAT2.npy,5\\nFaltaBiAT3.npy,5\\nFaltaBiAT4.npy,5\\nFaltaBiAT5.npy,5\\nFaltaBiAT6.npy,5\\nFaltaBiAT7.npy,5\\nFaltaBiAT8.npy,5\\nFaltaBiAT9.npy,5\\nFaltaBiAT10.npy,5\\nFaltaBiAT11.npy,5\\nFaltaBiAT12.npy,5\\nFaltaBiAT13.npy,5\\nFaltaBiAT14.npy,5\\nFaltaBiAT15.npy,5\\nFaltaBiAT16.npy,5\\nFaltaBiAT17.npy,5\\nFaltaBiAT18.npy,5\\nFaltaBiAT19.npy,5\\nFaltaBiAT20.npy,5\\nFaltaBiAT21.npy,5\\nFaltaBiAT22.npy,5\\nFaltaBiAT23.npy,5\\nFaltaBiAT24.npy,5\\nFaltaBiAT25.npy,5\\nFaltaBiAT26.npy,5\\nFaltaBiAT27.npy,5\\nFaltaBiAT28.npy,5\\nFaltaBiAT29.npy,5\\nFaltaBiAT30.npy,5\\nFaltaBiAT31.npy,5\\nFaltaBiAT32.npy,5\\nFaltaBiAT33.npy,5\\nFaltaBiAT34.npy,5\\nFaltaBiAT35.npy,5\\nFaltaBiAT36.npy,5\\nFaltaBiAT37.npy,5\\nFaltaBiAT38.npy,5\\nFaltaBiAT39.npy,5\\nFaltaBiAT40.npy,5\\nFaltaBiAT41.npy,5\\nFaltaBiAT42.npy,5\\nFaltaBiAT43.npy,5\\nFaltaBiAT44.npy,5\\nFaltaBiAT45.npy,5\\nFaltaBiAT46.npy,5\\nFaltaBiAT47.npy,5\\nFaltaBiAT48.npy,5\\nFaltaBiAT49.npy,5\\nFaltaBiAT50.npy,5\\nFaltaBiAT51.npy,5\\nFaltaBiAT52.npy,5\\nFaltaBiAT53.npy,5\\nFaltaBiAT54.npy,5\\nFaltaBiAT55.npy,5\\nFaltaBiAT56.npy,5\\nFaltaBiAT57.npy,5\\nFaltaBiAT58.npy,5\\nFaltaBiAT59.npy,5\\nFaltaBiAT60.npy,5\\nFaltaBiAT61.npy,5\\nFaltaBiAT62.npy,5\\nFaltaBiAT63.npy,5\\nFaltaBiAT64.npy,5\\nFaltaBiAT65.npy,5\\nFaltaBiAT66.npy,5\\nFaltaBiAT67.npy,5\\nFaltaBiAT68.npy,5\\nFaltaBiAT69.npy,5\\nFaltaBiAT70.npy,5\\nFaltaBiAT71.npy,5\\nFaltaBiAT72.npy,5\\nFaltaBiAT73.npy,5\\nFaltaBiAT74.npy,5\\nFaltaBiAT75.npy,5\\nFaltaBiAT76.npy,5\\nFaltaBiAT77.npy,5\\nFaltaBiAT78.npy,5\\nFaltaBiAT79.npy,5\\nFaltaBiAT80.npy,5\\nFaltaBiAT81.npy,5\\nFaltaBiAT82.npy,5\\nFaltaBiAT83.npy,5\\nFaltaBiAT84.npy,5\\nFaltaBiAT85.npy,5\\nFaltaBiAT86.npy,5\\nFaltaBiAT87.npy,5\\nFaltaBiAT88.npy,5\\nFaltaBiAT89.npy,5\\nFaltaBiAT90.npy,5\\nFaltaBiAT91.npy,5\\nFaltaBiAT92.npy,5\\nFaltaBiAT93.npy,5\\nFaltaBiAT94.npy,5\\nFaltaBiAT95.npy,5\\nFaltaBiAT96.npy,5\\nFaltaBiAT97.npy,5\\nFaltaBiAT98.npy,5\\nFaltaBiAT99.npy,5\\nFaltaBiAT100.npy,5\\nFaltaBiAT101.npy,5\\nFaltaBiAT102.npy,5\\nFaltaBiAT103.npy,5\\nFaltaBiAT104.npy,5\\nFaltaBiAT105.npy,5\\nFaltaBiAT106.npy,5\\nFaltaBiAT107.npy,5\\nFaltaBiAT108.npy,5\\nFaltaBiAT109.npy,5\\nFaltaBiAT110.npy,5\\nFaltaBiAT111.npy,5\\nFaltaBiAT112.npy,5\\nFaltaBiAT113.npy,5\\nFaltaBiAT114.npy,5\\nFaltaBiAT115.npy,5\\nFaltaBiAT116.npy,5\\nFaltaBiAT117.npy,5\\nFaltaBiAT118.npy,5\\nFaltaBiAT119.npy,5\\nFaltaBiAT120.npy,5\\nFaltaBiAT121.npy,5\\nFaltaBiAT122.npy,5\\nFaltaBiAT123.npy,5\\nFaltaBiAT124.npy,5\\nFaltaBiAT125.npy,5\\nFaltaBiAT126.npy,5\\nFaltaBiAT127.npy,5\\nFaltaBiAT128.npy,5\\nFaltaBiAT129.npy,5\\nFaltaBiAT130.npy,5\\nFaltaBiAT131.npy,5\\nFaltaBiAT132.npy,5\\nFaltaBiAT133.npy,5\\nFaltaBiAT134.npy,5\\nFaltaBiAT135.npy,5\\nFaltaBiAT136.npy,5\\nFaltaBiAT137.npy,5\\nFaltaBiAT138.npy,5\\nFaltaBiAT139.npy,5\\nFaltaBiAT140.npy,5\\nFaltaBiAT141.npy,5\\nFaltaBiAT142.npy,5\\nFaltaBiAT143.npy,5\\nFaltaBiAT144.npy,5\\nFaltaBiAT145.npy,5\\nFaltaBiAT146.npy,5\\nFaltaBiAT147.npy,5\\nFaltaBiAT148.npy,5\\nFaltaBiAT149.npy,5\\nFaltaBiAT150.npy,5\\nFaltaBiAT151.npy,5\\nFaltaBiAT152.npy,5\\nFaltaBiAT153.npy,5\\nFaltaBiAT154.npy,5\\nFaltaBiAT155.npy,5\\nFaltaBiAT156.npy,5\\nFaltaBiAT157.npy,5\\nFaltaBiAT158.npy,5\\nFaltaBiAT159.npy,5\\nFaltaBiAT160.npy,5\\nFaltaBiAT161.npy,5\\nFaltaBiAT162.npy,5\\nFaltaBiAT163.npy,5\\nFaltaBiAT164.npy,5\\nFaltaBiAT165.npy,5\\nFaltaBiAT166.npy,5\\nFaltaBiAT167.npy,5\\nFaltaBiAT168.npy,5\\nFaltaBiAT169.npy,5\\nFaltaBiAT170.npy,5\\nFaltaBiAT171.npy,5\\nFaltaBiAT172.npy,5\\nFaltaBiAT173.npy,5\\nFaltaBiAT174.npy,5\\nFaltaBiAT175.npy,5\\nFaltaBiAT176.npy,5\\nFaltaBiAT177.npy,5\\nFaltaBiAT178.npy,5\\nFaltaBiAT179.npy,5\\nFaltaBiAT180.npy,5\\nFaltaBiAT181.npy,5\\nFaltaBiAT182.npy,5\\nFaltaBiAT183.npy,5\\nFaltaBiAT184.npy,5\\nFaltaBiAT185.npy,5\\nFaltaBiAT186.npy,5\\nFaltaBiAT187.npy,5\\nFaltaBiAT188.npy,5\\nFaltaBiAT189.npy,5\\nFaltaBiAT190.npy,5\\nFaltaBiAT191.npy,5\\nFaltaBiAT192.npy,5\\nFaltaBiAT193.npy,5\\nFaltaBiAT194.npy,5\\nFaltaBiAT195.npy,5\\nFaltaBiAT196.npy,5\\nFaltaBiAT197.npy,5\\nFaltaBiAT198.npy,5\\nFaltaBiAT199.npy,5\\nFaltaBiAT200.npy,5\\nFaltaBiAT201.npy,5\\nFaltaBiAT202.npy,5\\nFaltaBiAT203.npy,5\\nFaltaBiAT204.npy,5\\nFaltaBiAT205.npy,5\\nFaltaBiAT206.npy,5\\nFaltaBiAT207.npy,5\\nFaltaBiAT208.npy,5\\nFaltaBiAT209.npy,5\\nFaltaBiAT210.npy,5\\nFaltaBiAT211.npy,5\\nFaltaBiAT212.npy,5\\nFaltaBiAT213.npy,5\\nFaltaBiAT214.npy,5\\nFaltaBiAT215.npy,5\\nFaltaBiAT216.npy,5\\nFaltaBiAT217.npy,5\\nFaltaBiAT218.npy,5\\nFaltaBiAT219.npy,5\\nFaltaBiAT220.npy,5\\nFaltaBiAT221.npy,5\\nFaltaBiAT222.npy,5\\nFaltaBiAT223.npy,5\\nFaltaBiAT224.npy,5\\nFaltaBiAT225.npy,5\\nFaltaBiAT226.npy,5\\nFaltaBiAT227.npy,5\\nFaltaBiAT228.npy,5\\nFaltaBiAT229.npy,5\\nFaltaBiAT230.npy,5\\nFaltaBiAT231.npy,5\\nFaltaBiAT232.npy,5\\nFaltaBiAT233.npy,5\\nFaltaBiAT234.npy,5\\nFaltaBiAT235.npy,5\\nFaltaBiAT236.npy,5\\nFaltaBiAT237.npy,5\\nFaltaBiAT238.npy,5\\nFaltaBiAT239.npy,5\\nFaltaBiAT240.npy,5\\nFaltaBiAT241.npy,5\\nFaltaBiAT242.npy,5\\nFaltaBiAT243.npy,5\\nFaltaBiAT244.npy,5\\nFaltaBiAT245.npy,5\\nFaltaBiAT246.npy,5\\nFaltaBiAT247.npy,5\\nFaltaBiAT248.npy,5\\nFaltaBiAT249.npy,5\\nFaltaBiAT250.npy,5\\nFaltaBiAT251.npy,5\\nFaltaBiAT252.npy,5\\nFaltaBiAT253.npy,5\\nFaltaBiAT254.npy,5\\nFaltaBiAT255.npy,5\\nFaltaBiAT256.npy,5\\nFaltaBiAT257.npy,5\\nFaltaBiAT258.npy,5\\nFaltaBiAT259.npy,5\\nFaltaBiAT260.npy,5\\nFaltaBiAT261.npy,5\\nFaltaBiAT262.npy,5\\nFaltaBiAT263.npy,5\\nFaltaBiAT264.npy,5\\nFaltaBiAT265.npy,5\\nFaltaBiAT266.npy,5\\nFaltaBiAT267.npy,5\\nFaltaBiAT268.npy,5\\nFaltaBiAT269.npy,5\\nFaltaBiAT270.npy,5\\nFaltaBiAT271.npy,5\\nFaltaBiAT272.npy,5\\nFaltaBiAT273.npy,5\\nFaltaBiAT274.npy,5\\nFaltaBiAT275.npy,5\\nFaltaBiAT276.npy,5\\nFaltaBiAT277.npy,5\\nFaltaBiAT278.npy,5\\nFaltaBiAT279.npy,5\\nFaltaBiAT280.npy,5\\nFaltaBiAT281.npy,5\\nFaltaBiAT282.npy,5\\nFaltaBiAT283.npy,5\\nFaltaBiAT284.npy,5\\nFaltaBiAT285.npy,5\\nFaltaBiAT286.npy,5\\nFaltaBiAT287.npy,5\\nFaltaBiAT288.npy,5\\nFaltaBiAT289.npy,5\\nFaltaBiAT290.npy,5\\nFaltaBiAT291.npy,5\\nFaltaBiAT292.npy,5\\nFaltaBiAT293.npy,5\\nFaltaBiAT294.npy,5\\nFaltaBiAT295.npy,5\\nFaltaBiAT296.npy,5\\nFaltaBiAT297.npy,5\\nFaltaBiAT298.npy,5\\nFaltaBiAT299.npy,5\\nFaltaBiAT300.npy,5\\nFaltaBiBT1.npy,6\\nFaltaBiBT2.npy,6\\nFaltaBiBT3.npy,6\\nFaltaBiBT4.npy,6\\nFaltaBiBT5.npy,6\\nFaltaBiBT6.npy,6\\nFaltaBiBT7.npy,6\\nFaltaBiBT8.npy,6\\nFaltaBiBT9.npy,6\\nFaltaBiBT10.npy,6\\nFaltaBiBT11.npy,6\\nFaltaBiBT12.npy,6\\nFaltaBiBT13.npy,6\\nFaltaBiBT14.npy,6\\nFaltaBiBT15.npy,6\\nFaltaBiBT16.npy,6\\nFaltaBiBT17.npy,6\\nFaltaBiBT18.npy,6\\nFaltaBiBT19.npy,6\\nFaltaBiBT20.npy,6\\nFaltaBiBT21.npy,6\\nFaltaBiBT22.npy,6\\nFaltaBiBT23.npy,6\\nFaltaBiBT24.npy,6\\nFaltaBiBT25.npy,6\\nFaltaBiBT26.npy,6\\nFaltaBiBT27.npy,6\\nFaltaBiBT28.npy,6\\nFaltaBiBT29.npy,6\\nFaltaBiBT30.npy,6\\nFaltaBiBT31.npy,6\\nFaltaBiBT32.npy,6\\nFaltaBiBT33.npy,6\\nFaltaBiBT34.npy,6\\nFaltaBiBT35.npy,6\\nFaltaBiBT36.npy,6\\nFaltaBiBT37.npy,6\\nFaltaBiBT38.npy,6\\nFaltaBiBT39.npy,6\\nFaltaBiBT40.npy,6\\nFaltaBiBT41.npy,6\\nFaltaBiBT42.npy,6\\nFaltaBiBT43.npy,6\\nFaltaBiBT44.npy,6\\nFaltaBiBT45.npy,6\\nFaltaBiBT46.npy,6\\nFaltaBiBT47.npy,6\\nFaltaBiBT48.npy,6\\nFaltaBiBT49.npy,6\\nFaltaBiBT50.npy,6\\nFaltaBiBT51.npy,6\\nFaltaBiBT52.npy,6\\nFaltaBiBT53.npy,6\\nFaltaBiBT54.npy,6\\nFaltaBiBT55.npy,6\\nFaltaBiBT56.npy,6\\nFaltaBiBT57.npy,6\\nFaltaBiBT58.npy,6\\nFaltaBiBT59.npy,6\\nFaltaBiBT60.npy,6\\nFaltaBiBT61.npy,6\\nFaltaBiBT62.npy,6\\nFaltaBiBT63.npy,6\\nFaltaBiBT64.npy,6\\nFaltaBiBT65.npy,6\\nFaltaBiBT66.npy,6\\nFaltaBiBT67.npy,6\\nFaltaBiBT68.npy,6\\nFaltaBiBT69.npy,6\\nFaltaBiBT70.npy,6\\nFaltaBiBT71.npy,6\\nFaltaBiBT72.npy,6\\nFaltaBiBT73.npy,6\\nFaltaBiBT74.npy,6\\nFaltaBiBT75.npy,6\\nFaltaBiBT76.npy,6\\nFaltaBiBT77.npy,6\\nFaltaBiBT78.npy,6\\nFaltaBiBT79.npy,6\\nFaltaBiBT80.npy,6\\nFaltaBiBT81.npy,6\\nFaltaBiBT82.npy,6\\nFaltaBiBT83.npy,6\\nFaltaBiBT84.npy,6\\nFaltaBiBT85.npy,6\\nFaltaBiBT86.npy,6\\nFaltaBiBT87.npy,6\\nFaltaBiBT88.npy,6\\nFaltaBiBT89.npy,6\\nFaltaBiBT90.npy,6\\nFaltaBiBT91.npy,6\\nFaltaBiBT92.npy,6\\nFaltaBiBT93.npy,6\\nFaltaBiBT94.npy,6\\nFaltaBiBT95.npy,6\\nFaltaBiBT96.npy,6\\nFaltaBiBT97.npy,6\\nFaltaBiBT98.npy,6\\nFaltaBiBT99.npy,6\\nFaltaBiBT100.npy,6\\nFaltaBiBT101.npy,6\\nFaltaBiBT102.npy,6\\nFaltaBiBT103.npy,6\\nFaltaBiBT104.npy,6\\nFaltaBiBT105.npy,6\\nFaltaBiBT106.npy,6\\nFaltaBiBT107.npy,6\\nFaltaBiBT108.npy,6\\nFaltaBiBT109.npy,6\\nFaltaBiBT110.npy,6\\nFaltaBiBT111.npy,6\\nFaltaBiBT112.npy,6\\nFaltaBiBT113.npy,6\\nFaltaBiBT114.npy,6\\nFaltaBiBT115.npy,6\\nFaltaBiBT116.npy,6\\nFaltaBiBT117.npy,6\\nFaltaBiBT118.npy,6\\nFaltaBiBT119.npy,6\\nFaltaBiBT120.npy,6\\nFaltaBiBT121.npy,6\\nFaltaBiBT122.npy,6\\nFaltaBiBT123.npy,6\\nFaltaBiBT124.npy,6\\nFaltaBiBT125.npy,6\\nFaltaBiBT126.npy,6\\nFaltaBiBT127.npy,6\\nFaltaBiBT128.npy,6\\nFaltaBiBT129.npy,6\\nFaltaBiBT130.npy,6\\nFaltaBiBT131.npy,6\\nFaltaBiBT132.npy,6\\nFaltaBiBT133.npy,6\\nFaltaBiBT134.npy,6\\nFaltaBiBT135.npy,6\\nFaltaBiBT136.npy,6\\nFaltaBiBT137.npy,6\\nFaltaBiBT138.npy,6\\nFaltaBiBT139.npy,6\\nFaltaBiBT140.npy,6\\nFaltaBiBT141.npy,6\\nFaltaBiBT142.npy,6\\nFaltaBiBT143.npy,6\\nFaltaBiBT144.npy,6\\nFaltaBiBT145.npy,6\\nFaltaBiBT146.npy,6\\nFaltaBiBT147.npy,6\\nFaltaBiBT148.npy,6\\nFaltaBiBT149.npy,6\\nFaltaBiBT150.npy,6\\nFaltaBiBT151.npy,6\\nFaltaBiBT152.npy,6\\nFaltaBiBT153.npy,6\\nFaltaBiBT154.npy,6\\nFaltaBiBT155.npy,6\\nFaltaBiBT156.npy,6\\nFaltaBiBT157.npy,6\\nFaltaBiBT158.npy,6\\nFaltaBiBT159.npy,6\\nFaltaBiBT160.npy,6\\nFaltaBiBT161.npy,6\\nFaltaBiBT162.npy,6\\nFaltaBiBT163.npy,6\\nFaltaBiBT164.npy,6\\nFaltaBiBT165.npy,6\\nFaltaBiBT166.npy,6\\nFaltaBiBT167.npy,6\\nFaltaBiBT168.npy,6\\nFaltaBiBT169.npy,6\\nFaltaBiBT170.npy,6\\nFaltaBiBT171.npy,6\\nFaltaBiBT172.npy,6\\nFaltaBiBT173.npy,6\\nFaltaBiBT174.npy,6\\nFaltaBiBT175.npy,6\\nFaltaBiBT176.npy,6\\nFaltaBiBT177.npy,6\\nFaltaBiBT178.npy,6\\nFaltaBiBT179.npy,6\\nFaltaBiBT180.npy,6\\nFaltaBiBT181.npy,6\\nFaltaBiBT182.npy,6\\nFaltaBiBT183.npy,6\\nFaltaBiBT184.npy,6\\nFaltaBiBT185.npy,6\\nFaltaBiBT186.npy,6\\nFaltaBiBT187.npy,6\\nFaltaBiBT188.npy,6\\nFaltaBiBT189.npy,6\\nFaltaBiBT190.npy,6\\nFaltaBiBT191.npy,6\\nFaltaBiBT192.npy,6\\nFaltaBiBT193.npy,6\\nFaltaBiBT194.npy,6\\nFaltaBiBT195.npy,6\\nFaltaBiBT196.npy,6\\nFaltaBiBT197.npy,6\\nFaltaBiBT198.npy,6\\nFaltaBiBT199.npy,6\\nFaltaBiBT200.npy,6\\nFaltaBiBT201.npy,6\\nFaltaBiBT202.npy,6\\nFaltaBiBT203.npy,6\\nFaltaBiBT204.npy,6\\nFaltaBiBT205.npy,6\\nFaltaBiBT206.npy,6\\nFaltaBiBT207.npy,6\\nFaltaBiBT208.npy,6\\nFaltaBiBT209.npy,6\\nFaltaBiBT210.npy,6\\nFaltaBiBT211.npy,6\\nFaltaBiBT212.npy,6\\nFaltaBiBT213.npy,6\\nFaltaBiBT214.npy,6\\nFaltaBiBT215.npy,6\\nFaltaBiBT216.npy,6\\nFaltaBiBT217.npy,6\\nFaltaBiBT218.npy,6\\nFaltaBiBT219.npy,6\\nFaltaBiBT220.npy,6\\nFaltaBiBT221.npy,6\\nFaltaBiBT222.npy,6\\nFaltaBiBT223.npy,6\\nFaltaBiBT224.npy,6\\nFaltaBiBT225.npy,6\\nFaltaBiBT226.npy,6\\nFaltaBiBT227.npy,6\\nFaltaBiBT228.npy,6\\nFaltaBiBT229.npy,6\\nFaltaBiBT230.npy,6\\nFaltaBiBT231.npy,6\\nFaltaBiBT232.npy,6\\nFaltaBiBT233.npy,6\\nFaltaBiBT234.npy,6\\nFaltaBiBT235.npy,6\\nFaltaBiBT236.npy,6\\nFaltaBiBT237.npy,6\\nFaltaBiBT238.npy,6\\nFaltaBiBT239.npy,6\\nFaltaBiBT240.npy,6\\nFaltaBiBT241.npy,6\\nFaltaBiBT242.npy,6\\nFaltaBiBT243.npy,6\\nFaltaBiBT244.npy,6\\nFaltaBiBT245.npy,6\\nFaltaBiBT246.npy,6\\nFaltaBiBT247.npy,6\\nFaltaBiBT248.npy,6\\nFaltaBiBT249.npy,6\\nFaltaBiBT250.npy,6\\nFaltaBiBT251.npy,6\\nFaltaBiBT252.npy,6\\nFaltaBiBT253.npy,6\\nFaltaBiBT254.npy,6\\nFaltaBiBT255.npy,6\\nFaltaBiBT256.npy,6\\nFaltaBiBT257.npy,6\\nFaltaBiBT258.npy,6\\nFaltaBiBT259.npy,6\\nFaltaBiBT260.npy,6\\nFaltaBiBT261.npy,6\\nFaltaBiBT262.npy,6\\nFaltaBiBT263.npy,6\\nFaltaBiBT264.npy,6\\nFaltaBiBT265.npy,6\\nFaltaBiBT266.npy,6\\nFaltaBiBT267.npy,6\\nFaltaBiBT268.npy,6\\nFaltaBiBT269.npy,6\\nFaltaBiBT270.npy,6\\nFaltaBiBT271.npy,6\\nFaltaBiBT272.npy,6\\nFaltaBiBT273.npy,6\\nFaltaBiBT274.npy,6\\nFaltaBiBT275.npy,6\\nFaltaBiBT276.npy,6\\nFaltaBiBT277.npy,6\\nFaltaBiBT278.npy,6\\nFaltaBiBT279.npy,6\\nFaltaBiBT280.npy,6\\nFaltaBiBT281.npy,6\\nFaltaBiBT282.npy,6\\nFaltaBiBT283.npy,6\\nFaltaBiBT284.npy,6\\nFaltaBiBT285.npy,6\\nFaltaBiBT286.npy,6\\nFaltaBiBT287.npy,6\\nFaltaBiBT288.npy,6\\nFaltaBiBT289.npy,6\\nFaltaBiBT290.npy,6\\nFaltaBiBT291.npy,6\\nFaltaBiBT292.npy,6\\nFaltaBiBT293.npy,6\\nFaltaBiBT294.npy,6\\nFaltaBiBT295.npy,6\\nFaltaBiBT296.npy,6\\nFaltaBiBT297.npy,6\\nFaltaBiBT298.npy,6\\nFaltaBiBT299.npy,6\\nFaltaBiBT300.npy,6\\nFaltaBiAT_G1.npy,7\\nFaltaBiAT_G2.npy,7\\nFaltaBiAT_G3.npy,7\\nFaltaBiAT_G4.npy,7\\nFaltaBiAT_G5.npy,7\\nFaltaBiAT_G6.npy,7\\nFaltaBiAT_G7.npy,7\\nFaltaBiAT_G8.npy,7\\nFaltaBiAT_G9.npy,7\\nFaltaBiAT_G10.npy,7\\nFaltaBiAT_G11.npy,7\\nFaltaBiAT_G12.npy,7\\nFaltaBiAT_G13.npy,7\\nFaltaBiAT_G14.npy,7\\nFaltaBiAT_G15.npy,7\\nFaltaBiAT_G16.npy,7\\nFaltaBiAT_G17.npy,7\\nFaltaBiAT_G18.npy,7\\nFaltaBiAT_G19.npy,7\\nFaltaBiAT_G20.npy,7\\nFaltaBiAT_G21.npy,7\\nFaltaBiAT_G22.npy,7\\nFaltaBiAT_G23.npy,7\\nFaltaBiAT_G24.npy,7\\nFaltaBiAT_G25.npy,7\\nFaltaBiAT_G26.npy,7\\nFaltaBiAT_G27.npy,7\\nFaltaBiAT_G28.npy,7\\nFaltaBiAT_G29.npy,7\\nFaltaBiAT_G30.npy,7\\nFaltaBiAT_G31.npy,7\\nFaltaBiAT_G32.npy,7\\nFaltaBiAT_G33.npy,7\\nFaltaBiAT_G34.npy,7\\nFaltaBiAT_G35.npy,7\\nFaltaBiAT_G36.npy,7\\nFaltaBiAT_G37.npy,7\\nFaltaBiAT_G38.npy,7\\nFaltaBiAT_G39.npy,7\\nFaltaBiAT_G40.npy,7\\nFaltaBiAT_G41.npy,7\\nFaltaBiAT_G42.npy,7\\nFaltaBiAT_G43.npy,7\\nFaltaBiAT_G44.npy,7\\nFaltaBiAT_G45.npy,7\\nFaltaBiAT_G46.npy,7\\nFaltaBiAT_G47.npy,7\\nFaltaBiAT_G48.npy,7\\nFaltaBiAT_G49.npy,7\\nFaltaBiAT_G50.npy,7\\nFaltaBiAT_G51.npy,7\\nFaltaBiAT_G52.npy,7\\nFaltaBiAT_G53.npy,7\\nFaltaBiAT_G54.npy,7\\nFaltaBiAT_G55.npy,7\\nFaltaBiAT_G56.npy,7\\nFaltaBiAT_G57.npy,7\\nFaltaBiAT_G58.npy,7\\nFaltaBiAT_G59.npy,7\\nFaltaBiAT_G60.npy,7\\nFaltaBiAT_G61.npy,7\\nFaltaBiAT_G62.npy,7\\nFaltaBiAT_G63.npy,7\\nFaltaBiAT_G64.npy,7\\nFaltaBiAT_G65.npy,7\\nFaltaBiAT_G66.npy,7\\nFaltaBiAT_G67.npy,7\\nFaltaBiAT_G68.npy,7\\nFaltaBiAT_G69.npy,7\\nFaltaBiAT_G70.npy,7\\nFaltaBiAT_G71.npy,7\\nFaltaBiAT_G72.npy,7\\nFaltaBiAT_G73.npy,7\\nFaltaBiAT_G74.npy,7\\nFaltaBiAT_G75.npy,7\\nFaltaBiAT_G76.npy,7\\nFaltaBiAT_G77.npy,7\\nFaltaBiAT_G78.npy,7\\nFaltaBiAT_G79.npy,7\\nFaltaBiAT_G80.npy,7\\nFaltaBiAT_G81.npy,7\\nFaltaBiAT_G82.npy,7\\nFaltaBiAT_G83.npy,7\\nFaltaBiAT_G84.npy,7\\nFaltaBiAT_G85.npy,7\\nFaltaBiAT_G86.npy,7\\nFaltaBiAT_G87.npy,7\\nFaltaBiAT_G88.npy,7\\nFaltaBiAT_G89.npy,7\\nFaltaBiAT_G90.npy,7\\nFaltaBiAT_G91.npy,7\\nFaltaBiAT_G92.npy,7\\nFaltaBiAT_G93.npy,7\\nFaltaBiAT_G94.npy,7\\nFaltaBiAT_G95.npy,7\\nFaltaBiAT_G96.npy,7\\nFaltaBiAT_G97.npy,7\\nFaltaBiAT_G98.npy,7\\nFaltaBiAT_G99.npy,7\\nFaltaBiAT_G100.npy,7\\nFaltaBiAT_G101.npy,7\\nFaltaBiAT_G102.npy,7\\nFaltaBiAT_G103.npy,7\\nFaltaBiAT_G104.npy,7\\nFaltaBiAT_G105.npy,7\\nFaltaBiAT_G106.npy,7\\nFaltaBiAT_G107.npy,7\\nFaltaBiAT_G108.npy,7\\nFaltaBiAT_G109.npy,7\\nFaltaBiAT_G110.npy,7\\nFaltaBiAT_G111.npy,7\\nFaltaBiAT_G112.npy,7\\nFaltaBiAT_G113.npy,7\\nFaltaBiAT_G114.npy,7\\nFaltaBiAT_G115.npy,7\\nFaltaBiAT_G116.npy,7\\nFaltaBiAT_G117.npy,7\\nFaltaBiAT_G118.npy,7\\nFaltaBiAT_G119.npy,7\\nFaltaBiAT_G120.npy,7\\nFaltaBiAT_G121.npy,7\\nFaltaBiAT_G122.npy,7\\nFaltaBiAT_G123.npy,7\\nFaltaBiAT_G124.npy,7\\nFaltaBiAT_G125.npy,7\\nFaltaBiAT_G126.npy,7\\nFaltaBiAT_G127.npy,7\\nFaltaBiAT_G128.npy,7\\nFaltaBiAT_G129.npy,7\\nFaltaBiAT_G130.npy,7\\nFaltaBiAT_G131.npy,7\\nFaltaBiAT_G132.npy,7\\nFaltaBiAT_G133.npy,7\\nFaltaBiAT_G134.npy,7\\nFaltaBiAT_G135.npy,7\\nFaltaBiAT_G136.npy,7\\nFaltaBiAT_G137.npy,7\\nFaltaBiAT_G138.npy,7\\nFaltaBiAT_G139.npy,7\\nFaltaBiAT_G140.npy,7\\nFaltaBiAT_G141.npy,7\\nFaltaBiAT_G142.npy,7\\nFaltaBiAT_G143.npy,7\\nFaltaBiAT_G144.npy,7\\nFaltaBiAT_G145.npy,7\\nFaltaBiAT_G146.npy,7\\nFaltaBiAT_G147.npy,7\\nFaltaBiAT_G148.npy,7\\nFaltaBiAT_G149.npy,7\\nFaltaBiAT_G150.npy,7\\nFaltaBiAT_G151.npy,7\\nFaltaBiAT_G152.npy,7\\nFaltaBiAT_G153.npy,7\\nFaltaBiAT_G154.npy,7\\nFaltaBiAT_G155.npy,7\\nFaltaBiAT_G156.npy,7\\nFaltaBiAT_G157.npy,7\\nFaltaBiAT_G158.npy,7\\nFaltaBiAT_G159.npy,7\\nFaltaBiAT_G160.npy,7\\nFaltaBiAT_G161.npy,7\\nFaltaBiAT_G162.npy,7\\nFaltaBiAT_G163.npy,7\\nFaltaBiAT_G164.npy,7\\nFaltaBiAT_G165.npy,7\\nFaltaBiAT_G166.npy,7\\nFaltaBiAT_G167.npy,7\\nFaltaBiAT_G168.npy,7\\nFaltaBiAT_G169.npy,7\\nFaltaBiAT_G170.npy,7\\nFaltaBiAT_G171.npy,7\\nFaltaBiAT_G172.npy,7\\nFaltaBiAT_G173.npy,7\\nFaltaBiAT_G174.npy,7\\nFaltaBiAT_G175.npy,7\\nFaltaBiAT_G176.npy,7\\nFaltaBiAT_G177.npy,7\\nFaltaBiAT_G178.npy,7\\nFaltaBiAT_G179.npy,7\\nFaltaBiAT_G180.npy,7\\nFaltaBiAT_G181.npy,7\\nFaltaBiAT_G182.npy,7\\nFaltaBiAT_G183.npy,7\\nFaltaBiAT_G184.npy,7\\nFaltaBiAT_G185.npy,7\\nFaltaBiAT_G186.npy,7\\nFaltaBiAT_G187.npy,7\\nFaltaBiAT_G188.npy,7\\nFaltaBiAT_G189.npy,7\\nFaltaBiAT_G190.npy,7\\nFaltaBiAT_G191.npy,7\\nFaltaBiAT_G192.npy,7\\nFaltaBiAT_G193.npy,7\\nFaltaBiAT_G194.npy,7\\nFaltaBiAT_G195.npy,7\\nFaltaBiAT_G196.npy,7\\nFaltaBiAT_G197.npy,7\\nFaltaBiAT_G198.npy,7\\nFaltaBiAT_G199.npy,7\\nFaltaBiAT_G200.npy,7\\nFaltaBiAT_G201.npy,7\\nFaltaBiAT_G202.npy,7\\nFaltaBiAT_G203.npy,7\\nFaltaBiAT_G204.npy,7\\nFaltaBiAT_G205.npy,7\\nFaltaBiAT_G206.npy,7\\nFaltaBiAT_G207.npy,7\\nFaltaBiAT_G208.npy,7\\nFaltaBiAT_G209.npy,7\\nFaltaBiAT_G210.npy,7\\nFaltaBiAT_G211.npy,7\\nFaltaBiAT_G212.npy,7\\nFaltaBiAT_G213.npy,7\\nFaltaBiAT_G214.npy,7\\nFaltaBiAT_G215.npy,7\\nFaltaBiAT_G216.npy,7\\nFaltaBiAT_G217.npy,7\\nFaltaBiAT_G218.npy,7\\nFaltaBiAT_G219.npy,7\\nFaltaBiAT_G220.npy,7\\nFaltaBiAT_G221.npy,7\\nFaltaBiAT_G222.npy,7\\nFaltaBiAT_G223.npy,7\\nFaltaBiAT_G224.npy,7\\nFaltaBiAT_G225.npy,7\\nFaltaBiAT_G226.npy,7\\nFaltaBiAT_G227.npy,7\\nFaltaBiAT_G228.npy,7\\nFaltaBiAT_G229.npy,7\\nFaltaBiAT_G230.npy,7\\nFaltaBiAT_G231.npy,7\\nFaltaBiAT_G232.npy,7\\nFaltaBiAT_G233.npy,7\\nFaltaBiAT_G234.npy,7\\nFaltaBiAT_G235.npy,7\\nFaltaBiAT_G236.npy,7\\nFaltaBiAT_G237.npy,7\\nFaltaBiAT_G238.npy,7\\nFaltaBiAT_G239.npy,7\\nFaltaBiAT_G240.npy,7\\nFaltaBiAT_G241.npy,7\\nFaltaBiAT_G242.npy,7\\nFaltaBiAT_G243.npy,7\\nFaltaBiAT_G244.npy,7\\nFaltaBiAT_G245.npy,7\\nFaltaBiAT_G246.npy,7\\nFaltaBiAT_G247.npy,7\\nFaltaBiAT_G248.npy,7\\nFaltaBiAT_G249.npy,7\\nFaltaBiAT_G250.npy,7\\nFaltaBiAT_G251.npy,7\\nFaltaBiAT_G252.npy,7\\nFaltaBiAT_G253.npy,7\\nFaltaBiAT_G254.npy,7\\nFaltaBiAT_G255.npy,7\\nFaltaBiAT_G256.npy,7\\nFaltaBiAT_G257.npy,7\\nFaltaBiAT_G258.npy,7\\nFaltaBiAT_G259.npy,7\\nFaltaBiAT_G260.npy,7\\nFaltaBiAT_G261.npy,7\\nFaltaBiAT_G262.npy,7\\nFaltaBiAT_G263.npy,7\\nFaltaBiAT_G264.npy,7\\nFaltaBiAT_G265.npy,7\\nFaltaBiAT_G266.npy,7\\nFaltaBiAT_G267.npy,7\\nFaltaBiAT_G268.npy,7\\nFaltaBiAT_G269.npy,7\\nFaltaBiAT_G270.npy,7\\nFaltaBiAT_G271.npy,7\\nFaltaBiAT_G272.npy,7\\nFaltaBiAT_G273.npy,7\\nFaltaBiAT_G274.npy,7\\nFaltaBiAT_G275.npy,7\\nFaltaBiAT_G276.npy,7\\nFaltaBiAT_G277.npy,7\\nFaltaBiAT_G278.npy,7\\nFaltaBiAT_G279.npy,7\\nFaltaBiAT_G280.npy,7\\nFaltaBiAT_G281.npy,7\\nFaltaBiAT_G282.npy,7\\nFaltaBiAT_G283.npy,7\\nFaltaBiAT_G284.npy,7\\nFaltaBiAT_G285.npy,7\\nFaltaBiAT_G286.npy,7\\nFaltaBiAT_G287.npy,7\\nFaltaBiAT_G288.npy,7\\nFaltaBiAT_G289.npy,7\\nFaltaBiAT_G290.npy,7\\nFaltaBiAT_G291.npy,7\\nFaltaBiAT_G292.npy,7\\nFaltaBiAT_G293.npy,7\\nFaltaBiAT_G294.npy,7\\nFaltaBiAT_G295.npy,7\\nFaltaBiAT_G296.npy,7\\nFaltaBiAT_G297.npy,7\\nFaltaBiAT_G298.npy,7\\nFaltaBiAT_G299.npy,7\\nFaltaBiAT_G300.npy,7\\nFaltaBiBT_G1.npy,8\\nFaltaBiBT_G2.npy,8\\nFaltaBiBT_G3.npy,8\\nFaltaBiBT_G4.npy,8\\nFaltaBiBT_G5.npy,8\\nFaltaBiBT_G6.npy,8\\nFaltaBiBT_G7.npy,8\\nFaltaBiBT_G8.npy,8\\nFaltaBiBT_G9.npy,8\\nFaltaBiBT_G10.npy,8\\nFaltaBiBT_G11.npy,8\\nFaltaBiBT_G12.npy,8\\nFaltaBiBT_G13.npy,8\\nFaltaBiBT_G14.npy,8\\nFaltaBiBT_G15.npy,8\\nFaltaBiBT_G16.npy,8\\nFaltaBiBT_G17.npy,8\\nFaltaBiBT_G18.npy,8\\nFaltaBiBT_G19.npy,8\\nFaltaBiBT_G20.npy,8\\nFaltaBiBT_G21.npy,8\\nFaltaBiBT_G22.npy,8\\nFaltaBiBT_G23.npy,8\\nFaltaBiBT_G24.npy,8\\nFaltaBiBT_G25.npy,8\\nFaltaBiBT_G26.npy,8\\nFaltaBiBT_G27.npy,8\\nFaltaBiBT_G28.npy,8\\nFaltaBiBT_G29.npy,8\\nFaltaBiBT_G30.npy,8\\nFaltaBiBT_G31.npy,8\\nFaltaBiBT_G32.npy,8\\nFaltaBiBT_G33.npy,8\\nFaltaBiBT_G34.npy,8\\nFaltaBiBT_G35.npy,8\\nFaltaBiBT_G36.npy,8\\nFaltaBiBT_G37.npy,8\\nFaltaBiBT_G38.npy,8\\nFaltaBiBT_G39.npy,8\\nFaltaBiBT_G40.npy,8\\nFaltaBiBT_G41.npy,8\\nFaltaBiBT_G42.npy,8\\nFaltaBiBT_G43.npy,8\\nFaltaBiBT_G44.npy,8\\nFaltaBiBT_G45.npy,8\\nFaltaBiBT_G46.npy,8\\nFaltaBiBT_G47.npy,8\\nFaltaBiBT_G48.npy,8\\nFaltaBiBT_G49.npy,8\\nFaltaBiBT_G50.npy,8\\nFaltaBiBT_G51.npy,8\\nFaltaBiBT_G52.npy,8\\nFaltaBiBT_G53.npy,8\\nFaltaBiBT_G54.npy,8\\nFaltaBiBT_G55.npy,8\\nFaltaBiBT_G56.npy,8\\nFaltaBiBT_G57.npy,8\\nFaltaBiBT_G58.npy,8\\nFaltaBiBT_G59.npy,8\\nFaltaBiBT_G60.npy,8\\nFaltaBiBT_G61.npy,8\\nFaltaBiBT_G62.npy,8\\nFaltaBiBT_G63.npy,8\\nFaltaBiBT_G64.npy,8\\nFaltaBiBT_G65.npy,8\\nFaltaBiBT_G66.npy,8\\nFaltaBiBT_G67.npy,8\\nFaltaBiBT_G68.npy,8\\nFaltaBiBT_G69.npy,8\\nFaltaBiBT_G70.npy,8\\nFaltaBiBT_G71.npy,8\\nFaltaBiBT_G72.npy,8\\nFaltaBiBT_G73.npy,8\\nFaltaBiBT_G74.npy,8\\nFaltaBiBT_G75.npy,8\\nFaltaBiBT_G76.npy,8\\nFaltaBiBT_G77.npy,8\\nFaltaBiBT_G78.npy,8\\nFaltaBiBT_G79.npy,8\\nFaltaBiBT_G80.npy,8\\nFaltaBiBT_G81.npy,8\\nFaltaBiBT_G82.npy,8\\nFaltaBiBT_G83.npy,8\\nFaltaBiBT_G84.npy,8\\nFaltaBiBT_G85.npy,8\\nFaltaBiBT_G86.npy,8\\nFaltaBiBT_G87.npy,8\\nFaltaBiBT_G88.npy,8\\nFaltaBiBT_G89.npy,8\\nFaltaBiBT_G90.npy,8\\nFaltaBiBT_G91.npy,8\\nFaltaBiBT_G92.npy,8\\nFaltaBiBT_G93.npy,8\\nFaltaBiBT_G94.npy,8\\nFaltaBiBT_G95.npy,8\\nFaltaBiBT_G96.npy,8\\nFaltaBiBT_G97.npy,8\\nFaltaBiBT_G98.npy,8\\nFaltaBiBT_G99.npy,8\\nFaltaBiBT_G100.npy,8\\nFaltaBiBT_G101.npy,8\\nFaltaBiBT_G102.npy,8\\nFaltaBiBT_G103.npy,8\\nFaltaBiBT_G104.npy,8\\nFaltaBiBT_G105.npy,8\\nFaltaBiBT_G106.npy,8\\nFaltaBiBT_G107.npy,8\\nFaltaBiBT_G108.npy,8\\nFaltaBiBT_G109.npy,8\\nFaltaBiBT_G110.npy,8\\nFaltaBiBT_G111.npy,8\\nFaltaBiBT_G112.npy,8\\nFaltaBiBT_G113.npy,8\\nFaltaBiBT_G114.npy,8\\nFaltaBiBT_G115.npy,8\\nFaltaBiBT_G116.npy,8\\nFaltaBiBT_G117.npy,8\\nFaltaBiBT_G118.npy,8\\nFaltaBiBT_G119.npy,8\\nFaltaBiBT_G120.npy,8\\nFaltaBiBT_G121.npy,8\\nFaltaBiBT_G122.npy,8\\nFaltaBiBT_G123.npy,8\\nFaltaBiBT_G124.npy,8\\nFaltaBiBT_G125.npy,8\\nFaltaBiBT_G126.npy,8\\nFaltaBiBT_G127.npy,8\\nFaltaBiBT_G128.npy,8\\nFaltaBiBT_G129.npy,8\\nFaltaBiBT_G130.npy,8\\nFaltaBiBT_G131.npy,8\\nFaltaBiBT_G132.npy,8\\nFaltaBiBT_G133.npy,8\\nFaltaBiBT_G134.npy,8\\nFaltaBiBT_G135.npy,8\\nFaltaBiBT_G136.npy,8\\nFaltaBiBT_G137.npy,8\\nFaltaBiBT_G138.npy,8\\nFaltaBiBT_G139.npy,8\\nFaltaBiBT_G140.npy,8\\nFaltaBiBT_G141.npy,8\\nFaltaBiBT_G142.npy,8\\nFaltaBiBT_G143.npy,8\\nFaltaBiBT_G144.npy,8\\nFaltaBiBT_G145.npy,8\\nFaltaBiBT_G146.npy,8\\nFaltaBiBT_G147.npy,8\\nFaltaBiBT_G148.npy,8\\nFaltaBiBT_G149.npy,8\\nFaltaBiBT_G150.npy,8\\nFaltaBiBT_G151.npy,8\\nFaltaBiBT_G152.npy,8\\nFaltaBiBT_G153.npy,8\\nFaltaBiBT_G154.npy,8\\nFaltaBiBT_G155.npy,8\\nFaltaBiBT_G156.npy,8\\nFaltaBiBT_G157.npy,8\\nFaltaBiBT_G158.npy,8\\nFaltaBiBT_G159.npy,8\\nFaltaBiBT_G160.npy,8\\nFaltaBiBT_G161.npy,8\\nFaltaBiBT_G162.npy,8\\nFaltaBiBT_G163.npy,8\\nFaltaBiBT_G164.npy,8\\nFaltaBiBT_G165.npy,8\\nFaltaBiBT_G166.npy,8\\nFaltaBiBT_G167.npy,8\\nFaltaBiBT_G168.npy,8\\nFaltaBiBT_G169.npy,8\\nFaltaBiBT_G170.npy,8\\nFaltaBiBT_G171.npy,8\\nFaltaBiBT_G172.npy,8\\nFaltaBiBT_G173.npy,8\\nFaltaBiBT_G174.npy,8\\nFaltaBiBT_G175.npy,8\\nFaltaBiBT_G176.npy,8\\nFaltaBiBT_G177.npy,8\\nFaltaBiBT_G178.npy,8\\nFaltaBiBT_G179.npy,8\\nFaltaBiBT_G180.npy,8\\nFaltaBiBT_G181.npy,8\\nFaltaBiBT_G182.npy,8\\nFaltaBiBT_G183.npy,8\\nFaltaBiBT_G184.npy,8\\nFaltaBiBT_G185.npy,8\\nFaltaBiBT_G186.npy,8\\nFaltaBiBT_G187.npy,8\\nFaltaBiBT_G188.npy,8\\nFaltaBiBT_G189.npy,8\\nFaltaBiBT_G190.npy,8\\nFaltaBiBT_G191.npy,8\\nFaltaBiBT_G192.npy,8\\nFaltaBiBT_G193.npy,8\\nFaltaBiBT_G194.npy,8\\nFaltaBiBT_G195.npy,8\\nFaltaBiBT_G196.npy,8\\nFaltaBiBT_G197.npy,8\\nFaltaBiBT_G198.npy,8\\nFaltaBiBT_G199.npy,8\\nFaltaBiBT_G200.npy,8\\nFaltaBiBT_G201.npy,8\\nFaltaBiBT_G202.npy,8\\nFaltaBiBT_G203.npy,8\\nFaltaBiBT_G204.npy,8\\nFaltaBiBT_G205.npy,8\\nFaltaBiBT_G206.npy,8\\nFaltaBiBT_G207.npy,8\\nFaltaBiBT_G208.npy,8\\nFaltaBiBT_G209.npy,8\\nFaltaBiBT_G210.npy,8\\nFaltaBiBT_G211.npy,8\\nFaltaBiBT_G212.npy,8\\nFaltaBiBT_G213.npy,8\\nFaltaBiBT_G214.npy,8\\nFaltaBiBT_G215.npy,8\\nFaltaBiBT_G216.npy,8\\nFaltaBiBT_G217.npy,8\\nFaltaBiBT_G218.npy,8\\nFaltaBiBT_G219.npy,8\\nFaltaBiBT_G220.npy,8\\nFaltaBiBT_G221.npy,8\\nFaltaBiBT_G222.npy,8\\nFaltaBiBT_G223.npy,8\\nFaltaBiBT_G224.npy,8\\nFaltaBiBT_G225.npy,8\\nFaltaBiBT_G226.npy,8\\nFaltaBiBT_G227.npy,8\\nFaltaBiBT_G228.npy,8\\nFaltaBiBT_G229.npy,8\\nFaltaBiBT_G230.npy,8\\nFaltaBiBT_G231.npy,8\\nFaltaBiBT_G232.npy,8\\nFaltaBiBT_G233.npy,8\\nFaltaBiBT_G234.npy,8\\nFaltaBiBT_G235.npy,8\\nFaltaBiBT_G236.npy,8\\nFaltaBiBT_G237.npy,8\\nFaltaBiBT_G238.npy,8\\nFaltaBiBT_G239.npy,8\\nFaltaBiBT_G240.npy,8\\nFaltaBiBT_G241.npy,8\\nFaltaBiBT_G242.npy,8\\nFaltaBiBT_G243.npy,8\\nFaltaBiBT_G244.npy,8\\nFaltaBiBT_G245.npy,8\\nFaltaBiBT_G246.npy,8\\nFaltaBiBT_G247.npy,8\\nFaltaBiBT_G248.npy,8\\nFaltaBiBT_G249.npy,8\\nFaltaBiBT_G250.npy,8\\nFaltaBiBT_G251.npy,8\\nFaltaBiBT_G252.npy,8\\nFaltaBiBT_G253.npy,8\\nFaltaBiBT_G254.npy,8\\nFaltaBiBT_G255.npy,8\\nFaltaBiBT_G256.npy,8\\nFaltaBiBT_G257.npy,8\\nFaltaBiBT_G258.npy,8\\nFaltaBiBT_G259.npy,8\\nFaltaBiBT_G260.npy,8\\nFaltaBiBT_G261.npy,8\\nFaltaBiBT_G262.npy,8\\nFaltaBiBT_G263.npy,8\\nFaltaBiBT_G264.npy,8\\nFaltaBiBT_G265.npy,8\\nFaltaBiBT_G266.npy,8\\nFaltaBiBT_G267.npy,8\\nFaltaBiBT_G268.npy,8\\nFaltaBiBT_G269.npy,8\\nFaltaBiBT_G270.npy,8\\nFaltaBiBT_G271.npy,8\\nFaltaBiBT_G272.npy,8\\nFaltaBiBT_G273.npy,8\\nFaltaBiBT_G274.npy,8\\nFaltaBiBT_G275.npy,8\\nFaltaBiBT_G276.npy,8\\nFaltaBiBT_G277.npy,8\\nFaltaBiBT_G278.npy,8\\nFaltaBiBT_G279.npy,8\\nFaltaBiBT_G280.npy,8\\nFaltaBiBT_G281.npy,8\\nFaltaBiBT_G282.npy,8\\nFaltaBiBT_G283.npy,8\\nFaltaBiBT_G284.npy,8\\nFaltaBiBT_G285.npy,8\\nFaltaBiBT_G286.npy,8\\nFaltaBiBT_G287.npy,8\\nFaltaBiBT_G288.npy,8\\nFaltaBiBT_G289.npy,8\\nFaltaBiBT_G290.npy,8\\nFaltaBiBT_G291.npy,8\\nFaltaBiBT_G292.npy,8\\nFaltaBiBT_G293.npy,8\\nFaltaBiBT_G294.npy,8\\nFaltaBiBT_G295.npy,8\\nFaltaBiBT_G296.npy,8\\nFaltaBiBT_G297.npy,8\\nFaltaBiBT_G298.npy,8\\nFaltaBiBT_G299.npy,8\\nFaltaBiBT_G300.npy,8\\nFaltaTriAT_G1.npy,9\\nFaltaTriAT_G2.npy,9\\nFaltaTriAT_G3.npy,9\\nFaltaTriAT_G4.npy,9\\nFaltaTriAT_G5.npy,9\\nFaltaTriAT_G6.npy,9\\nFaltaTriAT_G7.npy,9\\nFaltaTriAT_G8.npy,9\\nFaltaTriAT_G9.npy,9\\nFaltaTriAT_G10.npy,9\\nFaltaTriAT_G11.npy,9\\nFaltaTriAT_G12.npy,9\\nFaltaTriAT_G13.npy,9\\nFaltaTriAT_G14.npy,9\\nFaltaTriAT_G15.npy,9\\nFaltaTriAT_G16.npy,9\\nFaltaTriAT_G17.npy,9\\nFaltaTriAT_G18.npy,9\\nFaltaTriAT_G19.npy,9\\nFaltaTriAT_G20.npy,9\\nFaltaTriAT_G21.npy,9\\nFaltaTriAT_G22.npy,9\\nFaltaTriAT_G23.npy,9\\nFaltaTriAT_G24.npy,9\\nFaltaTriAT_G25.npy,9\\nFaltaTriAT_G26.npy,9\\nFaltaTriAT_G27.npy,9\\nFaltaTriAT_G28.npy,9\\nFaltaTriAT_G29.npy,9\\nFaltaTriAT_G30.npy,9\\nFaltaTriAT_G31.npy,9\\nFaltaTriAT_G32.npy,9\\nFaltaTriAT_G33.npy,9\\nFaltaTriAT_G34.npy,9\\nFaltaTriAT_G35.npy,9\\nFaltaTriAT_G36.npy,9\\nFaltaTriAT_G37.npy,9\\nFaltaTriAT_G38.npy,9\\nFaltaTriAT_G39.npy,9\\nFaltaTriAT_G40.npy,9\\nFaltaTriAT_G41.npy,9\\nFaltaTriAT_G42.npy,9\\nFaltaTriAT_G43.npy,9\\nFaltaTriAT_G44.npy,9\\nFaltaTriAT_G45.npy,9\\nFaltaTriAT_G46.npy,9\\nFaltaTriAT_G47.npy,9\\nFaltaTriAT_G48.npy,9\\nFaltaTriAT_G49.npy,9\\nFaltaTriAT_G50.npy,9\\nFaltaTriAT_G51.npy,9\\nFaltaTriAT_G52.npy,9\\nFaltaTriAT_G53.npy,9\\nFaltaTriAT_G54.npy,9\\nFaltaTriAT_G55.npy,9\\nFaltaTriAT_G56.npy,9\\nFaltaTriAT_G57.npy,9\\nFaltaTriAT_G58.npy,9\\nFaltaTriAT_G59.npy,9\\nFaltaTriAT_G60.npy,9\\nFaltaTriAT_G61.npy,9\\nFaltaTriAT_G62.npy,9\\nFaltaTriAT_G63.npy,9\\nFaltaTriAT_G64.npy,9\\nFaltaTriAT_G65.npy,9\\nFaltaTriAT_G66.npy,9\\nFaltaTriAT_G67.npy,9\\nFaltaTriAT_G68.npy,9\\nFaltaTriAT_G69.npy,9\\nFaltaTriAT_G70.npy,9\\nFaltaTriAT_G71.npy,9\\nFaltaTriAT_G72.npy,9\\nFaltaTriAT_G73.npy,9\\nFaltaTriAT_G74.npy,9\\nFaltaTriAT_G75.npy,9\\nFaltaTriAT_G76.npy,9\\nFaltaTriAT_G77.npy,9\\nFaltaTriAT_G78.npy,9\\nFaltaTriAT_G79.npy,9\\nFaltaTriAT_G80.npy,9\\nFaltaTriAT_G81.npy,9\\nFaltaTriAT_G82.npy,9\\nFaltaTriAT_G83.npy,9\\nFaltaTriAT_G84.npy,9\\nFaltaTriAT_G85.npy,9\\nFaltaTriAT_G86.npy,9\\nFaltaTriAT_G87.npy,9\\nFaltaTriAT_G88.npy,9\\nFaltaTriAT_G89.npy,9\\nFaltaTriAT_G90.npy,9\\nFaltaTriAT_G91.npy,9\\nFaltaTriAT_G92.npy,9\\nFaltaTriAT_G93.npy,9\\nFaltaTriAT_G94.npy,9\\nFaltaTriAT_G95.npy,9\\nFaltaTriAT_G96.npy,9\\nFaltaTriAT_G97.npy,9\\nFaltaTriAT_G98.npy,9\\nFaltaTriAT_G99.npy,9\\nFaltaTriAT_G100.npy,9\\nFaltaTriAT_G101.npy,9\\nFaltaTriAT_G102.npy,9\\nFaltaTriAT_G103.npy,9\\nFaltaTriAT_G104.npy,9\\nFaltaTriAT_G105.npy,9\\nFaltaTriAT_G106.npy,9\\nFaltaTriAT_G107.npy,9\\nFaltaTriAT_G108.npy,9\\nFaltaTriAT_G109.npy,9\\nFaltaTriAT_G110.npy,9\\nFaltaTriAT_G111.npy,9\\nFaltaTriAT_G112.npy,9\\nFaltaTriAT_G113.npy,9\\nFaltaTriAT_G114.npy,9\\nFaltaTriAT_G115.npy,9\\nFaltaTriAT_G116.npy,9\\nFaltaTriAT_G117.npy,9\\nFaltaTriAT_G118.npy,9\\nFaltaTriAT_G119.npy,9\\nFaltaTriAT_G120.npy,9\\nFaltaTriAT_G121.npy,9\\nFaltaTriAT_G122.npy,9\\nFaltaTriAT_G123.npy,9\\nFaltaTriAT_G124.npy,9\\nFaltaTriAT_G125.npy,9\\nFaltaTriAT_G126.npy,9\\nFaltaTriAT_G127.npy,9\\nFaltaTriAT_G128.npy,9\\nFaltaTriAT_G129.npy,9\\nFaltaTriAT_G130.npy,9\\nFaltaTriAT_G131.npy,9\\nFaltaTriAT_G132.npy,9\\nFaltaTriAT_G133.npy,9\\nFaltaTriAT_G134.npy,9\\nFaltaTriAT_G135.npy,9\\nFaltaTriAT_G136.npy,9\\nFaltaTriAT_G137.npy,9\\nFaltaTriAT_G138.npy,9\\nFaltaTriAT_G139.npy,9\\nFaltaTriAT_G140.npy,9\\nFaltaTriAT_G141.npy,9\\nFaltaTriAT_G142.npy,9\\nFaltaTriAT_G143.npy,9\\nFaltaTriAT_G144.npy,9\\nFaltaTriAT_G145.npy,9\\nFaltaTriAT_G146.npy,9\\nFaltaTriAT_G147.npy,9\\nFaltaTriAT_G148.npy,9\\nFaltaTriAT_G149.npy,9\\nFaltaTriAT_G150.npy,9\\nFaltaTriAT_G151.npy,9\\nFaltaTriAT_G152.npy,9\\nFaltaTriAT_G153.npy,9\\nFaltaTriAT_G154.npy,9\\nFaltaTriAT_G155.npy,9\\nFaltaTriAT_G156.npy,9\\nFaltaTriAT_G157.npy,9\\nFaltaTriAT_G158.npy,9\\nFaltaTriAT_G159.npy,9\\nFaltaTriAT_G160.npy,9\\nFaltaTriAT_G161.npy,9\\nFaltaTriAT_G162.npy,9\\nFaltaTriAT_G163.npy,9\\nFaltaTriAT_G164.npy,9\\nFaltaTriAT_G165.npy,9\\nFaltaTriAT_G166.npy,9\\nFaltaTriAT_G167.npy,9\\nFaltaTriAT_G168.npy,9\\nFaltaTriAT_G169.npy,9\\nFaltaTriAT_G170.npy,9\\nFaltaTriAT_G171.npy,9\\nFaltaTriAT_G172.npy,9\\nFaltaTriAT_G173.npy,9\\nFaltaTriAT_G174.npy,9\\nFaltaTriAT_G175.npy,9\\nFaltaTriAT_G176.npy,9\\nFaltaTriAT_G177.npy,9\\nFaltaTriAT_G178.npy,9\\nFaltaTriAT_G179.npy,9\\nFaltaTriAT_G180.npy,9\\nFaltaTriAT_G181.npy,9\\nFaltaTriAT_G182.npy,9\\nFaltaTriAT_G183.npy,9\\nFaltaTriAT_G184.npy,9\\nFaltaTriAT_G185.npy,9\\nFaltaTriAT_G186.npy,9\\nFaltaTriAT_G187.npy,9\\nFaltaTriAT_G188.npy,9\\nFaltaTriAT_G189.npy,9\\nFaltaTriAT_G190.npy,9\\nFaltaTriAT_G191.npy,9\\nFaltaTriAT_G192.npy,9\\nFaltaTriAT_G193.npy,9\\nFaltaTriAT_G194.npy,9\\nFaltaTriAT_G195.npy,9\\nFaltaTriAT_G196.npy,9\\nFaltaTriAT_G197.npy,9\\nFaltaTriAT_G198.npy,9\\nFaltaTriAT_G199.npy,9\\nFaltaTriAT_G200.npy,9\\nFaltaTriAT_G201.npy,9\\nFaltaTriAT_G202.npy,9\\nFaltaTriAT_G203.npy,9\\nFaltaTriAT_G204.npy,9\\nFaltaTriAT_G205.npy,9\\nFaltaTriAT_G206.npy,9\\nFaltaTriAT_G207.npy,9\\nFaltaTriAT_G208.npy,9\\nFaltaTriAT_G209.npy,9\\nFaltaTriAT_G210.npy,9\\nFaltaTriAT_G211.npy,9\\nFaltaTriAT_G212.npy,9\\nFaltaTriAT_G213.npy,9\\nFaltaTriAT_G214.npy,9\\nFaltaTriAT_G215.npy,9\\nFaltaTriAT_G216.npy,9\\nFaltaTriAT_G217.npy,9\\nFaltaTriAT_G218.npy,9\\nFaltaTriAT_G219.npy,9\\nFaltaTriAT_G220.npy,9\\nFaltaTriAT_G221.npy,9\\nFaltaTriAT_G222.npy,9\\nFaltaTriAT_G223.npy,9\\nFaltaTriAT_G224.npy,9\\nFaltaTriAT_G225.npy,9\\nFaltaTriAT_G226.npy,9\\nFaltaTriAT_G227.npy,9\\nFaltaTriAT_G228.npy,9\\nFaltaTriAT_G229.npy,9\\nFaltaTriAT_G230.npy,9\\nFaltaTriAT_G231.npy,9\\nFaltaTriAT_G232.npy,9\\nFaltaTriAT_G233.npy,9\\nFaltaTriAT_G234.npy,9\\nFaltaTriAT_G235.npy,9\\nFaltaTriAT_G236.npy,9\\nFaltaTriAT_G237.npy,9\\nFaltaTriAT_G238.npy,9\\nFaltaTriAT_G239.npy,9\\nFaltaTriAT_G240.npy,9\\nFaltaTriAT_G241.npy,9\\nFaltaTriAT_G242.npy,9\\nFaltaTriAT_G243.npy,9\\nFaltaTriAT_G244.npy,9\\nFaltaTriAT_G245.npy,9\\nFaltaTriAT_G246.npy,9\\nFaltaTriAT_G247.npy,9\\nFaltaTriAT_G248.npy,9\\nFaltaTriAT_G249.npy,9\\nFaltaTriAT_G250.npy,9\\nFaltaTriAT_G251.npy,9\\nFaltaTriAT_G252.npy,9\\nFaltaTriAT_G253.npy,9\\nFaltaTriAT_G254.npy,9\\nFaltaTriAT_G255.npy,9\\nFaltaTriAT_G256.npy,9\\nFaltaTriAT_G257.npy,9\\nFaltaTriAT_G258.npy,9\\nFaltaTriAT_G259.npy,9\\nFaltaTriAT_G260.npy,9\\nFaltaTriAT_G261.npy,9\\nFaltaTriAT_G262.npy,9\\nFaltaTriAT_G263.npy,9\\nFaltaTriAT_G264.npy,9\\nFaltaTriAT_G265.npy,9\\nFaltaTriAT_G266.npy,9\\nFaltaTriAT_G267.npy,9\\nFaltaTriAT_G268.npy,9\\nFaltaTriAT_G269.npy,9\\nFaltaTriAT_G270.npy,9\\nFaltaTriAT_G271.npy,9\\nFaltaTriAT_G272.npy,9\\nFaltaTriAT_G273.npy,9\\nFaltaTriAT_G274.npy,9\\nFaltaTriAT_G275.npy,9\\nFaltaTriAT_G276.npy,9\\nFaltaTriAT_G277.npy,9\\nFaltaTriAT_G278.npy,9\\nFaltaTriAT_G279.npy,9\\nFaltaTriAT_G280.npy,9\\nFaltaTriAT_G281.npy,9\\nFaltaTriAT_G282.npy,9\\nFaltaTriAT_G283.npy,9\\nFaltaTriAT_G284.npy,9\\nFaltaTriAT_G285.npy,9\\nFaltaTriAT_G286.npy,9\\nFaltaTriAT_G287.npy,9\\nFaltaTriAT_G288.npy,9\\nFaltaTriAT_G289.npy,9\\nFaltaTriAT_G290.npy,9\\nFaltaTriAT_G291.npy,9\\nFaltaTriAT_G292.npy,9\\nFaltaTriAT_G293.npy,9\\nFaltaTriAT_G294.npy,9\\nFaltaTriAT_G295.npy,9\\nFaltaTriAT_G296.npy,9\\nFaltaTriAT_G297.npy,9\\nFaltaTriAT_G298.npy,9\\nFaltaTriAT_G299.npy,9\\nFaltaTriAT_G300.npy,9\\nFaltaTriBT_G1.npy,10\\nFaltaTriBT_G2.npy,10\\nFaltaTriBT_G3.npy,10\\nFaltaTriBT_G4.npy,10\\nFaltaTriBT_G5.npy,10\\nFaltaTriBT_G6.npy,10\\nFaltaTriBT_G7.npy,10\\nFaltaTriBT_G8.npy,10\\nFaltaTriBT_G9.npy,10\\nFaltaTriBT_G10.npy,10\\nFaltaTriBT_G11.npy,10\\nFaltaTriBT_G12.npy,10\\nFaltaTriBT_G13.npy,10\\nFaltaTriBT_G14.npy,10\\nFaltaTriBT_G15.npy,10\\nFaltaTriBT_G16.npy,10\\nFaltaTriBT_G17.npy,10\\nFaltaTriBT_G18.npy,10\\nFaltaTriBT_G19.npy,10\\nFaltaTriBT_G20.npy,10\\nFaltaTriBT_G21.npy,10\\nFaltaTriBT_G22.npy,10\\nFaltaTriBT_G23.npy,10\\nFaltaTriBT_G24.npy,10\\nFaltaTriBT_G25.npy,10\\nFaltaTriBT_G26.npy,10\\nFaltaTriBT_G27.npy,10\\nFaltaTriBT_G28.npy,10\\nFaltaTriBT_G29.npy,10\\nFaltaTriBT_G30.npy,10\\nFaltaTriBT_G31.npy,10\\nFaltaTriBT_G32.npy,10\\nFaltaTriBT_G33.npy,10\\nFaltaTriBT_G34.npy,10\\nFaltaTriBT_G35.npy,10\\nFaltaTriBT_G36.npy,10\\nFaltaTriBT_G37.npy,10\\nFaltaTriBT_G38.npy,10\\nFaltaTriBT_G39.npy,10\\nFaltaTriBT_G40.npy,10\\nFaltaTriBT_G41.npy,10\\nFaltaTriBT_G42.npy,10\\nFaltaTriBT_G43.npy,10\\nFaltaTriBT_G44.npy,10\\nFaltaTriBT_G45.npy,10\\nFaltaTriBT_G46.npy,10\\nFaltaTriBT_G47.npy,10\\nFaltaTriBT_G48.npy,10\\nFaltaTriBT_G49.npy,10\\nFaltaTriBT_G50.npy,10\\nFaltaTriBT_G51.npy,10\\nFaltaTriBT_G52.npy,10\\nFaltaTriBT_G53.npy,10\\nFaltaTriBT_G54.npy,10\\nFaltaTriBT_G55.npy,10\\nFaltaTriBT_G56.npy,10\\nFaltaTriBT_G57.npy,10\\nFaltaTriBT_G58.npy,10\\nFaltaTriBT_G59.npy,10\\nFaltaTriBT_G60.npy,10\\nFaltaTriBT_G61.npy,10\\nFaltaTriBT_G62.npy,10\\nFaltaTriBT_G63.npy,10\\nFaltaTriBT_G64.npy,10\\nFaltaTriBT_G65.npy,10\\nFaltaTriBT_G66.npy,10\\nFaltaTriBT_G67.npy,10\\nFaltaTriBT_G68.npy,10\\nFaltaTriBT_G69.npy,10\\nFaltaTriBT_G70.npy,10\\nFaltaTriBT_G71.npy,10\\nFaltaTriBT_G72.npy,10\\nFaltaTriBT_G73.npy,10\\nFaltaTriBT_G74.npy,10\\nFaltaTriBT_G75.npy,10\\nFaltaTriBT_G76.npy,10\\nFaltaTriBT_G77.npy,10\\nFaltaTriBT_G78.npy,10\\nFaltaTriBT_G79.npy,10\\nFaltaTriBT_G80.npy,10\\nFaltaTriBT_G81.npy,10\\nFaltaTriBT_G82.npy,10\\nFaltaTriBT_G83.npy,10\\nFaltaTriBT_G84.npy,10\\nFaltaTriBT_G85.npy,10\\nFaltaTriBT_G86.npy,10\\nFaltaTriBT_G87.npy,10\\nFaltaTriBT_G88.npy,10\\nFaltaTriBT_G89.npy,10\\nFaltaTriBT_G90.npy,10\\nFaltaTriBT_G91.npy,10\\nFaltaTriBT_G92.npy,10\\nFaltaTriBT_G93.npy,10\\nFaltaTriBT_G94.npy,10\\nFaltaTriBT_G95.npy,10\\nFaltaTriBT_G96.npy,10\\nFaltaTriBT_G97.npy,10\\nFaltaTriBT_G98.npy,10\\nFaltaTriBT_G99.npy,10\\nFaltaTriBT_G100.npy,10\\nFaltaTriBT_G101.npy,10\\nFaltaTriBT_G102.npy,10\\nFaltaTriBT_G103.npy,10\\nFaltaTriBT_G104.npy,10\\nFaltaTriBT_G105.npy,10\\nFaltaTriBT_G106.npy,10\\nFaltaTriBT_G107.npy,10\\nFaltaTriBT_G108.npy,10\\nFaltaTriBT_G109.npy,10\\nFaltaTriBT_G110.npy,10\\nFaltaTriBT_G111.npy,10\\nFaltaTriBT_G112.npy,10\\nFaltaTriBT_G113.npy,10\\nFaltaTriBT_G114.npy,10\\nFaltaTriBT_G115.npy,10\\nFaltaTriBT_G116.npy,10\\nFaltaTriBT_G117.npy,10\\nFaltaTriBT_G118.npy,10\\nFaltaTriBT_G119.npy,10\\nFaltaTriBT_G120.npy,10\\nFaltaTriBT_G121.npy,10\\nFaltaTriBT_G122.npy,10\\nFaltaTriBT_G123.npy,10\\nFaltaTriBT_G124.npy,10\\nFaltaTriBT_G125.npy,10\\nFaltaTriBT_G126.npy,10\\nFaltaTriBT_G127.npy,10\\nFaltaTriBT_G128.npy,10\\nFaltaTriBT_G129.npy,10\\nFaltaTriBT_G130.npy,10\\nFaltaTriBT_G131.npy,10\\nFaltaTriBT_G132.npy,10\\nFaltaTriBT_G133.npy,10\\nFaltaTriBT_G134.npy,10\\nFaltaTriBT_G135.npy,10\\nFaltaTriBT_G136.npy,10\\nFaltaTriBT_G137.npy,10\\nFaltaTriBT_G138.npy,10\\nFaltaTriBT_G139.npy,10\\nFaltaTriBT_G140.npy,10\\nFaltaTriBT_G141.npy,10\\nFaltaTriBT_G142.npy,10\\nFaltaTriBT_G143.npy,10\\nFaltaTriBT_G144.npy,10\\nFaltaTriBT_G145.npy,10\\nFaltaTriBT_G146.npy,10\\nFaltaTriBT_G147.npy,10\\nFaltaTriBT_G148.npy,10\\nFaltaTriBT_G149.npy,10\\nFaltaTriBT_G150.npy,10\\nFaltaTriBT_G151.npy,10\\nFaltaTriBT_G152.npy,10\\nFaltaTriBT_G153.npy,10\\nFaltaTriBT_G154.npy,10\\nFaltaTriBT_G155.npy,10\\nFaltaTriBT_G156.npy,10\\nFaltaTriBT_G157.npy,10\\nFaltaTriBT_G158.npy,10\\nFaltaTriBT_G159.npy,10\\nFaltaTriBT_G160.npy,10\\nFaltaTriBT_G161.npy,10\\nFaltaTriBT_G162.npy,10\\nFaltaTriBT_G163.npy,10\\nFaltaTriBT_G164.npy,10\\nFaltaTriBT_G165.npy,10\\nFaltaTriBT_G166.npy,10\\nFaltaTriBT_G167.npy,10\\nFaltaTriBT_G168.npy,10\\nFaltaTriBT_G169.npy,10\\nFaltaTriBT_G170.npy,10\\nFaltaTriBT_G171.npy,10\\nFaltaTriBT_G172.npy,10\\nFaltaTriBT_G173.npy,10\\nFaltaTriBT_G174.npy,10\\nFaltaTriBT_G175.npy,10\\nFaltaTriBT_G176.npy,10\\nFaltaTriBT_G177.npy,10\\nFaltaTriBT_G178.npy,10\\nFaltaTriBT_G179.npy,10\\nFaltaTriBT_G180.npy,10\\nFaltaTriBT_G181.npy,10\\nFaltaTriBT_G182.npy,10\\nFaltaTriBT_G183.npy,10\\nFaltaTriBT_G184.npy,10\\nFaltaTriBT_G185.npy,10\\nFaltaTriBT_G186.npy,10\\nFaltaTriBT_G187.npy,10\\nFaltaTriBT_G188.npy,10\\nFaltaTriBT_G189.npy,10\\nFaltaTriBT_G190.npy,10\\nFaltaTriBT_G191.npy,10\\nFaltaTriBT_G192.npy,10\\nFaltaTriBT_G193.npy,10\\nFaltaTriBT_G194.npy,10\\nFaltaTriBT_G195.npy,10\\nFaltaTriBT_G196.npy,10\\nFaltaTriBT_G197.npy,10\\nFaltaTriBT_G198.npy,10\\nFaltaTriBT_G199.npy,10\\nFaltaTriBT_G200.npy,10\\nFaltaTriBT_G201.npy,10\\nFaltaTriBT_G202.npy,10\\nFaltaTriBT_G203.npy,10\\nFaltaTriBT_G204.npy,10\\nFaltaTriBT_G205.npy,10\\nFaltaTriBT_G206.npy,10\\nFaltaTriBT_G207.npy,10\\nFaltaTriBT_G208.npy,10\\nFaltaTriBT_G209.npy,10\\nFaltaTriBT_G210.npy,10\\nFaltaTriBT_G211.npy,10\\nFaltaTriBT_G212.npy,10\\nFaltaTriBT_G213.npy,10\\nFaltaTriBT_G214.npy,10\\nFaltaTriBT_G215.npy,10\\nFaltaTriBT_G216.npy,10\\nFaltaTriBT_G217.npy,10\\nFaltaTriBT_G218.npy,10\\nFaltaTriBT_G219.npy,10\\nFaltaTriBT_G220.npy,10\\nFaltaTriBT_G221.npy,10\\nFaltaTriBT_G222.npy,10\\nFaltaTriBT_G223.npy,10\\nFaltaTriBT_G224.npy,10\\nFaltaTriBT_G225.npy,10\\nFaltaTriBT_G226.npy,10\\nFaltaTriBT_G227.npy,10\\nFaltaTriBT_G228.npy,10\\nFaltaTriBT_G229.npy,10\\nFaltaTriBT_G230.npy,10\\nFaltaTriBT_G231.npy,10\\nFaltaTriBT_G232.npy,10\\nFaltaTriBT_G233.npy,10\\nFaltaTriBT_G234.npy,10\\nFaltaTriBT_G235.npy,10\\nFaltaTriBT_G236.npy,10\\nFaltaTriBT_G237.npy,10\\nFaltaTriBT_G238.npy,10\\nFaltaTriBT_G239.npy,10\\nFaltaTriBT_G240.npy,10\\nFaltaTriBT_G241.npy,10\\nFaltaTriBT_G242.npy,10\\nFaltaTriBT_G243.npy,10\\nFaltaTriBT_G244.npy,10\\nFaltaTriBT_G245.npy,10\\nFaltaTriBT_G246.npy,10\\nFaltaTriBT_G247.npy,10\\nFaltaTriBT_G248.npy,10\\nFaltaTriBT_G249.npy,10\\nFaltaTriBT_G250.npy,10\\nFaltaTriBT_G251.npy,10\\nFaltaTriBT_G252.npy,10\\nFaltaTriBT_G253.npy,10\\nFaltaTriBT_G254.npy,10\\nFaltaTriBT_G255.npy,10\\nFaltaTriBT_G256.npy,10\\nFaltaTriBT_G257.npy,10\\nFaltaTriBT_G258.npy,10\\nFaltaTriBT_G259.npy,10\\nFaltaTriBT_G260.npy,10\\nFaltaTriBT_G261.npy,10\\nFaltaTriBT_G262.npy,10\\nFaltaTriBT_G263.npy,10\\nFaltaTriBT_G264.npy,10\\nFaltaTriBT_G265.npy,10\\nFaltaTriBT_G266.npy,10\\nFaltaTriBT_G267.npy,10\\nFaltaTriBT_G268.npy,10\\nFaltaTriBT_G269.npy,10\\nFaltaTriBT_G270.npy,10\\nFaltaTriBT_G271.npy,10\\nFaltaTriBT_G272.npy,10\\nFaltaTriBT_G273.npy,10\\nFaltaTriBT_G274.npy,10\\nFaltaTriBT_G275.npy,10\\nFaltaTriBT_G276.npy,10\\nFaltaTriBT_G277.npy,10\\nFaltaTriBT_G278.npy,10\\nFaltaTriBT_G279.npy,10\\nFaltaTriBT_G280.npy,10\\nFaltaTriBT_G281.npy,10\\nFaltaTriBT_G282.npy,10\\nFaltaTriBT_G283.npy,10\\nFaltaTriBT_G284.npy,10\\nFaltaTriBT_G285.npy,10\\nFaltaTriBT_G286.npy,10\\nFaltaTriBT_G287.npy,10\\nFaltaTriBT_G288.npy,10\\nFaltaTriBT_G289.npy,10\\nFaltaTriBT_G290.npy,10\\nFaltaTriBT_G291.npy,10\\nFaltaTriBT_G292.npy,10\\nFaltaTriBT_G293.npy,10\\nFaltaTriBT_G294.npy,10\\nFaltaTriBT_G295.npy,10\\nFaltaTriBT_G296.npy,10\\nFaltaTriBT_G297.npy,10\\nFaltaTriBT_G298.npy,10\\nFaltaTriBT_G299.npy,10\\nFaltaTriBT_G300.npy,10\\nFaltaMonoAT_EXT1.npy,11\\nFaltaMonoAT_EXT2.npy,11\\nFaltaMonoAT_EXT3.npy,11\\nFaltaMonoAT_EXT4.npy,11\\nFaltaMonoAT_EXT5.npy,11\\nFaltaMonoAT_EXT6.npy,11\\nFaltaMonoAT_EXT7.npy,11\\nFaltaMonoAT_EXT8.npy,11\\nFaltaMonoAT_EXT9.npy,11\\nFaltaMonoAT_EXT10.npy,11\\nFaltaMonoAT_EXT11.npy,11\\nFaltaMonoAT_EXT12.npy,11\\nFaltaMonoAT_EXT13.npy,11\\nFaltaMonoAT_EXT14.npy,11\\nFaltaMonoAT_EXT15.npy,11\\nFaltaMonoAT_EXT16.npy,11\\nFaltaMonoAT_EXT17.npy,11\\nFaltaMonoAT_EXT18.npy,11\\nFaltaMonoAT_EXT19.npy,11\\nFaltaMonoAT_EXT20.npy,11\\nFaltaMonoAT_EXT21.npy,11\\nFaltaMonoAT_EXT22.npy,11\\nFaltaMonoAT_EXT23.npy,11\\nFaltaMonoAT_EXT24.npy,11\\nFaltaMonoAT_EXT25.npy,11\\nFaltaMonoAT_EXT26.npy,11\\nFaltaMonoAT_EXT27.npy,11\\nFaltaMonoAT_EXT28.npy,11\\nFaltaMonoAT_EXT29.npy,11\\nFaltaMonoAT_EXT30.npy,11\\nFaltaMonoAT_EXT31.npy,11\\nFaltaMonoAT_EXT32.npy,11\\nFaltaMonoAT_EXT33.npy,11\\nFaltaMonoAT_EXT34.npy,11\\nFaltaMonoAT_EXT35.npy,11\\nFaltaMonoAT_EXT36.npy,11\\nFaltaMonoAT_EXT37.npy,11\\nFaltaMonoAT_EXT38.npy,11\\nFaltaMonoAT_EXT39.npy,11\\nFaltaMonoAT_EXT40.npy,11\\nFaltaMonoAT_EXT41.npy,11\\nFaltaMonoAT_EXT42.npy,11\\nFaltaMonoAT_EXT43.npy,11\\nFaltaMonoAT_EXT44.npy,11\\nFaltaMonoAT_EXT45.npy,11\\nFaltaMonoAT_EXT46.npy,11\\nFaltaMonoAT_EXT47.npy,11\\nFaltaMonoAT_EXT48.npy,11\\nFaltaMonoAT_EXT49.npy,11\\nFaltaMonoAT_EXT50.npy,11\\nFaltaMonoAT_EXT51.npy,11\\nFaltaMonoAT_EXT52.npy,11\\nFaltaMonoAT_EXT53.npy,11\\nFaltaMonoAT_EXT54.npy,11\\nFaltaMonoAT_EXT55.npy,11\\nFaltaMonoAT_EXT56.npy,11\\nFaltaMonoAT_EXT57.npy,11\\nFaltaMonoAT_EXT58.npy,11\\nFaltaMonoAT_EXT59.npy,11\\nFaltaMonoAT_EXT60.npy,11\\nFaltaMonoAT_EXT61.npy,11\\nFaltaMonoAT_EXT62.npy,11\\nFaltaMonoAT_EXT63.npy,11\\nFaltaMonoAT_EXT64.npy,11\\nFaltaMonoAT_EXT65.npy,11\\nFaltaMonoAT_EXT66.npy,11\\nFaltaMonoAT_EXT67.npy,11\\nFaltaMonoAT_EXT68.npy,11\\nFaltaMonoAT_EXT69.npy,11\\nFaltaMonoAT_EXT70.npy,11\\nFaltaMonoAT_EXT71.npy,11\\nFaltaMonoAT_EXT72.npy,11\\nFaltaMonoAT_EXT73.npy,11\\nFaltaMonoAT_EXT74.npy,11\\nFaltaMonoAT_EXT75.npy,11\\nFaltaMonoAT_EXT76.npy,11\\nFaltaMonoAT_EXT77.npy,11\\nFaltaMonoAT_EXT78.npy,11\\nFaltaMonoAT_EXT79.npy,11\\nFaltaMonoAT_EXT80.npy,11\\nFaltaMonoAT_EXT81.npy,11\\nFaltaMonoAT_EXT82.npy,11\\nFaltaMonoAT_EXT83.npy,11\\nFaltaMonoAT_EXT84.npy,11\\nFaltaMonoAT_EXT85.npy,11\\nFaltaMonoAT_EXT86.npy,11\\nFaltaMonoAT_EXT87.npy,11\\nFaltaMonoAT_EXT88.npy,11\\nFaltaMonoAT_EXT89.npy,11\\nFaltaMonoAT_EXT90.npy,11\\nFaltaMonoAT_EXT91.npy,11\\nFaltaMonoAT_EXT92.npy,11\\nFaltaMonoAT_EXT93.npy,11\\nFaltaMonoAT_EXT94.npy,11\\nFaltaMonoAT_EXT95.npy,11\\nFaltaMonoAT_EXT96.npy,11\\nFaltaMonoAT_EXT97.npy,11\\nFaltaMonoAT_EXT98.npy,11\\nFaltaMonoAT_EXT99.npy,11\\nFaltaMonoAT_EXT100.npy,11\\nFaltaMonoAT_EXT101.npy,11\\nFaltaMonoAT_EXT102.npy,11\\nFaltaMonoAT_EXT103.npy,11\\nFaltaMonoAT_EXT104.npy,11\\nFaltaMonoAT_EXT105.npy,11\\nFaltaMonoAT_EXT106.npy,11\\nFaltaMonoAT_EXT107.npy,11\\nFaltaMonoAT_EXT108.npy,11\\nFaltaMonoAT_EXT109.npy,11\\nFaltaMonoAT_EXT110.npy,11\\nFaltaMonoAT_EXT111.npy,11\\nFaltaMonoAT_EXT112.npy,11\\nFaltaMonoAT_EXT113.npy,11\\nFaltaMonoAT_EXT114.npy,11\\nFaltaMonoAT_EXT115.npy,11\\nFaltaMonoAT_EXT116.npy,11\\nFaltaMonoAT_EXT117.npy,11\\nFaltaMonoAT_EXT118.npy,11\\nFaltaMonoAT_EXT119.npy,11\\nFaltaMonoAT_EXT120.npy,11\\nFaltaMonoAT_EXT121.npy,11\\nFaltaMonoAT_EXT122.npy,11\\nFaltaMonoAT_EXT123.npy,11\\nFaltaMonoAT_EXT124.npy,11\\nFaltaMonoAT_EXT125.npy,11\\nFaltaMonoAT_EXT126.npy,11\\nFaltaMonoAT_EXT127.npy,11\\nFaltaMonoAT_EXT128.npy,11\\nFaltaMonoAT_EXT129.npy,11\\nFaltaMonoAT_EXT130.npy,11\\nFaltaMonoAT_EXT131.npy,11\\nFaltaMonoAT_EXT132.npy,11\\nFaltaMonoAT_EXT133.npy,11\\nFaltaMonoAT_EXT134.npy,11\\nFaltaMonoAT_EXT135.npy,11\\nFaltaMonoAT_EXT136.npy,11\\nFaltaMonoAT_EXT137.npy,11\\nFaltaMonoAT_EXT138.npy,11\\nFaltaMonoAT_EXT139.npy,11\\nFaltaMonoAT_EXT140.npy,11\\nFaltaMonoAT_EXT141.npy,11\\nFaltaMonoAT_EXT142.npy,11\\nFaltaMonoAT_EXT143.npy,11\\nFaltaMonoAT_EXT144.npy,11\\nFaltaMonoAT_EXT145.npy,11\\nFaltaMonoAT_EXT146.npy,11\\nFaltaMonoAT_EXT147.npy,11\\nFaltaMonoAT_EXT148.npy,11\\nFaltaMonoAT_EXT149.npy,11\\nFaltaMonoAT_EXT150.npy,11\\nFaltaMonoAT_EXT151.npy,11\\nFaltaMonoAT_EXT152.npy,11\\nFaltaMonoAT_EXT153.npy,11\\nFaltaMonoAT_EXT154.npy,11\\nFaltaMonoAT_EXT155.npy,11\\nFaltaMonoAT_EXT156.npy,11\\nFaltaMonoAT_EXT157.npy,11\\nFaltaMonoAT_EXT158.npy,11\\nFaltaMonoAT_EXT159.npy,11\\nFaltaMonoAT_EXT160.npy,11\\nFaltaMonoAT_EXT161.npy,11\\nFaltaMonoAT_EXT162.npy,11\\nFaltaMonoAT_EXT163.npy,11\\nFaltaMonoAT_EXT164.npy,11\\nFaltaMonoAT_EXT165.npy,11\\nFaltaMonoAT_EXT166.npy,11\\nFaltaMonoAT_EXT167.npy,11\\nFaltaMonoAT_EXT168.npy,11\\nFaltaMonoAT_EXT169.npy,11\\nFaltaMonoAT_EXT170.npy,11\\nFaltaMonoAT_EXT171.npy,11\\nFaltaMonoAT_EXT172.npy,11\\nFaltaMonoAT_EXT173.npy,11\\nFaltaMonoAT_EXT174.npy,11\\nFaltaMonoAT_EXT175.npy,11\\nFaltaMonoAT_EXT176.npy,11\\nFaltaMonoAT_EXT177.npy,11\\nFaltaMonoAT_EXT178.npy,11\\nFaltaMonoAT_EXT179.npy,11\\nFaltaMonoAT_EXT180.npy,11\\nFaltaMonoAT_EXT181.npy,11\\nFaltaMonoAT_EXT182.npy,11\\nFaltaMonoAT_EXT183.npy,11\\nFaltaMonoAT_EXT184.npy,11\\nFaltaMonoAT_EXT185.npy,11\\nFaltaMonoAT_EXT186.npy,11\\nFaltaMonoAT_EXT187.npy,11\\nFaltaMonoAT_EXT188.npy,11\\nFaltaMonoAT_EXT189.npy,11\\nFaltaMonoAT_EXT190.npy,11\\nFaltaMonoAT_EXT191.npy,11\\nFaltaMonoAT_EXT192.npy,11\\nFaltaMonoAT_EXT193.npy,11\\nFaltaMonoAT_EXT194.npy,11\\nFaltaMonoAT_EXT195.npy,11\\nFaltaMonoAT_EXT196.npy,11\\nFaltaMonoAT_EXT197.npy,11\\nFaltaMonoAT_EXT198.npy,11\\nFaltaMonoAT_EXT199.npy,11\\nFaltaMonoAT_EXT200.npy,11\\nFaltaMonoAT_EXT201.npy,11\\nFaltaMonoAT_EXT202.npy,11\\nFaltaMonoAT_EXT203.npy,11\\nFaltaMonoAT_EXT204.npy,11\\nFaltaMonoAT_EXT205.npy,11\\nFaltaMonoAT_EXT206.npy,11\\nFaltaMonoAT_EXT207.npy,11\\nFaltaMonoAT_EXT208.npy,11\\nFaltaMonoAT_EXT209.npy,11\\nFaltaMonoAT_EXT210.npy,11\\nFaltaMonoAT_EXT211.npy,11\\nFaltaMonoAT_EXT212.npy,11\\nFaltaMonoAT_EXT213.npy,11\\nFaltaMonoAT_EXT214.npy,11\\nFaltaMonoAT_EXT215.npy,11\\nFaltaMonoAT_EXT216.npy,11\\nFaltaMonoAT_EXT217.npy,11\\nFaltaMonoAT_EXT218.npy,11\\nFaltaMonoAT_EXT219.npy,11\\nFaltaMonoAT_EXT220.npy,11\\nFaltaMonoAT_EXT221.npy,11\\nFaltaMonoAT_EXT222.npy,11\\nFaltaMonoAT_EXT223.npy,11\\nFaltaMonoAT_EXT224.npy,11\\nFaltaMonoAT_EXT225.npy,11\\nFaltaMonoAT_EXT226.npy,11\\nFaltaMonoAT_EXT227.npy,11\\nFaltaMonoAT_EXT228.npy,11\\nFaltaMonoAT_EXT229.npy,11\\nFaltaMonoAT_EXT230.npy,11\\nFaltaMonoAT_EXT231.npy,11\\nFaltaMonoAT_EXT232.npy,11\\nFaltaMonoAT_EXT233.npy,11\\nFaltaMonoAT_EXT234.npy,11\\nFaltaMonoAT_EXT235.npy,11\\nFaltaMonoAT_EXT236.npy,11\\nFaltaMonoAT_EXT237.npy,11\\nFaltaMonoAT_EXT238.npy,11\\nFaltaMonoAT_EXT239.npy,11\\nFaltaMonoAT_EXT240.npy,11\\nFaltaMonoAT_EXT241.npy,11\\nFaltaMonoAT_EXT242.npy,11\\nFaltaMonoAT_EXT243.npy,11\\nFaltaMonoAT_EXT244.npy,11\\nFaltaMonoAT_EXT245.npy,11\\nFaltaMonoAT_EXT246.npy,11\\nFaltaMonoAT_EXT247.npy,11\\nFaltaMonoAT_EXT248.npy,11\\nFaltaMonoAT_EXT249.npy,11\\nFaltaMonoAT_EXT250.npy,11\\nFaltaMonoAT_EXT251.npy,11\\nFaltaMonoAT_EXT252.npy,11\\nFaltaMonoAT_EXT253.npy,11\\nFaltaMonoAT_EXT254.npy,11\\nFaltaMonoAT_EXT255.npy,11\\nFaltaMonoAT_EXT256.npy,11\\nFaltaMonoAT_EXT257.npy,11\\nFaltaMonoAT_EXT258.npy,11\\nFaltaMonoAT_EXT259.npy,11\\nFaltaMonoAT_EXT260.npy,11\\nFaltaMonoAT_EXT261.npy,11\\nFaltaMonoAT_EXT262.npy,11\\nFaltaMonoAT_EXT263.npy,11\\nFaltaMonoAT_EXT264.npy,11\\nFaltaMonoAT_EXT265.npy,11\\nFaltaMonoAT_EXT266.npy,11\\nFaltaMonoAT_EXT267.npy,11\\nFaltaMonoAT_EXT268.npy,11\\nFaltaMonoAT_EXT269.npy,11\\nFaltaMonoAT_EXT270.npy,11\\nFaltaMonoAT_EXT271.npy,11\\nFaltaMonoAT_EXT272.npy,11\\nFaltaMonoAT_EXT273.npy,11\\nFaltaMonoAT_EXT274.npy,11\\nFaltaMonoAT_EXT275.npy,11\\nFaltaMonoAT_EXT276.npy,11\\nFaltaMonoAT_EXT277.npy,11\\nFaltaMonoAT_EXT278.npy,11\\nFaltaMonoAT_EXT279.npy,11\\nFaltaMonoAT_EXT280.npy,11\\nFaltaMonoAT_EXT281.npy,11\\nFaltaMonoAT_EXT282.npy,11\\nFaltaMonoAT_EXT283.npy,11\\nFaltaMonoAT_EXT284.npy,11\\nFaltaMonoAT_EXT285.npy,11\\nFaltaMonoAT_EXT286.npy,11\\nFaltaMonoAT_EXT287.npy,11\\nFaltaMonoAT_EXT288.npy,11\\nFaltaMonoAT_EXT289.npy,11\\nFaltaMonoAT_EXT290.npy,11\\nFaltaMonoAT_EXT291.npy,11\\nFaltaMonoAT_EXT292.npy,11\\nFaltaMonoAT_EXT293.npy,11\\nFaltaMonoAT_EXT294.npy,11\\nFaltaMonoAT_EXT295.npy,11\\nFaltaMonoAT_EXT296.npy,11\\nFaltaMonoAT_EXT297.npy,11\\nFaltaMonoAT_EXT298.npy,11\\nFaltaMonoAT_EXT299.npy,11\\nFaltaMonoAT_EXT300.npy,11\\nFaltaBiAT_EXT1.npy,11\\nFaltaBiAT_EXT2.npy,11\\nFaltaBiAT_EXT3.npy,11\\nFaltaBiAT_EXT4.npy,11\\nFaltaBiAT_EXT5.npy,11\\nFaltaBiAT_EXT6.npy,11\\nFaltaBiAT_EXT7.npy,11\\nFaltaBiAT_EXT8.npy,11\\nFaltaBiAT_EXT9.npy,11\\nFaltaBiAT_EXT10.npy,11\\nFaltaBiAT_EXT11.npy,11\\nFaltaBiAT_EXT12.npy,11\\nFaltaBiAT_EXT13.npy,11\\nFaltaBiAT_EXT14.npy,11\\nFaltaBiAT_EXT15.npy,11\\nFaltaBiAT_EXT16.npy,11\\nFaltaBiAT_EXT17.npy,11\\nFaltaBiAT_EXT18.npy,11\\nFaltaBiAT_EXT19.npy,11\\nFaltaBiAT_EXT20.npy,11\\nFaltaBiAT_EXT21.npy,11\\nFaltaBiAT_EXT22.npy,11\\nFaltaBiAT_EXT23.npy,11\\nFaltaBiAT_EXT24.npy,11\\nFaltaBiAT_EXT25.npy,11\\nFaltaBiAT_EXT26.npy,11\\nFaltaBiAT_EXT27.npy,11\\nFaltaBiAT_EXT28.npy,11\\nFaltaBiAT_EXT29.npy,11\\nFaltaBiAT_EXT30.npy,11\\nFaltaBiAT_EXT31.npy,11\\nFaltaBiAT_EXT32.npy,11\\nFaltaBiAT_EXT33.npy,11\\nFaltaBiAT_EXT34.npy,11\\nFaltaBiAT_EXT35.npy,11\\nFaltaBiAT_EXT36.npy,11\\nFaltaBiAT_EXT37.npy,11\\nFaltaBiAT_EXT38.npy,11\\nFaltaBiAT_EXT39.npy,11\\nFaltaBiAT_EXT40.npy,11\\nFaltaBiAT_EXT41.npy,11\\nFaltaBiAT_EXT42.npy,11\\nFaltaBiAT_EXT43.npy,11\\nFaltaBiAT_EXT44.npy,11\\nFaltaBiAT_EXT45.npy,11\\nFaltaBiAT_EXT46.npy,11\\nFaltaBiAT_EXT47.npy,11\\nFaltaBiAT_EXT48.npy,11\\nFaltaBiAT_EXT49.npy,11\\nFaltaBiAT_EXT50.npy,11\\nFaltaBiAT_EXT51.npy,11\\nFaltaBiAT_EXT52.npy,11\\nFaltaBiAT_EXT53.npy,11\\nFaltaBiAT_EXT54.npy,11\\nFaltaBiAT_EXT55.npy,11\\nFaltaBiAT_EXT56.npy,11\\nFaltaBiAT_EXT57.npy,11\\nFaltaBiAT_EXT58.npy,11\\nFaltaBiAT_EXT59.npy,11\\nFaltaBiAT_EXT60.npy,11\\nFaltaBiAT_EXT61.npy,11\\nFaltaBiAT_EXT62.npy,11\\nFaltaBiAT_EXT63.npy,11\\nFaltaBiAT_EXT64.npy,11\\nFaltaBiAT_EXT65.npy,11\\nFaltaBiAT_EXT66.npy,11\\nFaltaBiAT_EXT67.npy,11\\nFaltaBiAT_EXT68.npy,11\\nFaltaBiAT_EXT69.npy,11\\nFaltaBiAT_EXT70.npy,11\\nFaltaBiAT_EXT71.npy,11\\nFaltaBiAT_EXT72.npy,11\\nFaltaBiAT_EXT73.npy,11\\nFaltaBiAT_EXT74.npy,11\\nFaltaBiAT_EXT75.npy,11\\nFaltaBiAT_EXT76.npy,11\\nFaltaBiAT_EXT77.npy,11\\nFaltaBiAT_EXT78.npy,11\\nFaltaBiAT_EXT79.npy,11\\nFaltaBiAT_EXT80.npy,11\\nFaltaBiAT_EXT81.npy,11\\nFaltaBiAT_EXT82.npy,11\\nFaltaBiAT_EXT83.npy,11\\nFaltaBiAT_EXT84.npy,11\\nFaltaBiAT_EXT85.npy,11\\nFaltaBiAT_EXT86.npy,11\\nFaltaBiAT_EXT87.npy,11\\nFaltaBiAT_EXT88.npy,11\\nFaltaBiAT_EXT89.npy,11\\nFaltaBiAT_EXT90.npy,11\\nFaltaBiAT_EXT91.npy,11\\nFaltaBiAT_EXT92.npy,11\\nFaltaBiAT_EXT93.npy,11\\nFaltaBiAT_EXT94.npy,11\\nFaltaBiAT_EXT95.npy,11\\nFaltaBiAT_EXT96.npy,11\\nFaltaBiAT_EXT97.npy,11\\nFaltaBiAT_EXT98.npy,11\\nFaltaBiAT_EXT99.npy,11\\nFaltaBiAT_EXT100.npy,11\\nFaltaBiAT_EXT101.npy,11\\nFaltaBiAT_EXT102.npy,11\\nFaltaBiAT_EXT103.npy,11\\nFaltaBiAT_EXT104.npy,11\\nFaltaBiAT_EXT105.npy,11\\nFaltaBiAT_EXT106.npy,11\\nFaltaBiAT_EXT107.npy,11\\nFaltaBiAT_EXT108.npy,11\\nFaltaBiAT_EXT109.npy,11\\nFaltaBiAT_EXT110.npy,11\\nFaltaBiAT_EXT111.npy,11\\nFaltaBiAT_EXT112.npy,11\\nFaltaBiAT_EXT113.npy,11\\nFaltaBiAT_EXT114.npy,11\\nFaltaBiAT_EXT115.npy,11\\nFaltaBiAT_EXT116.npy,11\\nFaltaBiAT_EXT117.npy,11\\nFaltaBiAT_EXT118.npy,11\\nFaltaBiAT_EXT119.npy,11\\nFaltaBiAT_EXT120.npy,11\\nFaltaBiAT_EXT121.npy,11\\nFaltaBiAT_EXT122.npy,11\\nFaltaBiAT_EXT123.npy,11\\nFaltaBiAT_EXT124.npy,11\\nFaltaBiAT_EXT125.npy,11\\nFaltaBiAT_EXT126.npy,11\\nFaltaBiAT_EXT127.npy,11\\nFaltaBiAT_EXT128.npy,11\\nFaltaBiAT_EXT129.npy,11\\nFaltaBiAT_EXT130.npy,11\\nFaltaBiAT_EXT131.npy,11\\nFaltaBiAT_EXT132.npy,11\\nFaltaBiAT_EXT133.npy,11\\nFaltaBiAT_EXT134.npy,11\\nFaltaBiAT_EXT135.npy,11\\nFaltaBiAT_EXT136.npy,11\\nFaltaBiAT_EXT137.npy,11\\nFaltaBiAT_EXT138.npy,11\\nFaltaBiAT_EXT139.npy,11\\nFaltaBiAT_EXT140.npy,11\\nFaltaBiAT_EXT141.npy,11\\nFaltaBiAT_EXT142.npy,11\\nFaltaBiAT_EXT143.npy,11\\nFaltaBiAT_EXT144.npy,11\\nFaltaBiAT_EXT145.npy,11\\nFaltaBiAT_EXT146.npy,11\\nFaltaBiAT_EXT147.npy,11\\nFaltaBiAT_EXT148.npy,11\\nFaltaBiAT_EXT149.npy,11\\nFaltaBiAT_EXT150.npy,11\\nFaltaBiAT_EXT151.npy,11\\nFaltaBiAT_EXT152.npy,11\\nFaltaBiAT_EXT153.npy,11\\nFaltaBiAT_EXT154.npy,11\\nFaltaBiAT_EXT155.npy,11\\nFaltaBiAT_EXT156.npy,11\\nFaltaBiAT_EXT157.npy,11\\nFaltaBiAT_EXT158.npy,11\\nFaltaBiAT_EXT159.npy,11\\nFaltaBiAT_EXT160.npy,11\\nFaltaBiAT_EXT161.npy,11\\nFaltaBiAT_EXT162.npy,11\\nFaltaBiAT_EXT163.npy,11\\nFaltaBiAT_EXT164.npy,11\\nFaltaBiAT_EXT165.npy,11\\nFaltaBiAT_EXT166.npy,11\\nFaltaBiAT_EXT167.npy,11\\nFaltaBiAT_EXT168.npy,11\\nFaltaBiAT_EXT169.npy,11\\nFaltaBiAT_EXT170.npy,11\\nFaltaBiAT_EXT171.npy,11\\nFaltaBiAT_EXT172.npy,11\\nFaltaBiAT_EXT173.npy,11\\nFaltaBiAT_EXT174.npy,11\\nFaltaBiAT_EXT175.npy,11\\nFaltaBiAT_EXT176.npy,11\\nFaltaBiAT_EXT177.npy,11\\nFaltaBiAT_EXT178.npy,11\\nFaltaBiAT_EXT179.npy,11\\nFaltaBiAT_EXT180.npy,11\\nFaltaBiAT_EXT181.npy,11\\nFaltaBiAT_EXT182.npy,11\\nFaltaBiAT_EXT183.npy,11\\nFaltaBiAT_EXT184.npy,11\\nFaltaBiAT_EXT185.npy,11\\nFaltaBiAT_EXT186.npy,11\\nFaltaBiAT_EXT187.npy,11\\nFaltaBiAT_EXT188.npy,11\\nFaltaBiAT_EXT189.npy,11\\nFaltaBiAT_EXT190.npy,11\\nFaltaBiAT_EXT191.npy,11\\nFaltaBiAT_EXT192.npy,11\\nFaltaBiAT_EXT193.npy,11\\nFaltaBiAT_EXT194.npy,11\\nFaltaBiAT_EXT195.npy,11\\nFaltaBiAT_EXT196.npy,11\\nFaltaBiAT_EXT197.npy,11\\nFaltaBiAT_EXT198.npy,11\\nFaltaBiAT_EXT199.npy,11\\nFaltaBiAT_EXT200.npy,11\\nFaltaBiAT_EXT201.npy,11\\nFaltaBiAT_EXT202.npy,11\\nFaltaBiAT_EXT203.npy,11\\nFaltaBiAT_EXT204.npy,11\\nFaltaBiAT_EXT205.npy,11\\nFaltaBiAT_EXT206.npy,11\\nFaltaBiAT_EXT207.npy,11\\nFaltaBiAT_EXT208.npy,11\\nFaltaBiAT_EXT209.npy,11\\nFaltaBiAT_EXT210.npy,11\\nFaltaBiAT_EXT211.npy,11\\nFaltaBiAT_EXT212.npy,11\\nFaltaBiAT_EXT213.npy,11\\nFaltaBiAT_EXT214.npy,11\\nFaltaBiAT_EXT215.npy,11\\nFaltaBiAT_EXT216.npy,11\\nFaltaBiAT_EXT217.npy,11\\nFaltaBiAT_EXT218.npy,11\\nFaltaBiAT_EXT219.npy,11\\nFaltaBiAT_EXT220.npy,11\\nFaltaBiAT_EXT221.npy,11\\nFaltaBiAT_EXT222.npy,11\\nFaltaBiAT_EXT223.npy,11\\nFaltaBiAT_EXT224.npy,11\\nFaltaBiAT_EXT225.npy,11\\nFaltaBiAT_EXT226.npy,11\\nFaltaBiAT_EXT227.npy,11\\nFaltaBiAT_EXT228.npy,11\\nFaltaBiAT_EXT229.npy,11\\nFaltaBiAT_EXT230.npy,11\\nFaltaBiAT_EXT231.npy,11\\nFaltaBiAT_EXT232.npy,11\\nFaltaBiAT_EXT233.npy,11\\nFaltaBiAT_EXT234.npy,11\\nFaltaBiAT_EXT235.npy,11\\nFaltaBiAT_EXT236.npy,11\\nFaltaBiAT_EXT237.npy,11\\nFaltaBiAT_EXT238.npy,11\\nFaltaBiAT_EXT239.npy,11\\nFaltaBiAT_EXT240.npy,11\\nFaltaBiAT_EXT241.npy,11\\nFaltaBiAT_EXT242.npy,11\\nFaltaBiAT_EXT243.npy,11\\nFaltaBiAT_EXT244.npy,11\\nFaltaBiAT_EXT245.npy,11\\nFaltaBiAT_EXT246.npy,11\\nFaltaBiAT_EXT247.npy,11\\nFaltaBiAT_EXT248.npy,11\\nFaltaBiAT_EXT249.npy,11\\nFaltaBiAT_EXT250.npy,11\\nFaltaBiAT_EXT251.npy,11\\nFaltaBiAT_EXT252.npy,11\\nFaltaBiAT_EXT253.npy,11\\nFaltaBiAT_EXT254.npy,11\\nFaltaBiAT_EXT255.npy,11\\nFaltaBiAT_EXT256.npy,11\\nFaltaBiAT_EXT257.npy,11\\nFaltaBiAT_EXT258.npy,11\\nFaltaBiAT_EXT259.npy,11\\nFaltaBiAT_EXT260.npy,11\\nFaltaBiAT_EXT261.npy,11\\nFaltaBiAT_EXT262.npy,11\\nFaltaBiAT_EXT263.npy,11\\nFaltaBiAT_EXT264.npy,11\\nFaltaBiAT_EXT265.npy,11\\nFaltaBiAT_EXT266.npy,11\\nFaltaBiAT_EXT267.npy,11\\nFaltaBiAT_EXT268.npy,11\\nFaltaBiAT_EXT269.npy,11\\nFaltaBiAT_EXT270.npy,11\\nFaltaBiAT_EXT271.npy,11\\nFaltaBiAT_EXT272.npy,11\\nFaltaBiAT_EXT273.npy,11\\nFaltaBiAT_EXT274.npy,11\\nFaltaBiAT_EXT275.npy,11\\nFaltaBiAT_EXT276.npy,11\\nFaltaBiAT_EXT277.npy,11\\nFaltaBiAT_EXT278.npy,11\\nFaltaBiAT_EXT279.npy,11\\nFaltaBiAT_EXT280.npy,11\\nFaltaBiAT_EXT281.npy,11\\nFaltaBiAT_EXT282.npy,11\\nFaltaBiAT_EXT283.npy,11\\nFaltaBiAT_EXT284.npy,11\\nFaltaBiAT_EXT285.npy,11\\nFaltaBiAT_EXT286.npy,11\\nFaltaBiAT_EXT287.npy,11\\nFaltaBiAT_EXT288.npy,11\\nFaltaBiAT_EXT289.npy,11\\nFaltaBiAT_EXT290.npy,11\\nFaltaBiAT_EXT291.npy,11\\nFaltaBiAT_EXT292.npy,11\\nFaltaBiAT_EXT293.npy,11\\nFaltaBiAT_EXT294.npy,11\\nFaltaBiAT_EXT295.npy,11\\nFaltaBiAT_EXT296.npy,11\\nFaltaBiAT_EXT297.npy,11\\nFaltaBiAT_EXT298.npy,11\\nFaltaBiAT_EXT299.npy,11\\nFaltaBiAT_EXT300.npy,11\\nFaltaBiAT_G_EXT1.npy,11\\nFaltaBiAT_G_EXT2.npy,11\\nFaltaBiAT_G_EXT3.npy,11\\nFaltaBiAT_G_EXT4.npy,11\\nFaltaBiAT_G_EXT5.npy,11\\nFaltaBiAT_G_EXT6.npy,11\\nFaltaBiAT_G_EXT7.npy,11\\nFaltaBiAT_G_EXT8.npy,11\\nFaltaBiAT_G_EXT9.npy,11\\nFaltaBiAT_G_EXT10.npy,11\\nFaltaBiAT_G_EXT11.npy,11\\nFaltaBiAT_G_EXT12.npy,11\\nFaltaBiAT_G_EXT13.npy,11\\nFaltaBiAT_G_EXT14.npy,11\\nFaltaBiAT_G_EXT15.npy,11\\nFaltaBiAT_G_EXT16.npy,11\\nFaltaBiAT_G_EXT17.npy,11\\nFaltaBiAT_G_EXT18.npy,11\\nFaltaBiAT_G_EXT19.npy,11\\nFaltaBiAT_G_EXT20.npy,11\\nFaltaBiAT_G_EXT21.npy,11\\nFaltaBiAT_G_EXT22.npy,11\\nFaltaBiAT_G_EXT23.npy,11\\nFaltaBiAT_G_EXT24.npy,11\\nFaltaBiAT_G_EXT25.npy,11\\nFaltaBiAT_G_EXT26.npy,11\\nFaltaBiAT_G_EXT27.npy,11\\nFaltaBiAT_G_EXT28.npy,11\\nFaltaBiAT_G_EXT29.npy,11\\nFaltaBiAT_G_EXT30.npy,11\\nFaltaBiAT_G_EXT31.npy,11\\nFaltaBiAT_G_EXT32.npy,11\\nFaltaBiAT_G_EXT33.npy,11\\nFaltaBiAT_G_EXT34.npy,11\\nFaltaBiAT_G_EXT35.npy,11\\nFaltaBiAT_G_EXT36.npy,11\\nFaltaBiAT_G_EXT37.npy,11\\nFaltaBiAT_G_EXT38.npy,11\\nFaltaBiAT_G_EXT39.npy,11\\nFaltaBiAT_G_EXT40.npy,11\\nFaltaBiAT_G_EXT41.npy,11\\nFaltaBiAT_G_EXT42.npy,11\\nFaltaBiAT_G_EXT43.npy,11\\nFaltaBiAT_G_EXT44.npy,11\\nFaltaBiAT_G_EXT45.npy,11\\nFaltaBiAT_G_EXT46.npy,11\\nFaltaBiAT_G_EXT47.npy,11\\nFaltaBiAT_G_EXT48.npy,11\\nFaltaBiAT_G_EXT49.npy,11\\nFaltaBiAT_G_EXT50.npy,11\\nFaltaBiAT_G_EXT51.npy,11\\nFaltaBiAT_G_EXT52.npy,11\\nFaltaBiAT_G_EXT53.npy,11\\nFaltaBiAT_G_EXT54.npy,11\\nFaltaBiAT_G_EXT55.npy,11\\nFaltaBiAT_G_EXT56.npy,11\\nFaltaBiAT_G_EXT57.npy,11\\nFaltaBiAT_G_EXT58.npy,11\\nFaltaBiAT_G_EXT59.npy,11\\nFaltaBiAT_G_EXT60.npy,11\\nFaltaBiAT_G_EXT61.npy,11\\nFaltaBiAT_G_EXT62.npy,11\\nFaltaBiAT_G_EXT63.npy,11\\nFaltaBiAT_G_EXT64.npy,11\\nFaltaBiAT_G_EXT65.npy,11\\nFaltaBiAT_G_EXT66.npy,11\\nFaltaBiAT_G_EXT67.npy,11\\nFaltaBiAT_G_EXT68.npy,11\\nFaltaBiAT_G_EXT69.npy,11\\nFaltaBiAT_G_EXT70.npy,11\\nFaltaBiAT_G_EXT71.npy,11\\nFaltaBiAT_G_EXT72.npy,11\\nFaltaBiAT_G_EXT73.npy,11\\nFaltaBiAT_G_EXT74.npy,11\\nFaltaBiAT_G_EXT75.npy,11\\nFaltaBiAT_G_EXT76.npy,11\\nFaltaBiAT_G_EXT77.npy,11\\nFaltaBiAT_G_EXT78.npy,11\\nFaltaBiAT_G_EXT79.npy,11\\nFaltaBiAT_G_EXT80.npy,11\\nFaltaBiAT_G_EXT81.npy,11\\nFaltaBiAT_G_EXT82.npy,11\\nFaltaBiAT_G_EXT83.npy,11\\nFaltaBiAT_G_EXT84.npy,11\\nFaltaBiAT_G_EXT85.npy,11\\nFaltaBiAT_G_EXT86.npy,11\\nFaltaBiAT_G_EXT87.npy,11\\nFaltaBiAT_G_EXT88.npy,11\\nFaltaBiAT_G_EXT89.npy,11\\nFaltaBiAT_G_EXT90.npy,11\\nFaltaBiAT_G_EXT91.npy,11\\nFaltaBiAT_G_EXT92.npy,11\\nFaltaBiAT_G_EXT93.npy,11\\nFaltaBiAT_G_EXT94.npy,11\\nFaltaBiAT_G_EXT95.npy,11\\nFaltaBiAT_G_EXT96.npy,11\\nFaltaBiAT_G_EXT97.npy,11\\nFaltaBiAT_G_EXT98.npy,11\\nFaltaBiAT_G_EXT99.npy,11\\nFaltaBiAT_G_EXT100.npy,11\\nFaltaBiAT_G_EXT101.npy,11\\nFaltaBiAT_G_EXT102.npy,11\\nFaltaBiAT_G_EXT103.npy,11\\nFaltaBiAT_G_EXT104.npy,11\\nFaltaBiAT_G_EXT105.npy,11\\nFaltaBiAT_G_EXT106.npy,11\\nFaltaBiAT_G_EXT107.npy,11\\nFaltaBiAT_G_EXT108.npy,11\\nFaltaBiAT_G_EXT109.npy,11\\nFaltaBiAT_G_EXT110.npy,11\\nFaltaBiAT_G_EXT111.npy,11\\nFaltaBiAT_G_EXT112.npy,11\\nFaltaBiAT_G_EXT113.npy,11\\nFaltaBiAT_G_EXT114.npy,11\\nFaltaBiAT_G_EXT115.npy,11\\nFaltaBiAT_G_EXT116.npy,11\\nFaltaBiAT_G_EXT117.npy,11\\nFaltaBiAT_G_EXT118.npy,11\\nFaltaBiAT_G_EXT119.npy,11\\nFaltaBiAT_G_EXT120.npy,11\\nFaltaBiAT_G_EXT121.npy,11\\nFaltaBiAT_G_EXT122.npy,11\\nFaltaBiAT_G_EXT123.npy,11\\nFaltaBiAT_G_EXT124.npy,11\\nFaltaBiAT_G_EXT125.npy,11\\nFaltaBiAT_G_EXT126.npy,11\\nFaltaBiAT_G_EXT127.npy,11\\nFaltaBiAT_G_EXT128.npy,11\\nFaltaBiAT_G_EXT129.npy,11\\nFaltaBiAT_G_EXT130.npy,11\\nFaltaBiAT_G_EXT131.npy,11\\nFaltaBiAT_G_EXT132.npy,11\\nFaltaBiAT_G_EXT133.npy,11\\nFaltaBiAT_G_EXT134.npy,11\\nFaltaBiAT_G_EXT135.npy,11\\nFaltaBiAT_G_EXT136.npy,11\\nFaltaBiAT_G_EXT137.npy,11\\nFaltaBiAT_G_EXT138.npy,11\\nFaltaBiAT_G_EXT139.npy,11\\nFaltaBiAT_G_EXT140.npy,11\\nFaltaBiAT_G_EXT141.npy,11\\nFaltaBiAT_G_EXT142.npy,11\\nFaltaBiAT_G_EXT143.npy,11\\nFaltaBiAT_G_EXT144.npy,11\\nFaltaBiAT_G_EXT145.npy,11\\nFaltaBiAT_G_EXT146.npy,11\\nFaltaBiAT_G_EXT147.npy,11\\nFaltaBiAT_G_EXT148.npy,11\\nFaltaBiAT_G_EXT149.npy,11\\nFaltaBiAT_G_EXT150.npy,11\\nFaltaBiAT_G_EXT151.npy,11\\nFaltaBiAT_G_EXT152.npy,11\\nFaltaBiAT_G_EXT153.npy,11\\nFaltaBiAT_G_EXT154.npy,11\\nFaltaBiAT_G_EXT155.npy,11\\nFaltaBiAT_G_EXT156.npy,11\\nFaltaBiAT_G_EXT157.npy,11\\nFaltaBiAT_G_EXT158.npy,11\\nFaltaBiAT_G_EXT159.npy,11\\nFaltaBiAT_G_EXT160.npy,11\\nFaltaBiAT_G_EXT161.npy,11\\nFaltaBiAT_G_EXT162.npy,11\\nFaltaBiAT_G_EXT163.npy,11\\nFaltaBiAT_G_EXT164.npy,11\\nFaltaBiAT_G_EXT165.npy,11\\nFaltaBiAT_G_EXT166.npy,11\\nFaltaBiAT_G_EXT167.npy,11\\nFaltaBiAT_G_EXT168.npy,11\\nFaltaBiAT_G_EXT169.npy,11\\nFaltaBiAT_G_EXT170.npy,11\\nFaltaBiAT_G_EXT171.npy,11\\nFaltaBiAT_G_EXT172.npy,11\\nFaltaBiAT_G_EXT173.npy,11\\nFaltaBiAT_G_EXT174.npy,11\\nFaltaBiAT_G_EXT175.npy,11\\nFaltaBiAT_G_EXT176.npy,11\\nFaltaBiAT_G_EXT177.npy,11\\nFaltaBiAT_G_EXT178.npy,11\\nFaltaBiAT_G_EXT179.npy,11\\nFaltaBiAT_G_EXT180.npy,11\\nFaltaBiAT_G_EXT181.npy,11\\nFaltaBiAT_G_EXT182.npy,11\\nFaltaBiAT_G_EXT183.npy,11\\nFaltaBiAT_G_EXT184.npy,11\\nFaltaBiAT_G_EXT185.npy,11\\nFaltaBiAT_G_EXT186.npy,11\\nFaltaBiAT_G_EXT187.npy,11\\nFaltaBiAT_G_EXT188.npy,11\\nFaltaBiAT_G_EXT189.npy,11\\nFaltaBiAT_G_EXT190.npy,11\\nFaltaBiAT_G_EXT191.npy,11\\nFaltaBiAT_G_EXT192.npy,11\\nFaltaBiAT_G_EXT193.npy,11\\nFaltaBiAT_G_EXT194.npy,11\\nFaltaBiAT_G_EXT195.npy,11\\nFaltaBiAT_G_EXT196.npy,11\\nFaltaBiAT_G_EXT197.npy,11\\nFaltaBiAT_G_EXT198.npy,11\\nFaltaBiAT_G_EXT199.npy,11\\nFaltaBiAT_G_EXT200.npy,11\\nFaltaBiAT_G_EXT201.npy,11\\nFaltaBiAT_G_EXT202.npy,11\\nFaltaBiAT_G_EXT203.npy,11\\nFaltaBiAT_G_EXT204.npy,11\\nFaltaBiAT_G_EXT205.npy,11\\nFaltaBiAT_G_EXT206.npy,11\\nFaltaBiAT_G_EXT207.npy,11\\nFaltaBiAT_G_EXT208.npy,11\\nFaltaBiAT_G_EXT209.npy,11\\nFaltaBiAT_G_EXT210.npy,11\\nFaltaBiAT_G_EXT211.npy,11\\nFaltaBiAT_G_EXT212.npy,11\\nFaltaBiAT_G_EXT213.npy,11\\nFaltaBiAT_G_EXT214.npy,11\\nFaltaBiAT_G_EXT215.npy,11\\nFaltaBiAT_G_EXT216.npy,11\\nFaltaBiAT_G_EXT217.npy,11\\nFaltaBiAT_G_EXT218.npy,11\\nFaltaBiAT_G_EXT219.npy,11\\nFaltaBiAT_G_EXT220.npy,11\\nFaltaBiAT_G_EXT221.npy,11\\nFaltaBiAT_G_EXT222.npy,11\\nFaltaBiAT_G_EXT223.npy,11\\nFaltaBiAT_G_EXT224.npy,11\\nFaltaBiAT_G_EXT225.npy,11\\nFaltaBiAT_G_EXT226.npy,11\\nFaltaBiAT_G_EXT227.npy,11\\nFaltaBiAT_G_EXT228.npy,11\\nFaltaBiAT_G_EXT229.npy,11\\nFaltaBiAT_G_EXT230.npy,11\\nFaltaBiAT_G_EXT231.npy,11\\nFaltaBiAT_G_EXT232.npy,11\\nFaltaBiAT_G_EXT233.npy,11\\nFaltaBiAT_G_EXT234.npy,11\\nFaltaBiAT_G_EXT235.npy,11\\nFaltaBiAT_G_EXT236.npy,11\\nFaltaBiAT_G_EXT237.npy,11\\nFaltaBiAT_G_EXT238.npy,11\\nFaltaBiAT_G_EXT239.npy,11\\nFaltaBiAT_G_EXT240.npy,11\\nFaltaBiAT_G_EXT241.npy,11\\nFaltaBiAT_G_EXT242.npy,11\\nFaltaBiAT_G_EXT243.npy,11\\nFaltaBiAT_G_EXT244.npy,11\\nFaltaBiAT_G_EXT245.npy,11\\nFaltaBiAT_G_EXT246.npy,11\\nFaltaBiAT_G_EXT247.npy,11\\nFaltaBiAT_G_EXT248.npy,11\\nFaltaBiAT_G_EXT249.npy,11\\nFaltaBiAT_G_EXT250.npy,11\\nFaltaBiAT_G_EXT251.npy,11\\nFaltaBiAT_G_EXT252.npy,11\\nFaltaBiAT_G_EXT253.npy,11\\nFaltaBiAT_G_EXT254.npy,11\\nFaltaBiAT_G_EXT255.npy,11\\nFaltaBiAT_G_EXT256.npy,11\\nFaltaBiAT_G_EXT257.npy,11\\nFaltaBiAT_G_EXT258.npy,11\\nFaltaBiAT_G_EXT259.npy,11\\nFaltaBiAT_G_EXT260.npy,11\\nFaltaBiAT_G_EXT261.npy,11\\nFaltaBiAT_G_EXT262.npy,11\\nFaltaBiAT_G_EXT263.npy,11\\nFaltaBiAT_G_EXT264.npy,11\\nFaltaBiAT_G_EXT265.npy,11\\nFaltaBiAT_G_EXT266.npy,11\\nFaltaBiAT_G_EXT267.npy,11\\nFaltaBiAT_G_EXT268.npy,11\\nFaltaBiAT_G_EXT269.npy,11\\nFaltaBiAT_G_EXT270.npy,11\\nFaltaBiAT_G_EXT271.npy,11\\nFaltaBiAT_G_EXT272.npy,11\\nFaltaBiAT_G_EXT273.npy,11\\nFaltaBiAT_G_EXT274.npy,11\\nFaltaBiAT_G_EXT275.npy,11\\nFaltaBiAT_G_EXT276.npy,11\\nFaltaBiAT_G_EXT277.npy,11\\nFaltaBiAT_G_EXT278.npy,11\\nFaltaBiAT_G_EXT279.npy,11\\nFaltaBiAT_G_EXT280.npy,11\\nFaltaBiAT_G_EXT281.npy,11\\nFaltaBiAT_G_EXT282.npy,11\\nFaltaBiAT_G_EXT283.npy,11\\nFaltaBiAT_G_EXT284.npy,11\\nFaltaBiAT_G_EXT285.npy,11\\nFaltaBiAT_G_EXT286.npy,11\\nFaltaBiAT_G_EXT287.npy,11\\nFaltaBiAT_G_EXT288.npy,11\\nFaltaBiAT_G_EXT289.npy,11\\nFaltaBiAT_G_EXT290.npy,11\\nFaltaBiAT_G_EXT291.npy,11\\nFaltaBiAT_G_EXT292.npy,11\\nFaltaBiAT_G_EXT293.npy,11\\nFaltaBiAT_G_EXT294.npy,11\\nFaltaBiAT_G_EXT295.npy,11\\nFaltaBiAT_G_EXT296.npy,11\\nFaltaBiAT_G_EXT297.npy,11\\nFaltaBiAT_G_EXT298.npy,11\\nFaltaBiAT_G_EXT299.npy,11\\nFaltaBiAT_G_EXT300.npy,11\\nFaltaTriAT_G_EXT1.npy,11\\nFaltaTriAT_G_EXT2.npy,11\\nFaltaTriAT_G_EXT3.npy,11\\nFaltaTriAT_G_EXT4.npy,11\\nFaltaTriAT_G_EXT5.npy,11\\nFaltaTriAT_G_EXT6.npy,11\\nFaltaTriAT_G_EXT7.npy,11\\nFaltaTriAT_G_EXT8.npy,11\\nFaltaTriAT_G_EXT9.npy,11\\nFaltaTriAT_G_EXT10.npy,11\\nFaltaTriAT_G_EXT11.npy,11\\nFaltaTriAT_G_EXT12.npy,11\\nFaltaTriAT_G_EXT13.npy,11\\nFaltaTriAT_G_EXT14.npy,11\\nFaltaTriAT_G_EXT15.npy,11\\nFaltaTriAT_G_EXT16.npy,11\\nFaltaTriAT_G_EXT17.npy,11\\nFaltaTriAT_G_EXT18.npy,11\\nFaltaTriAT_G_EXT19.npy,11\\nFaltaTriAT_G_EXT20.npy,11\\nFaltaTriAT_G_EXT21.npy,11\\nFaltaTriAT_G_EXT22.npy,11\\nFaltaTriAT_G_EXT23.npy,11\\nFaltaTriAT_G_EXT24.npy,11\\nFaltaTriAT_G_EXT25.npy,11\\nFaltaTriAT_G_EXT26.npy,11\\nFaltaTriAT_G_EXT27.npy,11\\nFaltaTriAT_G_EXT28.npy,11\\nFaltaTriAT_G_EXT29.npy,11\\nFaltaTriAT_G_EXT30.npy,11\\nFaltaTriAT_G_EXT31.npy,11\\nFaltaTriAT_G_EXT32.npy,11\\nFaltaTriAT_G_EXT33.npy,11\\nFaltaTriAT_G_EXT34.npy,11\\nFaltaTriAT_G_EXT35.npy,11\\nFaltaTriAT_G_EXT36.npy,11\\nFaltaTriAT_G_EXT37.npy,11\\nFaltaTriAT_G_EXT38.npy,11\\nFaltaTriAT_G_EXT39.npy,11\\nFaltaTriAT_G_EXT40.npy,11\\nFaltaTriAT_G_EXT41.npy,11\\nFaltaTriAT_G_EXT42.npy,11\\nFaltaTriAT_G_EXT43.npy,11\\nFaltaTriAT_G_EXT44.npy,11\\nFaltaTriAT_G_EXT45.npy,11\\nFaltaTriAT_G_EXT46.npy,11\\nFaltaTriAT_G_EXT47.npy,11\\nFaltaTriAT_G_EXT48.npy,11\\nFaltaTriAT_G_EXT49.npy,11\\nFaltaTriAT_G_EXT50.npy,11\\nFaltaTriAT_G_EXT51.npy,11\\nFaltaTriAT_G_EXT52.npy,11\\nFaltaTriAT_G_EXT53.npy,11\\nFaltaTriAT_G_EXT54.npy,11\\nFaltaTriAT_G_EXT55.npy,11\\nFaltaTriAT_G_EXT56.npy,11\\nFaltaTriAT_G_EXT57.npy,11\\nFaltaTriAT_G_EXT58.npy,11\\nFaltaTriAT_G_EXT59.npy,11\\nFaltaTriAT_G_EXT60.npy,11\\nFaltaTriAT_G_EXT61.npy,11\\nFaltaTriAT_G_EXT62.npy,11\\nFaltaTriAT_G_EXT63.npy,11\\nFaltaTriAT_G_EXT64.npy,11\\nFaltaTriAT_G_EXT65.npy,11\\nFaltaTriAT_G_EXT66.npy,11\\nFaltaTriAT_G_EXT67.npy,11\\nFaltaTriAT_G_EXT68.npy,11\\nFaltaTriAT_G_EXT69.npy,11\\nFaltaTriAT_G_EXT70.npy,11\\nFaltaTriAT_G_EXT71.npy,11\\nFaltaTriAT_G_EXT72.npy,11\\nFaltaTriAT_G_EXT73.npy,11\\nFaltaTriAT_G_EXT74.npy,11\\nFaltaTriAT_G_EXT75.npy,11\\nFaltaTriAT_G_EXT76.npy,11\\nFaltaTriAT_G_EXT77.npy,11\\nFaltaTriAT_G_EXT78.npy,11\\nFaltaTriAT_G_EXT79.npy,11\\nFaltaTriAT_G_EXT80.npy,11\\nFaltaTriAT_G_EXT81.npy,11\\nFaltaTriAT_G_EXT82.npy,11\\nFaltaTriAT_G_EXT83.npy,11\\nFaltaTriAT_G_EXT84.npy,11\\nFaltaTriAT_G_EXT85.npy,11\\nFaltaTriAT_G_EXT86.npy,11\\nFaltaTriAT_G_EXT87.npy,11\\nFaltaTriAT_G_EXT88.npy,11\\nFaltaTriAT_G_EXT89.npy,11\\nFaltaTriAT_G_EXT90.npy,11\\nFaltaTriAT_G_EXT91.npy,11\\nFaltaTriAT_G_EXT92.npy,11\\nFaltaTriAT_G_EXT93.npy,11\\nFaltaTriAT_G_EXT94.npy,11\\nFaltaTriAT_G_EXT95.npy,11\\nFaltaTriAT_G_EXT96.npy,11\\nFaltaTriAT_G_EXT97.npy,11\\nFaltaTriAT_G_EXT98.npy,11\\nFaltaTriAT_G_EXT99.npy,11\\nFaltaTriAT_G_EXT100.npy,11\\nFaltaTriAT_G_EXT101.npy,11\\nFaltaTriAT_G_EXT102.npy,11\\nFaltaTriAT_G_EXT103.npy,11\\nFaltaTriAT_G_EXT104.npy,11\\nFaltaTriAT_G_EXT105.npy,11\\nFaltaTriAT_G_EXT106.npy,11\\nFaltaTriAT_G_EXT107.npy,11\\nFaltaTriAT_G_EXT108.npy,11\\nFaltaTriAT_G_EXT109.npy,11\\nFaltaTriAT_G_EXT110.npy,11\\nFaltaTriAT_G_EXT111.npy,11\\nFaltaTriAT_G_EXT112.npy,11\\nFaltaTriAT_G_EXT113.npy,11\\nFaltaTriAT_G_EXT114.npy,11\\nFaltaTriAT_G_EXT115.npy,11\\nFaltaTriAT_G_EXT116.npy,11\\nFaltaTriAT_G_EXT117.npy,11\\nFaltaTriAT_G_EXT118.npy,11\\nFaltaTriAT_G_EXT119.npy,11\\nFaltaTriAT_G_EXT120.npy,11\\nFaltaTriAT_G_EXT121.npy,11\\nFaltaTriAT_G_EXT122.npy,11\\nFaltaTriAT_G_EXT123.npy,11\\nFaltaTriAT_G_EXT124.npy,11\\nFaltaTriAT_G_EXT125.npy,11\\nFaltaTriAT_G_EXT126.npy,11\\nFaltaTriAT_G_EXT127.npy,11\\nFaltaTriAT_G_EXT128.npy,11\\nFaltaTriAT_G_EXT129.npy,11\\nFaltaTriAT_G_EXT130.npy,11\\nFaltaTriAT_G_EXT131.npy,11\\nFaltaTriAT_G_EXT132.npy,11\\nFaltaTriAT_G_EXT133.npy,11\\nFaltaTriAT_G_EXT134.npy,11\\nFaltaTriAT_G_EXT135.npy,11\\nFaltaTriAT_G_EXT136.npy,11\\nFaltaTriAT_G_EXT137.npy,11\\nFaltaTriAT_G_EXT138.npy,11\\nFaltaTriAT_G_EXT139.npy,11\\nFaltaTriAT_G_EXT140.npy,11\\nFaltaTriAT_G_EXT141.npy,11\\nFaltaTriAT_G_EXT142.npy,11\\nFaltaTriAT_G_EXT143.npy,11\\nFaltaTriAT_G_EXT144.npy,11\\nFaltaTriAT_G_EXT145.npy,11\\nFaltaTriAT_G_EXT146.npy,11\\nFaltaTriAT_G_EXT147.npy,11\\nFaltaTriAT_G_EXT148.npy,11\\nFaltaTriAT_G_EXT149.npy,11\\nFaltaTriAT_G_EXT150.npy,11\\nFaltaTriAT_G_EXT151.npy,11\\nFaltaTriAT_G_EXT152.npy,11\\nFaltaTriAT_G_EXT153.npy,11\\nFaltaTriAT_G_EXT154.npy,11\\nFaltaTriAT_G_EXT155.npy,11\\nFaltaTriAT_G_EXT156.npy,11\\nFaltaTriAT_G_EXT157.npy,11\\nFaltaTriAT_G_EXT158.npy,11\\nFaltaTriAT_G_EXT159.npy,11\\nFaltaTriAT_G_EXT160.npy,11\\nFaltaTriAT_G_EXT161.npy,11\\nFaltaTriAT_G_EXT162.npy,11\\nFaltaTriAT_G_EXT163.npy,11\\nFaltaTriAT_G_EXT164.npy,11\\nFaltaTriAT_G_EXT165.npy,11\\nFaltaTriAT_G_EXT166.npy,11\\nFaltaTriAT_G_EXT167.npy,11\\nFaltaTriAT_G_EXT168.npy,11\\nFaltaTriAT_G_EXT169.npy,11\\nFaltaTriAT_G_EXT170.npy,11\\nFaltaTriAT_G_EXT171.npy,11\\nFaltaTriAT_G_EXT172.npy,11\\nFaltaTriAT_G_EXT173.npy,11\\nFaltaTriAT_G_EXT174.npy,11\\nFaltaTriAT_G_EXT175.npy,11\\nFaltaTriAT_G_EXT176.npy,11\\nFaltaTriAT_G_EXT177.npy,11\\nFaltaTriAT_G_EXT178.npy,11\\nFaltaTriAT_G_EXT179.npy,11\\nFaltaTriAT_G_EXT180.npy,11\\nFaltaTriAT_G_EXT181.npy,11\\nFaltaTriAT_G_EXT182.npy,11\\nFaltaTriAT_G_EXT183.npy,11\\nFaltaTriAT_G_EXT184.npy,11\\nFaltaTriAT_G_EXT185.npy,11\\nFaltaTriAT_G_EXT186.npy,11\\nFaltaTriAT_G_EXT187.npy,11\\nFaltaTriAT_G_EXT188.npy,11\\nFaltaTriAT_G_EXT189.npy,11\\nFaltaTriAT_G_EXT190.npy,11\\nFaltaTriAT_G_EXT191.npy,11\\nFaltaTriAT_G_EXT192.npy,11\\nFaltaTriAT_G_EXT193.npy,11\\nFaltaTriAT_G_EXT194.npy,11\\nFaltaTriAT_G_EXT195.npy,11\\nFaltaTriAT_G_EXT196.npy,11\\nFaltaTriAT_G_EXT197.npy,11\\nFaltaTriAT_G_EXT198.npy,11\\nFaltaTriAT_G_EXT199.npy,11\\nFaltaTriAT_G_EXT200.npy,11\\nFaltaTriAT_G_EXT201.npy,11\\nFaltaTriAT_G_EXT202.npy,11\\nFaltaTriAT_G_EXT203.npy,11\\nFaltaTriAT_G_EXT204.npy,11\\nFaltaTriAT_G_EXT205.npy,11\\nFaltaTriAT_G_EXT206.npy,11\\nFaltaTriAT_G_EXT207.npy,11\\nFaltaTriAT_G_EXT208.npy,11\\nFaltaTriAT_G_EXT209.npy,11\\nFaltaTriAT_G_EXT210.npy,11\\nFaltaTriAT_G_EXT211.npy,11\\nFaltaTriAT_G_EXT212.npy,11\\nFaltaTriAT_G_EXT213.npy,11\\nFaltaTriAT_G_EXT214.npy,11\\nFaltaTriAT_G_EXT215.npy,11\\nFaltaTriAT_G_EXT216.npy,11\\nFaltaTriAT_G_EXT217.npy,11\\nFaltaTriAT_G_EXT218.npy,11\\nFaltaTriAT_G_EXT219.npy,11\\nFaltaTriAT_G_EXT220.npy,11\\nFaltaTriAT_G_EXT221.npy,11\\nFaltaTriAT_G_EXT222.npy,11\\nFaltaTriAT_G_EXT223.npy,11\\nFaltaTriAT_G_EXT224.npy,11\\nFaltaTriAT_G_EXT225.npy,11\\nFaltaTriAT_G_EXT226.npy,11\\nFaltaTriAT_G_EXT227.npy,11\\nFaltaTriAT_G_EXT228.npy,11\\nFaltaTriAT_G_EXT229.npy,11\\nFaltaTriAT_G_EXT230.npy,11\\nFaltaTriAT_G_EXT231.npy,11\\nFaltaTriAT_G_EXT232.npy,11\\nFaltaTriAT_G_EXT233.npy,11\\nFaltaTriAT_G_EXT234.npy,11\\nFaltaTriAT_G_EXT235.npy,11\\nFaltaTriAT_G_EXT236.npy,11\\nFaltaTriAT_G_EXT237.npy,11\\nFaltaTriAT_G_EXT238.npy,11\\nFaltaTriAT_G_EXT239.npy,11\\nFaltaTriAT_G_EXT240.npy,11\\nFaltaTriAT_G_EXT241.npy,11\\nFaltaTriAT_G_EXT242.npy,11\\nFaltaTriAT_G_EXT243.npy,11\\nFaltaTriAT_G_EXT244.npy,11\\nFaltaTriAT_G_EXT245.npy,11\\nFaltaTriAT_G_EXT246.npy,11\\nFaltaTriAT_G_EXT247.npy,11\\nFaltaTriAT_G_EXT248.npy,11\\nFaltaTriAT_G_EXT249.npy,11\\nFaltaTriAT_G_EXT250.npy,11\\nFaltaTriAT_G_EXT251.npy,11\\nFaltaTriAT_G_EXT252.npy,11\\nFaltaTriAT_G_EXT253.npy,11\\nFaltaTriAT_G_EXT254.npy,11\\nFaltaTriAT_G_EXT255.npy,11\\nFaltaTriAT_G_EXT256.npy,11\\nFaltaTriAT_G_EXT257.npy,11\\nFaltaTriAT_G_EXT258.npy,11\\nFaltaTriAT_G_EXT259.npy,11\\nFaltaTriAT_G_EXT260.npy,11\\nFaltaTriAT_G_EXT261.npy,11\\nFaltaTriAT_G_EXT262.npy,11\\nFaltaTriAT_G_EXT263.npy,11\\nFaltaTriAT_G_EXT264.npy,11\\nFaltaTriAT_G_EXT265.npy,11\\nFaltaTriAT_G_EXT266.npy,11\\nFaltaTriAT_G_EXT267.npy,11\\nFaltaTriAT_G_EXT268.npy,11\\nFaltaTriAT_G_EXT269.npy,11\\nFaltaTriAT_G_EXT270.npy,11\\nFaltaTriAT_G_EXT271.npy,11\\nFaltaTriAT_G_EXT272.npy,11\\nFaltaTriAT_G_EXT273.npy,11\\nFaltaTriAT_G_EXT274.npy,11\\nFaltaTriAT_G_EXT275.npy,11\\nFaltaTriAT_G_EXT276.npy,11\\nFaltaTriAT_G_EXT277.npy,11\\nFaltaTriAT_G_EXT278.npy,11\\nFaltaTriAT_G_EXT279.npy,11\\nFaltaTriAT_G_EXT280.npy,11\\nFaltaTriAT_G_EXT281.npy,11\\nFaltaTriAT_G_EXT282.npy,11\\nFaltaTriAT_G_EXT283.npy,11\\nFaltaTriAT_G_EXT284.npy,11\\nFaltaTriAT_G_EXT285.npy,11\\nFaltaTriAT_G_EXT286.npy,11\\nFaltaTriAT_G_EXT287.npy,11\\nFaltaTriAT_G_EXT288.npy,11\\nFaltaTriAT_G_EXT289.npy,11\\nFaltaTriAT_G_EXT290.npy,11\\nFaltaTriAT_G_EXT291.npy,11\\nFaltaTriAT_G_EXT292.npy,11\\nFaltaTriAT_G_EXT293.npy,11\\nFaltaTriAT_G_EXT294.npy,11\\nFaltaTriAT_G_EXT295.npy,11\\nFaltaTriAT_G_EXT296.npy,11\\nFaltaTriAT_G_EXT297.npy,11\\nFaltaTriAT_G_EXT298.npy,11\\nFaltaTriAT_G_EXT299.npy,11\\nFaltaTriAT_G_EXT300.npy,11\\n'}"
            ]
          },
          "metadata": {},
          "execution_count": 6
        }
      ]
    },
    {
      "cell_type": "markdown",
      "metadata": {
        "id": "MqXWPpzz-eAM"
      },
      "source": [
        "Shuffle the dataset"
      ]
    },
    {
      "cell_type": "code",
      "metadata": {
        "id": "DSPSk0_1FIwL"
      },
      "source": [
        "df = pd.read_csv('data.csv')\n",
        "df = df.sample(frac=1)\n",
        "df = df.sample(frac=1)\n",
        "df.to_csv('shuffled_data.csv',index = False)"
      ],
      "execution_count": null,
      "outputs": []
    },
    {
      "cell_type": "markdown",
      "metadata": {
        "id": "gzdL_LgMPBoz"
      },
      "source": [
        "Uploading the npyData file. This file contains the event data. The file must be compressed in zip format."
      ]
    },
    {
      "cell_type": "code",
      "metadata": {
        "id": "5aYwXlCgPdi2",
        "colab": {
          "resources": {
            "http://localhost:8080/nbextensions/google.colab/files.js": {
              "data": "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",
              "ok": true,
              "headers": [
                [
                  "content-type",
                  "application/javascript"
                ]
              ],
              "status": 200,
              "status_text": ""
            }
          },
          "base_uri": "https://localhost:8080/",
          "height": 38
        },
        "outputId": "b7fae967-540e-41e3-bd88-684a7714c2fa"
      },
      "source": [
        "filesID = glob.glob('./npyData/*')\n",
        "for f in filesID:\n",
        "    os.remove(f)\n",
        "\n",
        "files.upload()\n",
        "\n",
        "with zipfile.ZipFile(\"npyData.zip\",\"r\") as zip_ref:\n",
        "    zip_ref.extractall(\".\")"
      ],
      "execution_count": null,
      "outputs": [
        {
          "output_type": "display_data",
          "data": {
            "text/html": [
              "\n",
              "     <input type=\"file\" id=\"files-7174758b-3bd0-4ad3-a38b-fec778721022\" name=\"files[]\" multiple disabled\n",
              "        style=\"border:none\" />\n",
              "     <output id=\"result-7174758b-3bd0-4ad3-a38b-fec778721022\">\n",
              "      Upload widget is only available when the cell has been executed in the\n",
              "      current browser session. Please rerun this cell to enable.\n",
              "      </output>\n",
              "      <script src=\"/nbextensions/google.colab/files.js\"></script> "
            ],
            "text/plain": [
              "<IPython.core.display.HTML object>"
            ]
          },
          "metadata": {}
        }
      ]
    },
    {
      "cell_type": "markdown",
      "metadata": {
        "id": "rHsACV_GOgpX"
      },
      "source": [
        "Define the dataset class\n"
      ]
    },
    {
      "cell_type": "code",
      "metadata": {
        "id": "iecLmRY_Y2mh"
      },
      "source": [
        "class EventosDataset(Dataset):\n",
        "    # csv_file: provide the dataset file names and its class\n",
        "    # root_dir: path to the files\n",
        "    # transform: transformation to the data files\n",
        "    def __init__(self, csv_file, root_dir, transform = None):\n",
        "        self.annotation = shuffle(pd.read_csv(csv_file))\n",
        "        self.root_dir = root_dir\n",
        "        self.transform = transform\n",
        "\n",
        "    def __len__(self):\n",
        "        return len(self.annotation) \n",
        "\n",
        "    def __getitem__(self,index):\n",
        "        data_path = os.path.join(self.root_dir, self.annotation.iloc[index,0])\n",
        "        np_data = np.load(data_path)\n",
        "        data = torch.as_tensor(np_data)/255\n",
        "        label = torch.tensor(int(self.annotation.iloc[index,1]))\n",
        "        return(data,label)\n",
        "\n",
        "    def __plotImage__(self):\n",
        "        n_samples = dataset.__len__()\n",
        "        index = random.randint(0, n_samples)\n",
        "        data_path = os.path.join(self.root_dir, self.annotation.iloc[index,0])\n",
        "        np_data = np.load(data_path)\n",
        "        fig = plt.figure(figsize=(10, 7),constrained_layout=True)\n",
        "        ax1 = plt.subplot(2,3,1)\n",
        "        plt.imshow(np_data[0,:,:],cmap='gray',vmin=0,vmax=255)\n",
        "        plt.axis('off')\n",
        "        plt.title('Zero')\n",
        "        plt.rc('font', size=18) \n",
        "        ax2 = plt.subplot(2,3,2)\n",
        "        plt.imshow(np_data[1,:,:],cmap='gray',vmin=0,vmax=255)\n",
        "        plt.axis('off')\n",
        "        plt.title('Positive')\n",
        "        ax3 = plt.subplot(2,3,3)\n",
        "        plt.imshow(np_data[2,:,:],cmap='gray',vmin=0,vmax=255)\n",
        "        plt.axis('off')\n",
        "        plt.title('Negative')\n",
        "        ax4 = plt.subplot(2,3,4)\n",
        "        plt.imshow(np_data[3,:,:],cmap='gray')\n",
        "        plt.axis('off')\n",
        "        plt.title('Zero')\n",
        "        ax5 = plt.subplot(2,3,5)\n",
        "        plt.imshow(np_data[4,:,:],cmap='gray')\n",
        "        plt.axis('off')\n",
        "        plt.title('Positive')\n",
        "        ax6 = plt.subplot(2,3,6)\n",
        "        plt.imshow(np_data[5,:,:],cmap='gray')                                \n",
        "        plt.axis('off')\n",
        "        plt.title('Negative')\n",
        "        plt.subplots_adjust(left=0.01,\n",
        "                    bottom=0.01, \n",
        "                    right=0.99, \n",
        "                    top=0.99, \n",
        "                    wspace=0.1, \n",
        "                    hspace=0.1)\n",
        "        \n",
        "        return print(self.annotation.iloc[index,0])"
      ],
      "execution_count": null,
      "outputs": []
    },
    {
      "cell_type": "markdown",
      "metadata": {
        "id": "H1jEKTatQCT-"
      },
      "source": [
        "Defines the dataset. It is not necessary to use transformers to convert to a tensor because this has already been done directly in the dataset class."
      ]
    },
    {
      "cell_type": "code",
      "metadata": {
        "id": "62cxcfKvQJGP"
      },
      "source": [
        "dataset = EventosDataset(csv_file = 'shuffled_data.csv', root_dir = './npyData',\n",
        "                         transform= None)"
      ],
      "execution_count": null,
      "outputs": []
    },
    {
      "cell_type": "markdown",
      "metadata": {
        "id": "fWX6H3YiICQm"
      },
      "source": [
        "Plots a random image of the dataset to test how it works."
      ]
    },
    {
      "cell_type": "code",
      "metadata": {
        "id": "MrnCan6fABQB",
        "colab": {
          "base_uri": "https://localhost:8080/",
          "height": 586
        },
        "outputId": "5b0c37ad-262e-45ff-9427-fed03b421afa"
      },
      "source": [
        "dataset.__plotImage__()"
      ],
      "execution_count": null,
      "outputs": [
        {
          "output_type": "stream",
          "name": "stderr",
          "text": [
            "/usr/local/lib/python3.7/dist-packages/ipykernel_launcher.py:66: UserWarning: This figure was using constrained_layout==True, but that is incompatible with subplots_adjust and or tight_layout: setting constrained_layout==False. \n"
          ]
        },
        {
          "output_type": "stream",
          "name": "stdout",
          "text": [
            "FaltaTriBT_G114.npy\n"
          ]
        },
        {
          "output_type": "display_data",
          "data": {
            "image/png": "[encoded data removed]",
            "text/plain": [
              "<Figure size 720x504 with 6 Axes>"
            ]
          },
          "metadata": {
            "needs_background": "light"
          }
        }
      ]
    },
    {
      "cell_type": "markdown",
      "metadata": {
        "id": "JolVcQrrQ7RT"
      },
      "source": [
        "Training and testing dataset definitions. The number of training epochs and the learning rate are also defined."
      ]
    },
    {
      "cell_type": "code",
      "metadata": {
        "id": "0H__aZViQ589"
      },
      "source": [
        "# device config \n",
        "device = torch.device('cuda' if torch.cuda.is_available() else 'cpu')\n",
        "\n",
        "num_epochs = 40\n",
        "batch_size = 90\n",
        "learning_rate = 1e-3\n",
        "visualize = 3600/batch_size/10\n",
        "\n",
        "# training data (80%) and testing data (20%)\n",
        "train_set, test_set = torch.utils.data.random_split(dataset, [3600, 900])\n",
        "\n",
        "targets_loader = DataLoader(dataset, batch_size=4500)\n",
        "train_loader = DataLoader(dataset = train_set, batch_size = batch_size, shuffle = True)\n",
        "test_loader = DataLoader(dataset = test_set, batch_size = batch_size, shuffle = True)"
      ],
      "execution_count": null,
      "outputs": []
    },
    {
      "cell_type": "markdown",
      "metadata": {
        "id": "zeeN4De3WLoF"
      },
      "source": [
        "Define the CNN"
      ]
    },
    {
      "cell_type": "code",
      "metadata": {
        "id": "np3vpo4lauqf"
      },
      "source": [
        "# seed for random generation of weights of NN\n",
        "torch.manual_seed(24) \n",
        "\n",
        "# NN definition\n",
        "ConvNet = nn.Sequential(\n",
        "    nn.Conv2d(in_channels= 6, out_channels= 36, \n",
        "                          kernel_size= 6, stride= 2 ),\n",
        "    nn.ReLU(),\n",
        "    nn.MaxPool2d(kernel_size = 2, stride = 2),\n",
        "    nn.BatchNorm2d(36),\n",
        "    nn.Conv2d(in_channels= 36, out_channels= 50,\n",
        "                               kernel_size= 6, stride= 1 ),    \n",
        "    nn.ReLU(),\n",
        "    nn.MaxPool2d(kernel_size = 2, stride = 2),\n",
        "    nn.BatchNorm2d(50),    \n",
        "    nn.Conv2d(in_channels= 50, out_channels= 100,\n",
        "                               kernel_size= 7, stride= 1 ), \n",
        "    nn.ReLU(),\n",
        "    nn.MaxPool2d(kernel_size = 2, stride = 2),\n",
        "    nn.BatchNorm2d(100),    \n",
        "    nn.Flatten(start_dim = 1),\n",
        "    nn.Linear(in_features= 100*3*3, out_features= 300),\n",
        "    nn.ReLU(),\n",
        "    nn.Dropout(p= 0.3),\n",
        "    nn.Linear(in_features= 300, out_features= 50),\n",
        "    nn.ReLU(),\n",
        "    nn.Dropout(p= 0.3),\n",
        "    nn.Linear(in_features= 50, out_features= 15)\n",
        ")\n"
      ],
      "execution_count": null,
      "outputs": []
    },
    {
      "cell_type": "markdown",
      "metadata": {
        "id": "uPqxviVJpSUp"
      },
      "source": [
        "Adapt the network to the available device"
      ]
    },
    {
      "cell_type": "code",
      "metadata": {
        "id": "r9yu-K26pQgO"
      },
      "source": [
        "model = ConvNet.to(device)"
      ],
      "execution_count": null,
      "outputs": []
    },
    {
      "cell_type": "markdown",
      "metadata": {
        "id": "4rng4RYhgj1h"
      },
      "source": [
        "Define the training and validation functions"
      ]
    },
    {
      "cell_type": "code",
      "metadata": {
        "id": "x3XGDkiraQWT"
      },
      "source": [
        "train_losses = []\n",
        "train_accu = []\n",
        "\n",
        "#for epoch in range(num_epochs):\n",
        "def train(epoch):\n",
        "    model.train()\n",
        "    running_loss = 0.0\n",
        "    correct = 0\n",
        "    total = 0\n",
        "\n",
        "    for i, (images,labels) in enumerate(train_loader):\n",
        "        images = images.to(device)\n",
        "        labels = labels.to(device)\n",
        "        \n",
        "        #forward\n",
        "        outputs = model(images)\n",
        "        # print(outputs)        \n",
        "        loss = criterion(outputs, labels)\n",
        "\n",
        "        # backward and optimizer\n",
        "        optimizer.zero_grad()\n",
        "        loss.backward()\n",
        "        optimizer.step()\n",
        "\n",
        "        # training info\n",
        "        running_loss =+ loss.item()*images.size(0)\n",
        "        # print(images.size(0))      \n",
        "        _,predicted = outputs.max(1)\n",
        "        total += labels.size(0)\n",
        "        correct += predicted.eq(labels).sum().item()\n",
        "\n",
        "        if (i+1) % visualize == 0:\n",
        "            print(f'Epoch [{epoch+1}/{num_epochs}], Step [{i+1}/{len(train_loader)}], Loss: {loss.item():.4f} ') \n",
        "    \n",
        "    train_loss = running_loss / len(train_loader)\n",
        "    accu = 100.*correct/total\n",
        "\n",
        "    train_losses.append(train_loss)\n",
        "    train_accu.append(accu)\n",
        "    print('Train Loss: %.3f | Accuracy: %.3f'%(train_loss,accu))\n",
        "\n",
        "    return train_loss,accu"
      ],
      "execution_count": null,
      "outputs": []
    },
    {
      "cell_type": "code",
      "metadata": {
        "id": "y0i9b1UjixbU"
      },
      "source": [
        "eval_losses = []\n",
        "eval_accu = []\n",
        "\n",
        "def test(epoch):\n",
        "\n",
        "    running_loss = 0.0\n",
        "    correct = 0\n",
        "    total = 0\n",
        "    with torch.no_grad():\n",
        "        model.eval()\n",
        "        for i, (images,labels) in enumerate(test_loader):\n",
        "            images = images.to(device)\n",
        "            labels = labels.to(device)\n",
        "            \n",
        "            #forward\n",
        "            outputs = model(images)\n",
        "            loss = criterion(outputs, labels)\n",
        "\n",
        "            # test info\n",
        "            running_loss =+ loss.item()*images.size(0)\n",
        "            _,predicted = outputs.max(1)\n",
        "            total += labels.size(0)\n",
        "            correct += predicted.eq(labels).sum().item()\n",
        "    \n",
        "    test_loss = running_loss / len(train_loader)\n",
        "    accu = 100.*correct/total\n",
        "\n",
        "    eval_losses.append(test_loss)\n",
        "    eval_accu.append(accu)\n",
        "    print('Test Loss: %.3f | Accuracy: %.3f'%(test_loss,accu))\n",
        "\n",
        "    return test_loss,accu"
      ],
      "execution_count": null,
      "outputs": []
    },
    {
      "cell_type": "markdown",
      "metadata": {
        "id": "oPw1jXnLptaN"
      },
      "source": [
        "Perform the CNN trainning"
      ]
    },
    {
      "cell_type": "code",
      "metadata": {
        "colab": {
          "base_uri": "https://localhost:8080/"
        },
        "id": "98MoxDGWk49v",
        "outputId": "7519a33c-d067-4ca1-998e-7902a6fef1a0"
      },
      "source": [
        "# multi class classification configuration\n",
        "criterion = nn.CrossEntropyLoss()\n",
        "optimizer = torch.optim.SGD(model.parameters(), lr=learning_rate, momentum=0.9,\n",
        "                            weight_decay = 10e-5)\n",
        "\n",
        "best_accu = 1.*0\n",
        "best_loss = 10.1\n",
        "\n",
        "# training\n",
        "for epoch in range(num_epochs):\n",
        "    tr_loss,tr_accu = train(epoch)\n",
        "    te_loss,te_accu = test(epoch)\n",
        "    av_loss = (tr_loss + te_loss)/2\n",
        "    av_accu = (tr_accu + te_accu)/2\n",
        "    if av_loss < best_loss:\n",
        "        best_loss = av_loss\n",
        "        # At this point save a snapshot of the current model\n",
        "        torch.save(model.state_dict(),'model_best_loss.pth')\n",
        "        best_loss_epoch = epoch+1\n",
        "        print('A new best loss model')\n",
        "    if av_accu > best_accu:\n",
        "        best_accu = av_accu\n",
        "        # At this point save a snapshot of the current model\n",
        "        torch.save(model.state_dict(),'model_best_accu.pth') \n",
        "        best_accu_epoch = epoch+1  \n",
        "        print('A new best accu model')     \n"
      ],
      "execution_count": null,
      "outputs": [
        {
          "output_type": "stream",
          "name": "stdout",
          "text": [
            "Epoch [1/40], Step [4/40], Loss: 2.7215 \n",
            "Epoch [1/40], Step [8/40], Loss: 2.6509 \n",
            "Epoch [1/40], Step [12/40], Loss: 2.6134 \n",
            "Epoch [1/40], Step [16/40], Loss: 2.5366 \n",
            "Epoch [1/40], Step [20/40], Loss: 2.5091 \n",
            "Epoch [1/40], Step [24/40], Loss: 2.4298 \n",
            "Epoch [1/40], Step [28/40], Loss: 2.3204 \n",
            "Epoch [1/40], Step [32/40], Loss: 2.2737 \n",
            "Epoch [1/40], Step [36/40], Loss: 2.2122 \n",
            "Epoch [1/40], Step [40/40], Loss: 2.2539 \n",
            "Train Loss: 5.071 | Accuracy: 29.278\n",
            "Test Loss: 5.313 | Accuracy: 31.333\n",
            "A new best loss model\n",
            "A new best accu model\n",
            "Epoch [2/40], Step [4/40], Loss: 2.1948 \n",
            "Epoch [2/40], Step [8/40], Loss: 2.0123 \n",
            "Epoch [2/40], Step [12/40], Loss: 2.1236 \n",
            "Epoch [2/40], Step [16/40], Loss: 2.1411 \n",
            "Epoch [2/40], Step [20/40], Loss: 1.8152 \n",
            "Epoch [2/40], Step [24/40], Loss: 2.1528 \n",
            "Epoch [2/40], Step [28/40], Loss: 2.0241 \n",
            "Epoch [2/40], Step [32/40], Loss: 2.0016 \n",
            "Epoch [2/40], Step [36/40], Loss: 1.7587 \n",
            "Epoch [2/40], Step [40/40], Loss: 1.7569 \n",
            "Train Loss: 3.953 | Accuracy: 43.833\n",
            "Test Loss: 4.432 | Accuracy: 52.222\n",
            "A new best loss model\n",
            "A new best accu model\n",
            "Epoch [3/40], Step [4/40], Loss: 1.8969 \n",
            "Epoch [3/40], Step [8/40], Loss: 1.6800 \n",
            "Epoch [3/40], Step [12/40], Loss: 1.5858 \n",
            "Epoch [3/40], Step [16/40], Loss: 1.7456 \n",
            "Epoch [3/40], Step [20/40], Loss: 1.6770 \n",
            "Epoch [3/40], Step [24/40], Loss: 1.5393 \n",
            "Epoch [3/40], Step [28/40], Loss: 1.4640 \n",
            "Epoch [3/40], Step [32/40], Loss: 1.5436 \n",
            "Epoch [3/40], Step [36/40], Loss: 1.4823 \n",
            "Epoch [3/40], Step [40/40], Loss: 1.6433 \n",
            "Train Loss: 3.697 | Accuracy: 52.583\n",
            "Test Loss: 3.576 | Accuracy: 60.444\n",
            "A new best loss model\n",
            "A new best accu model\n",
            "Epoch [4/40], Step [4/40], Loss: 1.4412 \n",
            "Epoch [4/40], Step [8/40], Loss: 1.4285 \n",
            "Epoch [4/40], Step [12/40], Loss: 1.4558 \n",
            "Epoch [4/40], Step [16/40], Loss: 1.3149 \n",
            "Epoch [4/40], Step [20/40], Loss: 1.1909 \n",
            "Epoch [4/40], Step [24/40], Loss: 1.2362 \n",
            "Epoch [4/40], Step [28/40], Loss: 1.2713 \n",
            "Epoch [4/40], Step [32/40], Loss: 1.2290 \n",
            "Epoch [4/40], Step [36/40], Loss: 1.3729 \n",
            "Epoch [4/40], Step [40/40], Loss: 1.2136 \n",
            "Train Loss: 2.731 | Accuracy: 59.833\n",
            "Test Loss: 2.296 | Accuracy: 70.667\n",
            "A new best loss model\n",
            "A new best accu model\n",
            "Epoch [5/40], Step [4/40], Loss: 1.0937 \n",
            "Epoch [5/40], Step [8/40], Loss: 1.1667 \n",
            "Epoch [5/40], Step [12/40], Loss: 1.1791 \n",
            "Epoch [5/40], Step [16/40], Loss: 1.0421 \n",
            "Epoch [5/40], Step [20/40], Loss: 0.9699 \n",
            "Epoch [5/40], Step [24/40], Loss: 0.9797 \n",
            "Epoch [5/40], Step [28/40], Loss: 0.9971 \n",
            "Epoch [5/40], Step [32/40], Loss: 0.8495 \n",
            "Epoch [5/40], Step [36/40], Loss: 0.8246 \n",
            "Epoch [5/40], Step [40/40], Loss: 0.7810 \n",
            "Train Loss: 1.757 | Accuracy: 69.694\n",
            "Test Loss: 1.863 | Accuracy: 78.667\n",
            "A new best loss model\n",
            "A new best accu model\n",
            "Epoch [6/40], Step [4/40], Loss: 0.8807 \n",
            "Epoch [6/40], Step [8/40], Loss: 1.0573 \n",
            "Epoch [6/40], Step [12/40], Loss: 0.8000 \n",
            "Epoch [6/40], Step [16/40], Loss: 0.8628 \n",
            "Epoch [6/40], Step [20/40], Loss: 0.8488 \n",
            "Epoch [6/40], Step [24/40], Loss: 0.7385 \n",
            "Epoch [6/40], Step [28/40], Loss: 0.7248 \n",
            "Epoch [6/40], Step [32/40], Loss: 0.6109 \n",
            "Epoch [6/40], Step [36/40], Loss: 0.7472 \n",
            "Epoch [6/40], Step [40/40], Loss: 0.6518 \n",
            "Train Loss: 1.466 | Accuracy: 78.250\n",
            "Test Loss: 1.364 | Accuracy: 92.667\n",
            "A new best loss model\n",
            "A new best accu model\n",
            "Epoch [7/40], Step [4/40], Loss: 0.6001 \n",
            "Epoch [7/40], Step [8/40], Loss: 0.5459 \n",
            "Epoch [7/40], Step [12/40], Loss: 0.6585 \n",
            "Epoch [7/40], Step [16/40], Loss: 0.5799 \n",
            "Epoch [7/40], Step [20/40], Loss: 0.5356 \n",
            "Epoch [7/40], Step [24/40], Loss: 0.5836 \n",
            "Epoch [7/40], Step [28/40], Loss: 0.5304 \n",
            "Epoch [7/40], Step [32/40], Loss: 0.4787 \n",
            "Epoch [7/40], Step [36/40], Loss: 0.5266 \n",
            "Epoch [7/40], Step [40/40], Loss: 0.5738 \n",
            "Train Loss: 1.291 | Accuracy: 85.222\n",
            "Test Loss: 0.967 | Accuracy: 90.222\n",
            "A new best loss model\n",
            "A new best accu model\n",
            "Epoch [8/40], Step [4/40], Loss: 0.5003 \n",
            "Epoch [8/40], Step [8/40], Loss: 0.3932 \n",
            "Epoch [8/40], Step [12/40], Loss: 0.4861 \n",
            "Epoch [8/40], Step [16/40], Loss: 0.4876 \n",
            "Epoch [8/40], Step [20/40], Loss: 0.4838 \n",
            "Epoch [8/40], Step [24/40], Loss: 0.5083 \n",
            "Epoch [8/40], Step [28/40], Loss: 0.4912 \n",
            "Epoch [8/40], Step [32/40], Loss: 0.4765 \n",
            "Epoch [8/40], Step [36/40], Loss: 0.4008 \n",
            "Epoch [8/40], Step [40/40], Loss: 0.4535 \n",
            "Train Loss: 1.020 | Accuracy: 89.167\n",
            "Test Loss: 0.661 | Accuracy: 89.778\n",
            "A new best loss model\n",
            "A new best accu model\n",
            "Epoch [9/40], Step [4/40], Loss: 0.4935 \n",
            "Epoch [9/40], Step [8/40], Loss: 0.3437 \n",
            "Epoch [9/40], Step [12/40], Loss: 0.4148 \n",
            "Epoch [9/40], Step [16/40], Loss: 0.4301 \n",
            "Epoch [9/40], Step [20/40], Loss: 0.5153 \n",
            "Epoch [9/40], Step [24/40], Loss: 0.4531 \n",
            "Epoch [9/40], Step [28/40], Loss: 0.4243 \n",
            "Epoch [9/40], Step [32/40], Loss: 0.3602 \n",
            "Epoch [9/40], Step [36/40], Loss: 0.3646 \n",
            "Epoch [9/40], Step [40/40], Loss: 0.4037 \n",
            "Train Loss: 0.908 | Accuracy: 90.194\n",
            "Test Loss: 0.667 | Accuracy: 90.778\n",
            "A new best loss model\n",
            "A new best accu model\n",
            "Epoch [10/40], Step [4/40], Loss: 0.2858 \n",
            "Epoch [10/40], Step [8/40], Loss: 0.2856 \n",
            "Epoch [10/40], Step [12/40], Loss: 0.3112 \n",
            "Epoch [10/40], Step [16/40], Loss: 0.3794 \n",
            "Epoch [10/40], Step [20/40], Loss: 0.2599 \n",
            "Epoch [10/40], Step [24/40], Loss: 0.3401 \n",
            "Epoch [10/40], Step [28/40], Loss: 0.2597 \n",
            "Epoch [10/40], Step [32/40], Loss: 0.2777 \n",
            "Epoch [10/40], Step [36/40], Loss: 0.3121 \n",
            "Epoch [10/40], Step [40/40], Loss: 0.3427 \n",
            "Train Loss: 0.771 | Accuracy: 92.333\n",
            "Test Loss: 0.417 | Accuracy: 94.333\n",
            "A new best loss model\n",
            "A new best accu model\n",
            "Epoch [11/40], Step [4/40], Loss: 0.3743 \n",
            "Epoch [11/40], Step [8/40], Loss: 0.3728 \n",
            "Epoch [11/40], Step [12/40], Loss: 0.3802 \n",
            "Epoch [11/40], Step [16/40], Loss: 0.3829 \n",
            "Epoch [11/40], Step [20/40], Loss: 0.2951 \n",
            "Epoch [11/40], Step [24/40], Loss: 0.3198 \n",
            "Epoch [11/40], Step [28/40], Loss: 0.2179 \n",
            "Epoch [11/40], Step [32/40], Loss: 0.2385 \n",
            "Epoch [11/40], Step [36/40], Loss: 0.1974 \n",
            "Epoch [11/40], Step [40/40], Loss: 0.3093 \n",
            "Train Loss: 0.696 | Accuracy: 91.833\n",
            "Test Loss: 0.584 | Accuracy: 96.222\n",
            "A new best accu model\n",
            "Epoch [12/40], Step [4/40], Loss: 0.2402 \n",
            "Epoch [12/40], Step [8/40], Loss: 0.2490 \n",
            "Epoch [12/40], Step [12/40], Loss: 0.2807 \n",
            "Epoch [12/40], Step [16/40], Loss: 0.2698 \n",
            "Epoch [12/40], Step [20/40], Loss: 0.1980 \n",
            "Epoch [12/40], Step [24/40], Loss: 0.1864 \n",
            "Epoch [12/40], Step [28/40], Loss: 0.1933 \n",
            "Epoch [12/40], Step [32/40], Loss: 0.2235 \n",
            "Epoch [12/40], Step [36/40], Loss: 0.2259 \n",
            "Epoch [12/40], Step [40/40], Loss: 0.2168 \n",
            "Train Loss: 0.488 | Accuracy: 95.028\n",
            "Test Loss: 0.908 | Accuracy: 84.000\n",
            "Epoch [13/40], Step [4/40], Loss: 0.2278 \n",
            "Epoch [13/40], Step [8/40], Loss: 0.2021 \n",
            "Epoch [13/40], Step [12/40], Loss: 0.1996 \n",
            "Epoch [13/40], Step [16/40], Loss: 0.2056 \n",
            "Epoch [13/40], Step [20/40], Loss: 0.2199 \n",
            "Epoch [13/40], Step [24/40], Loss: 0.1663 \n",
            "Epoch [13/40], Step [28/40], Loss: 0.1689 \n",
            "Epoch [13/40], Step [32/40], Loss: 0.1302 \n",
            "Epoch [13/40], Step [36/40], Loss: 0.1454 \n",
            "Epoch [13/40], Step [40/40], Loss: 0.1344 \n",
            "Train Loss: 0.302 | Accuracy: 96.222\n",
            "Test Loss: 0.257 | Accuracy: 96.333\n",
            "A new best loss model\n",
            "A new best accu model\n",
            "Epoch [14/40], Step [4/40], Loss: 0.1745 \n",
            "Epoch [14/40], Step [8/40], Loss: 0.1280 \n",
            "Epoch [14/40], Step [12/40], Loss: 0.1488 \n",
            "Epoch [14/40], Step [16/40], Loss: 0.1428 \n",
            "Epoch [14/40], Step [20/40], Loss: 0.1329 \n",
            "Epoch [14/40], Step [24/40], Loss: 0.1465 \n",
            "Epoch [14/40], Step [28/40], Loss: 0.1505 \n",
            "Epoch [14/40], Step [32/40], Loss: 0.1915 \n",
            "Epoch [14/40], Step [36/40], Loss: 0.1504 \n",
            "Epoch [14/40], Step [40/40], Loss: 0.1414 \n",
            "Train Loss: 0.318 | Accuracy: 96.972\n",
            "Test Loss: 0.197 | Accuracy: 99.222\n",
            "A new best loss model\n",
            "A new best accu model\n",
            "Epoch [15/40], Step [4/40], Loss: 0.1457 \n",
            "Epoch [15/40], Step [8/40], Loss: 0.1671 \n",
            "Epoch [15/40], Step [12/40], Loss: 0.1364 \n",
            "Epoch [15/40], Step [16/40], Loss: 0.1356 \n",
            "Epoch [15/40], Step [20/40], Loss: 0.1373 \n",
            "Epoch [15/40], Step [24/40], Loss: 0.0705 \n",
            "Epoch [15/40], Step [28/40], Loss: 0.1121 \n",
            "Epoch [15/40], Step [32/40], Loss: 0.1640 \n",
            "Epoch [15/40], Step [36/40], Loss: 0.0928 \n",
            "Epoch [15/40], Step [40/40], Loss: 0.0936 \n",
            "Train Loss: 0.211 | Accuracy: 97.306\n",
            "Test Loss: 0.280 | Accuracy: 96.333\n",
            "A new best loss model\n",
            "Epoch [16/40], Step [4/40], Loss: 0.0841 \n",
            "Epoch [16/40], Step [8/40], Loss: 0.1259 \n",
            "Epoch [16/40], Step [12/40], Loss: 0.1551 \n",
            "Epoch [16/40], Step [16/40], Loss: 0.1179 \n",
            "Epoch [16/40], Step [20/40], Loss: 0.1156 \n",
            "Epoch [16/40], Step [24/40], Loss: 0.1676 \n",
            "Epoch [16/40], Step [28/40], Loss: 0.0808 \n",
            "Epoch [16/40], Step [32/40], Loss: 0.1191 \n",
            "Epoch [16/40], Step [36/40], Loss: 0.0633 \n",
            "Epoch [16/40], Step [40/40], Loss: 0.1230 \n",
            "Train Loss: 0.277 | Accuracy: 97.556\n",
            "Test Loss: 0.117 | Accuracy: 98.000\n",
            "A new best loss model\n",
            "Epoch [17/40], Step [4/40], Loss: 0.1320 \n",
            "Epoch [17/40], Step [8/40], Loss: 0.1016 \n",
            "Epoch [17/40], Step [12/40], Loss: 0.1064 \n",
            "Epoch [17/40], Step [16/40], Loss: 0.0843 \n",
            "Epoch [17/40], Step [20/40], Loss: 0.0881 \n",
            "Epoch [17/40], Step [24/40], Loss: 0.0881 \n",
            "Epoch [17/40], Step [28/40], Loss: 0.0575 \n",
            "Epoch [17/40], Step [32/40], Loss: 0.0879 \n",
            "Epoch [17/40], Step [36/40], Loss: 0.0479 \n",
            "Epoch [17/40], Step [40/40], Loss: 0.0686 \n",
            "Train Loss: 0.154 | Accuracy: 98.528\n",
            "Test Loss: 0.081 | Accuracy: 99.556\n",
            "A new best loss model\n",
            "A new best accu model\n",
            "Epoch [18/40], Step [4/40], Loss: 0.0726 \n",
            "Epoch [18/40], Step [8/40], Loss: 0.0817 \n",
            "Epoch [18/40], Step [12/40], Loss: 0.1606 \n",
            "Epoch [18/40], Step [16/40], Loss: 0.1266 \n",
            "Epoch [18/40], Step [20/40], Loss: 0.0963 \n",
            "Epoch [18/40], Step [24/40], Loss: 0.0779 \n",
            "Epoch [18/40], Step [28/40], Loss: 0.0838 \n",
            "Epoch [18/40], Step [32/40], Loss: 0.0874 \n",
            "Epoch [18/40], Step [36/40], Loss: 0.0836 \n",
            "Epoch [18/40], Step [40/40], Loss: 0.1108 \n",
            "Train Loss: 0.249 | Accuracy: 98.361\n",
            "Test Loss: 0.487 | Accuracy: 93.778\n",
            "Epoch [19/40], Step [4/40], Loss: 0.0595 \n",
            "Epoch [19/40], Step [8/40], Loss: 0.0856 \n",
            "Epoch [19/40], Step [12/40], Loss: 0.0883 \n",
            "Epoch [19/40], Step [16/40], Loss: 0.1235 \n",
            "Epoch [19/40], Step [20/40], Loss: 0.1001 \n",
            "Epoch [19/40], Step [24/40], Loss: 0.0820 \n",
            "Epoch [19/40], Step [28/40], Loss: 0.1134 \n",
            "Epoch [19/40], Step [32/40], Loss: 0.0730 \n",
            "Epoch [19/40], Step [36/40], Loss: 0.1214 \n",
            "Epoch [19/40], Step [40/40], Loss: 0.0827 \n",
            "Train Loss: 0.186 | Accuracy: 98.167\n",
            "Test Loss: 0.170 | Accuracy: 97.333\n",
            "Epoch [20/40], Step [4/40], Loss: 0.0957 \n",
            "Epoch [20/40], Step [8/40], Loss: 0.0578 \n",
            "Epoch [20/40], Step [12/40], Loss: 0.0517 \n",
            "Epoch [20/40], Step [16/40], Loss: 0.1071 \n",
            "Epoch [20/40], Step [20/40], Loss: 0.0513 \n",
            "Epoch [20/40], Step [24/40], Loss: 0.0787 \n",
            "Epoch [20/40], Step [28/40], Loss: 0.0553 \n",
            "Epoch [20/40], Step [32/40], Loss: 0.0793 \n",
            "Epoch [20/40], Step [36/40], Loss: 0.0542 \n",
            "Epoch [20/40], Step [40/40], Loss: 0.0698 \n",
            "Train Loss: 0.157 | Accuracy: 98.889\n",
            "Test Loss: 0.071 | Accuracy: 99.556\n",
            "A new best loss model\n",
            "A new best accu model\n",
            "Epoch [21/40], Step [4/40], Loss: 0.0587 \n",
            "Epoch [21/40], Step [8/40], Loss: 0.0506 \n",
            "Epoch [21/40], Step [12/40], Loss: 0.0678 \n",
            "Epoch [21/40], Step [16/40], Loss: 0.0264 \n",
            "Epoch [21/40], Step [20/40], Loss: 0.0617 \n",
            "Epoch [21/40], Step [24/40], Loss: 0.0404 \n",
            "Epoch [21/40], Step [28/40], Loss: 0.0425 \n",
            "Epoch [21/40], Step [32/40], Loss: 0.0489 \n",
            "Epoch [21/40], Step [36/40], Loss: 0.0704 \n",
            "Epoch [21/40], Step [40/40], Loss: 0.0643 \n",
            "Train Loss: 0.145 | Accuracy: 99.306\n",
            "Test Loss: 0.314 | Accuracy: 97.556\n",
            "Epoch [22/40], Step [4/40], Loss: 0.0371 \n",
            "Epoch [22/40], Step [8/40], Loss: 0.0387 \n",
            "Epoch [22/40], Step [12/40], Loss: 0.0783 \n",
            "Epoch [22/40], Step [16/40], Loss: 0.0412 \n",
            "Epoch [22/40], Step [20/40], Loss: 0.0555 \n",
            "Epoch [22/40], Step [24/40], Loss: 0.0403 \n",
            "Epoch [22/40], Step [28/40], Loss: 0.0655 \n",
            "Epoch [22/40], Step [32/40], Loss: 0.0537 \n",
            "Epoch [22/40], Step [36/40], Loss: 0.0523 \n",
            "Epoch [22/40], Step [40/40], Loss: 0.0504 \n",
            "Train Loss: 0.113 | Accuracy: 99.083\n",
            "Test Loss: 0.045 | Accuracy: 98.556\n",
            "A new best loss model\n",
            "Epoch [23/40], Step [4/40], Loss: 0.0371 \n",
            "Epoch [23/40], Step [8/40], Loss: 0.0722 \n",
            "Epoch [23/40], Step [12/40], Loss: 0.0539 \n",
            "Epoch [23/40], Step [16/40], Loss: 0.0639 \n",
            "Epoch [23/40], Step [20/40], Loss: 0.0455 \n",
            "Epoch [23/40], Step [24/40], Loss: 0.0872 \n",
            "Epoch [23/40], Step [28/40], Loss: 0.0849 \n",
            "Epoch [23/40], Step [32/40], Loss: 0.0504 \n",
            "Epoch [23/40], Step [36/40], Loss: 0.0509 \n",
            "Epoch [23/40], Step [40/40], Loss: 0.0671 \n",
            "Train Loss: 0.151 | Accuracy: 98.917\n",
            "Test Loss: 0.202 | Accuracy: 96.889\n",
            "Epoch [24/40], Step [4/40], Loss: 0.0740 \n",
            "Epoch [24/40], Step [8/40], Loss: 0.0461 \n",
            "Epoch [24/40], Step [12/40], Loss: 0.0526 \n",
            "Epoch [24/40], Step [16/40], Loss: 0.0701 \n",
            "Epoch [24/40], Step [20/40], Loss: 0.1076 \n",
            "Epoch [24/40], Step [24/40], Loss: 0.0849 \n",
            "Epoch [24/40], Step [28/40], Loss: 0.0951 \n",
            "Epoch [24/40], Step [32/40], Loss: 0.0541 \n",
            "Epoch [24/40], Step [36/40], Loss: 0.0496 \n",
            "Epoch [24/40], Step [40/40], Loss: 0.0682 \n",
            "Train Loss: 0.154 | Accuracy: 98.500\n",
            "Test Loss: 0.150 | Accuracy: 97.111\n",
            "Epoch [25/40], Step [4/40], Loss: 0.1101 \n",
            "Epoch [25/40], Step [8/40], Loss: 0.0413 \n",
            "Epoch [25/40], Step [12/40], Loss: 0.0394 \n",
            "Epoch [25/40], Step [16/40], Loss: 0.0421 \n",
            "Epoch [25/40], Step [20/40], Loss: 0.0740 \n",
            "Epoch [25/40], Step [24/40], Loss: 0.0806 \n",
            "Epoch [25/40], Step [28/40], Loss: 0.0405 \n",
            "Epoch [25/40], Step [32/40], Loss: 0.0598 \n",
            "Epoch [25/40], Step [36/40], Loss: 0.0850 \n",
            "Epoch [25/40], Step [40/40], Loss: 0.0210 \n",
            "Train Loss: 0.047 | Accuracy: 98.556\n",
            "Test Loss: 0.063 | Accuracy: 99.556\n",
            "A new best loss model\n",
            "Epoch [26/40], Step [4/40], Loss: 0.0345 \n",
            "Epoch [26/40], Step [8/40], Loss: 0.0439 \n",
            "Epoch [26/40], Step [12/40], Loss: 0.0800 \n",
            "Epoch [26/40], Step [16/40], Loss: 0.0279 \n",
            "Epoch [26/40], Step [20/40], Loss: 0.0315 \n",
            "Epoch [26/40], Step [24/40], Loss: 0.0989 \n",
            "Epoch [26/40], Step [28/40], Loss: 0.0322 \n",
            "Epoch [26/40], Step [32/40], Loss: 0.0450 \n",
            "Epoch [26/40], Step [36/40], Loss: 0.0212 \n",
            "Epoch [26/40], Step [40/40], Loss: 0.0554 \n",
            "Train Loss: 0.125 | Accuracy: 99.306\n",
            "Test Loss: 0.051 | Accuracy: 99.444\n",
            "A new best accu model\n",
            "Epoch [27/40], Step [4/40], Loss: 0.0271 \n",
            "Epoch [27/40], Step [8/40], Loss: 0.0171 \n",
            "Epoch [27/40], Step [12/40], Loss: 0.0621 \n",
            "Epoch [27/40], Step [16/40], Loss: 0.0467 \n",
            "Epoch [27/40], Step [20/40], Loss: 0.1107 \n",
            "Epoch [27/40], Step [24/40], Loss: 0.0293 \n",
            "Epoch [27/40], Step [28/40], Loss: 0.0540 \n",
            "Epoch [27/40], Step [32/40], Loss: 0.0272 \n",
            "Epoch [27/40], Step [36/40], Loss: 0.0268 \n",
            "Epoch [27/40], Step [40/40], Loss: 0.0183 \n",
            "Train Loss: 0.041 | Accuracy: 99.361\n",
            "Test Loss: 0.019 | Accuracy: 99.667\n",
            "A new best loss model\n",
            "A new best accu model\n",
            "Epoch [28/40], Step [4/40], Loss: 0.0264 \n",
            "Epoch [28/40], Step [8/40], Loss: 0.0367 \n",
            "Epoch [28/40], Step [12/40], Loss: 0.0255 \n",
            "Epoch [28/40], Step [16/40], Loss: 0.0320 \n",
            "Epoch [28/40], Step [20/40], Loss: 0.0204 \n",
            "Epoch [28/40], Step [24/40], Loss: 0.0262 \n",
            "Epoch [28/40], Step [28/40], Loss: 0.0496 \n",
            "Epoch [28/40], Step [32/40], Loss: 0.0500 \n",
            "Epoch [28/40], Step [36/40], Loss: 0.0368 \n",
            "Epoch [28/40], Step [40/40], Loss: 0.0272 \n",
            "Train Loss: 0.061 | Accuracy: 99.389\n",
            "Test Loss: 0.057 | Accuracy: 97.778\n",
            "Epoch [29/40], Step [4/40], Loss: 0.0521 \n",
            "Epoch [29/40], Step [8/40], Loss: 0.0495 \n",
            "Epoch [29/40], Step [12/40], Loss: 0.0236 \n",
            "Epoch [29/40], Step [16/40], Loss: 0.0491 \n",
            "Epoch [29/40], Step [20/40], Loss: 0.0104 \n",
            "Epoch [29/40], Step [24/40], Loss: 0.0499 \n",
            "Epoch [29/40], Step [28/40], Loss: 0.0570 \n",
            "Epoch [29/40], Step [32/40], Loss: 0.0421 \n",
            "Epoch [29/40], Step [36/40], Loss: 0.0152 \n",
            "Epoch [29/40], Step [40/40], Loss: 0.0177 \n",
            "Train Loss: 0.040 | Accuracy: 99.583\n",
            "Test Loss: 0.033 | Accuracy: 99.444\n",
            "Epoch [30/40], Step [4/40], Loss: 0.0278 \n",
            "Epoch [30/40], Step [8/40], Loss: 0.0210 \n",
            "Epoch [30/40], Step [12/40], Loss: 0.0239 \n",
            "Epoch [30/40], Step [16/40], Loss: 0.0254 \n",
            "Epoch [30/40], Step [20/40], Loss: 0.0265 \n",
            "Epoch [30/40], Step [24/40], Loss: 0.0361 \n",
            "Epoch [30/40], Step [28/40], Loss: 0.0355 \n",
            "Epoch [30/40], Step [32/40], Loss: 0.0389 \n",
            "Epoch [30/40], Step [36/40], Loss: 0.0432 \n",
            "Epoch [30/40], Step [40/40], Loss: 0.0188 \n",
            "Train Loss: 0.042 | Accuracy: 99.417\n",
            "Test Loss: 0.082 | Accuracy: 98.667\n",
            "Epoch [31/40], Step [4/40], Loss: 0.0368 \n",
            "Epoch [31/40], Step [8/40], Loss: 0.0411 \n",
            "Epoch [31/40], Step [12/40], Loss: 0.0148 \n",
            "Epoch [31/40], Step [16/40], Loss: 0.0209 \n",
            "Epoch [31/40], Step [20/40], Loss: 0.0251 \n",
            "Epoch [31/40], Step [24/40], Loss: 0.0365 \n",
            "Epoch [31/40], Step [28/40], Loss: 0.0312 \n",
            "Epoch [31/40], Step [32/40], Loss: 0.0175 \n",
            "Epoch [31/40], Step [36/40], Loss: 0.0318 \n",
            "Epoch [31/40], Step [40/40], Loss: 0.0306 \n",
            "Train Loss: 0.069 | Accuracy: 99.528\n",
            "Test Loss: 0.034 | Accuracy: 99.333\n",
            "Epoch [32/40], Step [4/40], Loss: 0.0335 \n",
            "Epoch [32/40], Step [8/40], Loss: 0.0326 \n",
            "Epoch [32/40], Step [12/40], Loss: 0.0170 \n",
            "Epoch [32/40], Step [16/40], Loss: 0.0113 \n",
            "Epoch [32/40], Step [20/40], Loss: 0.0351 \n",
            "Epoch [32/40], Step [24/40], Loss: 0.0242 \n",
            "Epoch [32/40], Step [28/40], Loss: 0.0147 \n",
            "Epoch [32/40], Step [32/40], Loss: 0.0256 \n",
            "Epoch [32/40], Step [36/40], Loss: 0.0619 \n",
            "Epoch [32/40], Step [40/40], Loss: 0.0257 \n",
            "Train Loss: 0.058 | Accuracy: 99.778\n",
            "Test Loss: 0.353 | Accuracy: 97.556\n",
            "Epoch [33/40], Step [4/40], Loss: 0.0181 \n",
            "Epoch [33/40], Step [8/40], Loss: 0.0360 \n",
            "Epoch [33/40], Step [12/40], Loss: 0.0505 \n",
            "Epoch [33/40], Step [16/40], Loss: 0.0275 \n",
            "Epoch [33/40], Step [20/40], Loss: 0.0150 \n",
            "Epoch [33/40], Step [24/40], Loss: 0.0240 \n",
            "Epoch [33/40], Step [28/40], Loss: 0.0407 \n",
            "Epoch [33/40], Step [32/40], Loss: 0.0300 \n",
            "Epoch [33/40], Step [36/40], Loss: 0.0369 \n",
            "Epoch [33/40], Step [40/40], Loss: 0.0316 \n",
            "Train Loss: 0.071 | Accuracy: 99.583\n",
            "Test Loss: 0.064 | Accuracy: 99.778\n",
            "A new best accu model\n",
            "Epoch [34/40], Step [4/40], Loss: 0.0167 \n",
            "Epoch [34/40], Step [8/40], Loss: 0.0362 \n",
            "Epoch [34/40], Step [12/40], Loss: 0.0223 \n",
            "Epoch [34/40], Step [16/40], Loss: 0.0613 \n",
            "Epoch [34/40], Step [20/40], Loss: 0.0261 \n",
            "Epoch [34/40], Step [24/40], Loss: 0.0248 \n",
            "Epoch [34/40], Step [28/40], Loss: 0.0100 \n",
            "Epoch [34/40], Step [32/40], Loss: 0.0284 \n",
            "Epoch [34/40], Step [36/40], Loss: 0.0184 \n",
            "Epoch [34/40], Step [40/40], Loss: 0.0294 \n",
            "Train Loss: 0.066 | Accuracy: 99.583\n",
            "Test Loss: 0.006 | Accuracy: 99.667\n",
            "Epoch [35/40], Step [4/40], Loss: 0.0462 \n",
            "Epoch [35/40], Step [8/40], Loss: 0.0185 \n",
            "Epoch [35/40], Step [12/40], Loss: 0.0640 \n",
            "Epoch [35/40], Step [16/40], Loss: 0.0258 \n",
            "Epoch [35/40], Step [20/40], Loss: 0.0382 \n",
            "Epoch [35/40], Step [24/40], Loss: 0.0155 \n",
            "Epoch [35/40], Step [28/40], Loss: 0.0275 \n",
            "Epoch [35/40], Step [32/40], Loss: 0.0186 \n",
            "Epoch [35/40], Step [36/40], Loss: 0.0163 \n",
            "Epoch [35/40], Step [40/40], Loss: 0.0125 \n",
            "Train Loss: 0.028 | Accuracy: 99.250\n",
            "Test Loss: 0.007 | Accuracy: 99.333\n",
            "A new best loss model\n",
            "Epoch [36/40], Step [4/40], Loss: 0.0209 \n",
            "Epoch [36/40], Step [8/40], Loss: 0.0460 \n",
            "Epoch [36/40], Step [12/40], Loss: 0.0383 \n",
            "Epoch [36/40], Step [16/40], Loss: 0.0202 \n",
            "Epoch [36/40], Step [20/40], Loss: 0.0354 \n",
            "Epoch [36/40], Step [24/40], Loss: 0.0402 \n",
            "Epoch [36/40], Step [28/40], Loss: 0.0534 \n",
            "Epoch [36/40], Step [32/40], Loss: 0.0554 \n",
            "Epoch [36/40], Step [36/40], Loss: 0.0181 \n",
            "Epoch [36/40], Step [40/40], Loss: 0.0159 \n",
            "Train Loss: 0.036 | Accuracy: 99.139\n",
            "Test Loss: 0.219 | Accuracy: 98.667\n",
            "Epoch [37/40], Step [4/40], Loss: 0.0194 \n",
            "Epoch [37/40], Step [8/40], Loss: 0.0572 \n",
            "Epoch [37/40], Step [12/40], Loss: 0.0231 \n",
            "Epoch [37/40], Step [16/40], Loss: 0.0124 \n",
            "Epoch [37/40], Step [20/40], Loss: 0.0208 \n",
            "Epoch [37/40], Step [24/40], Loss: 0.0484 \n",
            "Epoch [37/40], Step [28/40], Loss: 0.0267 \n",
            "Epoch [37/40], Step [32/40], Loss: 0.0249 \n",
            "Epoch [37/40], Step [36/40], Loss: 0.0325 \n",
            "Epoch [37/40], Step [40/40], Loss: 0.0149 \n",
            "Train Loss: 0.034 | Accuracy: 99.444\n",
            "Test Loss: 0.015 | Accuracy: 99.333\n",
            "Epoch [38/40], Step [4/40], Loss: 0.0240 \n",
            "Epoch [38/40], Step [8/40], Loss: 0.0199 \n",
            "Epoch [38/40], Step [12/40], Loss: 0.0220 \n",
            "Epoch [38/40], Step [16/40], Loss: 0.0207 \n",
            "Epoch [38/40], Step [20/40], Loss: 0.0376 \n",
            "Epoch [38/40], Step [24/40], Loss: 0.0474 \n",
            "Epoch [38/40], Step [28/40], Loss: 0.0291 \n",
            "Epoch [38/40], Step [32/40], Loss: 0.0113 \n",
            "Epoch [38/40], Step [36/40], Loss: 0.0199 \n",
            "Epoch [38/40], Step [40/40], Loss: 0.0114 \n",
            "Train Loss: 0.026 | Accuracy: 99.750\n",
            "Test Loss: 0.003 | Accuracy: 100.000\n",
            "A new best loss model\n",
            "A new best accu model\n",
            "Epoch [39/40], Step [4/40], Loss: 0.0391 \n",
            "Epoch [39/40], Step [8/40], Loss: 0.0150 \n",
            "Epoch [39/40], Step [12/40], Loss: 0.0395 \n",
            "Epoch [39/40], Step [16/40], Loss: 0.0127 \n",
            "Epoch [39/40], Step [20/40], Loss: 0.0223 \n",
            "Epoch [39/40], Step [24/40], Loss: 0.0212 \n",
            "Epoch [39/40], Step [28/40], Loss: 0.0059 \n",
            "Epoch [39/40], Step [32/40], Loss: 0.0144 \n",
            "Epoch [39/40], Step [36/40], Loss: 0.0119 \n",
            "Epoch [39/40], Step [40/40], Loss: 0.0120 \n",
            "Train Loss: 0.027 | Accuracy: 99.778\n",
            "Test Loss: 0.004 | Accuracy: 100.000\n",
            "A new best accu model\n",
            "Epoch [40/40], Step [4/40], Loss: 0.0173 \n",
            "Epoch [40/40], Step [8/40], Loss: 0.0323 \n",
            "Epoch [40/40], Step [12/40], Loss: 0.0086 \n",
            "Epoch [40/40], Step [16/40], Loss: 0.0335 \n",
            "Epoch [40/40], Step [20/40], Loss: 0.0100 \n",
            "Epoch [40/40], Step [24/40], Loss: 0.0115 \n",
            "Epoch [40/40], Step [28/40], Loss: 0.0063 \n",
            "Epoch [40/40], Step [32/40], Loss: 0.0248 \n",
            "Epoch [40/40], Step [36/40], Loss: 0.0272 \n",
            "Epoch [40/40], Step [40/40], Loss: 0.0149 \n",
            "Train Loss: 0.034 | Accuracy: 99.750\n",
            "Test Loss: 0.006 | Accuracy: 99.778\n"
          ]
        }
      ]
    },
    {
      "cell_type": "markdown",
      "metadata": {
        "id": "EfVtt2rZqJ3O"
      },
      "source": [
        "Save the trainned models and download the zip files. Three models are saved: 1) The one resulting after the total epochs training; 2) The one which presented the best accuracy; 3) The one which presented the best loss;"
      ]
    },
    {
      "cell_type": "code",
      "metadata": {
        "colab": {
          "base_uri": "https://localhost:8080/",
          "height": 34
        },
        "id": "bDSwemCRpdJ5",
        "outputId": "70ccde07-6ffc-4168-f568-98b46da94002"
      },
      "source": [
        "FILE = 'model.pth'\n",
        "torch.save(model.state_dict(),FILE)\n",
        "! zip pytorchModel.zip model.pth\n",
        "files.download('./pytorchModel.zip')"
      ],
      "execution_count": null,
      "outputs": [
        {
          "output_type": "stream",
          "name": "stdout",
          "text": [
            "updating: model.pth (deflated 8%)\n"
          ]
        },
        {
          "output_type": "display_data",
          "data": {
            "application/javascript": [
              "\n",
              "    async function download(id, filename, size) {\n",
              "      if (!google.colab.kernel.accessAllowed) {\n",
              "        return;\n",
              "      }\n",
              "      const div = document.createElement('div');\n",
              "      const label = document.createElement('label');\n",
              "      label.textContent = `Downloading \"${filename}\": `;\n",
              "      div.appendChild(label);\n",
              "      const progress = document.createElement('progress');\n",
              "      progress.max = size;\n",
              "      div.appendChild(progress);\n",
              "      document.body.appendChild(div);\n",
              "\n",
              "      const buffers = [];\n",
              "      let downloaded = 0;\n",
              "\n",
              "      const channel = await google.colab.kernel.comms.open(id);\n",
              "      // Send a message to notify the kernel that we're ready.\n",
              "      channel.send({})\n",
              "\n",
              "      for await (const message of channel.messages) {\n",
              "        // Send a message to notify the kernel that we're ready.\n",
              "        channel.send({})\n",
              "        if (message.buffers) {\n",
              "          for (const buffer of message.buffers) {\n",
              "            buffers.push(buffer);\n",
              "            downloaded += buffer.byteLength;\n",
              "            progress.value = downloaded;\n",
              "          }\n",
              "        }\n",
              "      }\n",
              "      const blob = new Blob(buffers, {type: 'application/binary'});\n",
              "      const a = document.createElement('a');\n",
              "      a.href = window.URL.createObjectURL(blob);\n",
              "      a.download = filename;\n",
              "      div.appendChild(a);\n",
              "      a.click();\n",
              "      div.remove();\n",
              "    }\n",
              "  "
            ],
            "text/plain": [
              "<IPython.core.display.Javascript object>"
            ]
          },
          "metadata": {}
        },
        {
          "output_type": "display_data",
          "data": {
            "application/javascript": [
              "download(\"download_563be817-d9fe-44ab-b8d9-1d2f1d3ffb4a\", \"pytorchModel.zip\", 2227263)"
            ],
            "text/plain": [
              "<IPython.core.display.Javascript object>"
            ]
          },
          "metadata": {}
        }
      ]
    },
    {
      "cell_type": "code",
      "metadata": {
        "colab": {
          "base_uri": "https://localhost:8080/",
          "height": 51
        },
        "id": "kwU7vr6FUPNF",
        "outputId": "8c706b7c-6e35-485f-c978-8bc57295d235"
      },
      "source": [
        "print(best_accu_epoch)\n",
        "! zip pytorchModelBestAccu.zip model_best_accu.pth\n",
        "files.download('./pytorchModelBestAccu.zip')"
      ],
      "execution_count": null,
      "outputs": [
        {
          "output_type": "stream",
          "name": "stdout",
          "text": [
            "39\n",
            "updating: model_best_accu.pth (deflated 8%)\n"
          ]
        },
        {
          "output_type": "display_data",
          "data": {
            "application/javascript": [
              "\n",
              "    async function download(id, filename, size) {\n",
              "      if (!google.colab.kernel.accessAllowed) {\n",
              "        return;\n",
              "      }\n",
              "      const div = document.createElement('div');\n",
              "      const label = document.createElement('label');\n",
              "      label.textContent = `Downloading \"${filename}\": `;\n",
              "      div.appendChild(label);\n",
              "      const progress = document.createElement('progress');\n",
              "      progress.max = size;\n",
              "      div.appendChild(progress);\n",
              "      document.body.appendChild(div);\n",
              "\n",
              "      const buffers = [];\n",
              "      let downloaded = 0;\n",
              "\n",
              "      const channel = await google.colab.kernel.comms.open(id);\n",
              "      // Send a message to notify the kernel that we're ready.\n",
              "      channel.send({})\n",
              "\n",
              "      for await (const message of channel.messages) {\n",
              "        // Send a message to notify the kernel that we're ready.\n",
              "        channel.send({})\n",
              "        if (message.buffers) {\n",
              "          for (const buffer of message.buffers) {\n",
              "            buffers.push(buffer);\n",
              "            downloaded += buffer.byteLength;\n",
              "            progress.value = downloaded;\n",
              "          }\n",
              "        }\n",
              "      }\n",
              "      const blob = new Blob(buffers, {type: 'application/binary'});\n",
              "      const a = document.createElement('a');\n",
              "      a.href = window.URL.createObjectURL(blob);\n",
              "      a.download = filename;\n",
              "      div.appendChild(a);\n",
              "      a.click();\n",
              "      div.remove();\n",
              "    }\n",
              "  "
            ],
            "text/plain": [
              "<IPython.core.display.Javascript object>"
            ]
          },
          "metadata": {}
        },
        {
          "output_type": "display_data",
          "data": {
            "application/javascript": [
              "download(\"download_e2b3271b-f129-4126-add1-e81fd3b08c0f\", \"pytorchModelBestAccu.zip\", 2227150)"
            ],
            "text/plain": [
              "<IPython.core.display.Javascript object>"
            ]
          },
          "metadata": {}
        }
      ]
    },
    {
      "cell_type": "code",
      "metadata": {
        "colab": {
          "base_uri": "https://localhost:8080/",
          "height": 51
        },
        "id": "VioKC5-OUmhX",
        "outputId": "8e6a8b77-84d3-44cf-9ddf-e07a25713caf"
      },
      "source": [
        "print(best_loss_epoch)\n",
        "! zip pytorchModelBestLoss.zip model_best_loss.pth\n",
        "files.download('./pytorchModelBestLoss.zip')"
      ],
      "execution_count": null,
      "outputs": [
        {
          "output_type": "stream",
          "name": "stdout",
          "text": [
            "38\n",
            "updating: model_best_loss.pth (deflated 8%)\n"
          ]
        },
        {
          "output_type": "display_data",
          "data": {
            "application/javascript": [
              "\n",
              "    async function download(id, filename, size) {\n",
              "      if (!google.colab.kernel.accessAllowed) {\n",
              "        return;\n",
              "      }\n",
              "      const div = document.createElement('div');\n",
              "      const label = document.createElement('label');\n",
              "      label.textContent = `Downloading \"${filename}\": `;\n",
              "      div.appendChild(label);\n",
              "      const progress = document.createElement('progress');\n",
              "      progress.max = size;\n",
              "      div.appendChild(progress);\n",
              "      document.body.appendChild(div);\n",
              "\n",
              "      const buffers = [];\n",
              "      let downloaded = 0;\n",
              "\n",
              "      const channel = await google.colab.kernel.comms.open(id);\n",
              "      // Send a message to notify the kernel that we're ready.\n",
              "      channel.send({})\n",
              "\n",
              "      for await (const message of channel.messages) {\n",
              "        // Send a message to notify the kernel that we're ready.\n",
              "        channel.send({})\n",
              "        if (message.buffers) {\n",
              "          for (const buffer of message.buffers) {\n",
              "            buffers.push(buffer);\n",
              "            downloaded += buffer.byteLength;\n",
              "            progress.value = downloaded;\n",
              "          }\n",
              "        }\n",
              "      }\n",
              "      const blob = new Blob(buffers, {type: 'application/binary'});\n",
              "      const a = document.createElement('a');\n",
              "      a.href = window.URL.createObjectURL(blob);\n",
              "      a.download = filename;\n",
              "      div.appendChild(a);\n",
              "      a.click();\n",
              "      div.remove();\n",
              "    }\n",
              "  "
            ],
            "text/plain": [
              "<IPython.core.display.Javascript object>"
            ]
          },
          "metadata": {}
        },
        {
          "output_type": "display_data",
          "data": {
            "application/javascript": [
              "download(\"download_11250c27-0276-4f41-b142-c4097ab2b0ad\", \"pytorchModelBestLoss.zip\", 2227120)"
            ],
            "text/plain": [
              "<IPython.core.display.Javascript object>"
            ]
          },
          "metadata": {}
        }
      ]
    },
    {
      "cell_type": "markdown",
      "metadata": {
        "id": "w1C2-GhQqQVg"
      },
      "source": [
        "Plot the training data together with the evaluation performed in parallel, save the figure, then download the figure file."
      ]
    },
    {
      "cell_type": "code",
      "metadata": {
        "colab": {
          "base_uri": "https://localhost:8080/",
          "height": 499
        },
        "id": "eLllsMkyNWin",
        "outputId": "af96d8e4-3862-445e-c88f-c33a9e029e9e"
      },
      "source": [
        "# Plot loss and acuracy\n",
        "epoch_x = np.arange(1, 41, 1)\n",
        "\n",
        "fig = plt.figure(figsize=(10,7))\n",
        "plt.rc('font', size=18) #controls default text size\n",
        "ax = fig.add_subplot(111)\n",
        "\n",
        "lns1 = ax.plot(epoch_x,train_losses,'--', color='blue', label = 'Train loss')\n",
        "lns2 = ax.plot(epoch_x,eval_losses,'-', color='orange', label = 'Validation loss')\n",
        "ax2 = ax.twinx()\n",
        "lns3 = ax2.plot(epoch_x,train_accu,'--', color='black', label = 'Train accuracy',)\n",
        "lns4 = ax2.plot(epoch_x,eval_accu,'-', color='green', label = 'Validation accuracy')\n",
        "\n",
        "# added these three lines\n",
        "lns = lns1+lns2+lns3+lns4\n",
        "labs = [l.get_label() for l in lns]\n",
        "ax.legend(lns, labs, loc='center right')\n",
        "\n",
        "ax.grid()\n",
        "ax.set_xlabel(\"Epoch\")\n",
        "ax.set_ylabel(r\"Loss\")\n",
        "ax2.set_ylabel(r\"Accuracy (%)\")\n",
        "ax2.set_ylim(0, 101)\n",
        "ax.set_ylim(0,7)\n",
        "ax.set_xlim(0,40)\n",
        "plt.show()\n",
        "fig.savefig(fname = 'loss_accuracy.eps' ,  bbox_inches='tight')\n",
        "files.download('./loss_accuracy.eps')"
      ],
      "execution_count": null,
      "outputs": [
        {
          "output_type": "display_data",
          "data": {
            "image/png": "[encoded data removed]",
            "text/plain": [
              "<Figure size 720x504 with 2 Axes>"
            ]
          },
          "metadata": {
            "needs_background": "light"
          }
        },
        {
          "output_type": "stream",
          "name": "stderr",
          "text": [
            "The PostScript backend does not support transparency; partially transparent artists will be rendered opaque.\n",
            "The PostScript backend does not support transparency; partially transparent artists will be rendered opaque.\n"
          ]
        },
        {
          "output_type": "display_data",
          "data": {
            "application/javascript": [
              "\n",
              "    async function download(id, filename, size) {\n",
              "      if (!google.colab.kernel.accessAllowed) {\n",
              "        return;\n",
              "      }\n",
              "      const div = document.createElement('div');\n",
              "      const label = document.createElement('label');\n",
              "      label.textContent = `Downloading \"${filename}\": `;\n",
              "      div.appendChild(label);\n",
              "      const progress = document.createElement('progress');\n",
              "      progress.max = size;\n",
              "      div.appendChild(progress);\n",
              "      document.body.appendChild(div);\n",
              "\n",
              "      const buffers = [];\n",
              "      let downloaded = 0;\n",
              "\n",
              "      const channel = await google.colab.kernel.comms.open(id);\n",
              "      // Send a message to notify the kernel that we're ready.\n",
              "      channel.send({})\n",
              "\n",
              "      for await (const message of channel.messages) {\n",
              "        // Send a message to notify the kernel that we're ready.\n",
              "        channel.send({})\n",
              "        if (message.buffers) {\n",
              "          for (const buffer of message.buffers) {\n",
              "            buffers.push(buffer);\n",
              "            downloaded += buffer.byteLength;\n",
              "            progress.value = downloaded;\n",
              "          }\n",
              "        }\n",
              "      }\n",
              "      const blob = new Blob(buffers, {type: 'application/binary'});\n",
              "      const a = document.createElement('a');\n",
              "      a.href = window.URL.createObjectURL(blob);\n",
              "      a.download = filename;\n",
              "      div.appendChild(a);\n",
              "      a.click();\n",
              "      div.remove();\n",
              "    }\n",
              "  "
            ],
            "text/plain": [
              "<IPython.core.display.Javascript object>"
            ]
          },
          "metadata": {}
        },
        {
          "output_type": "display_data",
          "data": {
            "application/javascript": [
              "download(\"download_b97066ba-8fcb-46b4-b539-eb6f0e0f626b\", \"loss_accuracy.eps\", 31649)"
            ],
            "text/plain": [
              "<IPython.core.display.Javascript object>"
            ]
          },
          "metadata": {}
        }
      ]
    },
    {
      "cell_type": "markdown",
      "metadata": {
        "id": "-SQQYk9dhR0F"
      },
      "source": [
        "Saves the training and evaluation data, then download as a zip file."
      ]
    },
    {
      "cell_type": "code",
      "metadata": {
        "colab": {
          "base_uri": "https://localhost:8080/",
          "height": 85
        },
        "id": "hlYnYe5sQtOg",
        "outputId": "ac86d980-1376-469b-bda6-dce79c19ad4e"
      },
      "source": [
        "np.save('./train_losses.npy', train_losses)\n",
        "np.save('./eval_losses.npy', eval_losses)\n",
        "np.save('./train_accu.npy', train_accu)\n",
        "np.save('./eval_accu.npy', eval_accu)\n",
        "! zip trainData.zip ./*.npy\n",
        "files.download('./trainData.zip')"
      ],
      "execution_count": null,
      "outputs": [
        {
          "output_type": "stream",
          "name": "stdout",
          "text": [
            "updating: eval_accu.npy (deflated 55%)\n",
            "updating: eval_losses.npy (deflated 33%)\n",
            "updating: train_accu.npy (deflated 49%)\n",
            "updating: train_losses.npy (deflated 33%)\n"
          ]
        },
        {
          "output_type": "display_data",
          "data": {
            "application/javascript": [
              "\n",
              "    async function download(id, filename, size) {\n",
              "      if (!google.colab.kernel.accessAllowed) {\n",
              "        return;\n",
              "      }\n",
              "      const div = document.createElement('div');\n",
              "      const label = document.createElement('label');\n",
              "      label.textContent = `Downloading \"${filename}\": `;\n",
              "      div.appendChild(label);\n",
              "      const progress = document.createElement('progress');\n",
              "      progress.max = size;\n",
              "      div.appendChild(progress);\n",
              "      document.body.appendChild(div);\n",
              "\n",
              "      const buffers = [];\n",
              "      let downloaded = 0;\n",
              "\n",
              "      const channel = await google.colab.kernel.comms.open(id);\n",
              "      // Send a message to notify the kernel that we're ready.\n",
              "      channel.send({})\n",
              "\n",
              "      for await (const message of channel.messages) {\n",
              "        // Send a message to notify the kernel that we're ready.\n",
              "        channel.send({})\n",
              "        if (message.buffers) {\n",
              "          for (const buffer of message.buffers) {\n",
              "            buffers.push(buffer);\n",
              "            downloaded += buffer.byteLength;\n",
              "            progress.value = downloaded;\n",
              "          }\n",
              "        }\n",
              "      }\n",
              "      const blob = new Blob(buffers, {type: 'application/binary'});\n",
              "      const a = document.createElement('a');\n",
              "      a.href = window.URL.createObjectURL(blob);\n",
              "      a.download = filename;\n",
              "      div.appendChild(a);\n",
              "      a.click();\n",
              "      div.remove();\n",
              "    }\n",
              "  "
            ],
            "text/plain": [
              "<IPython.core.display.Javascript object>"
            ]
          },
          "metadata": {}
        },
        {
          "output_type": "display_data",
          "data": {
            "application/javascript": [
              "download(\"download_07f10776-c87d-4fd1-8f49-21e7c81761af\", \"trainData.zip\", 1681)"
            ],
            "text/plain": [
              "<IPython.core.display.Javascript object>"
            ]
          },
          "metadata": {}
        }
      ]
    },
    {
      "cell_type": "markdown",
      "metadata": {
        "id": "ESFn57N9POmA"
      },
      "source": [
        "Upload the CNN trainned parameters, set the motel to the evaluation mode."
      ]
    },
    {
      "cell_type": "code",
      "metadata": {
        "colab": {
          "base_uri": "https://localhost:8080/"
        },
        "id": "5lZtlePUPeJA",
        "outputId": "110765de-5fa4-4f6a-a5cc-b900631b1b8c"
      },
      "source": [
        "FILE = './model_best_accu.pth'\n",
        "# load the parameters from the FILE\n",
        "model.load_state_dict(torch.load(FILE))\n",
        "# uses the network in the evaluation mode, witout calculating the gradients\n",
        "model.to(device)\n",
        "model.eval()"
      ],
      "execution_count": null,
      "outputs": [
        {
          "output_type": "execute_result",
          "data": {
            "text/plain": [
              "Sequential(\n",
              "  (0): Conv2d(6, 36, kernel_size=(6, 6), stride=(2, 2))\n",
              "  (1): ReLU()\n",
              "  (2): MaxPool2d(kernel_size=2, stride=2, padding=0, dilation=1, ceil_mode=False)\n",
              "  (3): BatchNorm2d(36, eps=1e-05, momentum=0.1, affine=True, track_running_stats=True)\n",
              "  (4): Conv2d(36, 50, kernel_size=(6, 6), stride=(1, 1))\n",
              "  (5): ReLU()\n",
              "  (6): MaxPool2d(kernel_size=2, stride=2, padding=0, dilation=1, ceil_mode=False)\n",
              "  (7): BatchNorm2d(50, eps=1e-05, momentum=0.1, affine=True, track_running_stats=True)\n",
              "  (8): Conv2d(50, 100, kernel_size=(7, 7), stride=(1, 1))\n",
              "  (9): ReLU()\n",
              "  (10): MaxPool2d(kernel_size=2, stride=2, padding=0, dilation=1, ceil_mode=False)\n",
              "  (11): BatchNorm2d(100, eps=1e-05, momentum=0.1, affine=True, track_running_stats=True)\n",
              "  (12): Flatten(start_dim=1, end_dim=-1)\n",
              "  (13): Linear(in_features=900, out_features=300, bias=True)\n",
              "  (14): ReLU()\n",
              "  (15): Dropout(p=0.3, inplace=False)\n",
              "  (16): Linear(in_features=300, out_features=50, bias=True)\n",
              "  (17): ReLU()\n",
              "  (18): Dropout(p=0.3, inplace=False)\n",
              "  (19): Linear(in_features=50, out_features=15, bias=True)\n",
              ")"
            ]
          },
          "metadata": {},
          "execution_count": 63
        }
      ]
    },
    {
      "cell_type": "markdown",
      "metadata": {
        "id": "lj5Wk-sDqb_G"
      },
      "source": [
        "Presents the global accuracy and the accuracy for each class evaluated. Two classses set are presented. The first one considers each temporary fault event as a diferent class. The seccond one considers that all temporary fault events belong to just one class (NOOP05). "
      ]
    },
    {
      "cell_type": "code",
      "metadata": {
        "colab": {
          "base_uri": "https://localhost:8080/"
        },
        "id": "D6KMC07uT5h7",
        "outputId": "8b901d80-a892-4a8b-92a8-4bbfee627f0f"
      },
      "source": [
        "# define the name for each class. \n",
        "\n",
        "classes = ('DESE01', 'LINC02', 'LDEC03', \n",
        "           'SPFH04', 'SPFL05', 'DPFH06', 'DPFL07', \n",
        "           'DGFH08', 'DGFL09', 'SGFH10', 'SGFL11',\n",
        "           'SPTH12', 'DPTH13', 'DGTH14', \n",
        "           'SGTH15' )\n",
        "\n",
        "classes = ('DESE01', 'LINC02', 'LDEC03', \n",
        "           'SPFH04', 'SPFL05', 'DPFH06', 'DPFL07', \n",
        "           'DGFH08', 'DGFL09', 'SGFH10', 'SGFL11',\n",
        "           'NOOP05')\n",
        "\n",
        "\n",
        "with torch.no_grad():\n",
        "    model.eval()\n",
        "    acc = 0\n",
        "    predicted = []\n",
        "    n_correct = 0\n",
        "    n_samples = 0\n",
        "    n_class_correct = []\n",
        "    n_class_correct = [0 for i in range(len(classes))]\n",
        "    n_class_samples = []\n",
        "    n_class_samples = [0 for i in range(len(classes))]\n",
        "    # print(n_class_correct)\n",
        "    for images, labels in targets_loader:\n",
        "        images = images.to(device)\n",
        "        labels = labels.to(device)\n",
        "        # print(labels.shape)\n",
        "        outputs = model(images)\n",
        "\n",
        "        # max returns (value, index)\n",
        "        predicted = [0 for i in range(outputs.shape[0])]\n",
        "        _, predicted = torch.max(outputs, 1)\n",
        "        n_samples += labels.size(0)\n",
        "        n_correct += (predicted == labels).sum().item()\n",
        "\n",
        "        for i in range(outputs.shape[0]):\n",
        "            label = labels[i]\n",
        "            pred = predicted[i]\n",
        "            if (label == pred):\n",
        "                n_class_correct[label] += 1\n",
        "            n_class_samples[label] += 1\n",
        "\n",
        "    acc = 100.0 * n_correct / n_samples\n",
        "    print(f'Accuracy of the network: {acc} %')\n",
        "    print()\n",
        "\n",
        "    for i in range(len(classes)):\n",
        "        acc = 100.0 * n_class_correct[i] / n_class_samples[i]\n",
        "        print(f'Accuracy of {classes[i]}: {acc} %')"
      ],
      "execution_count": null,
      "outputs": [
        {
          "output_type": "stream",
          "name": "stdout",
          "text": [
            "Accuracy of the network: 99.97777777777777 %\n",
            "\n",
            "Accuracy of DESE01: 100.0 %\n",
            "Accuracy of LINC02: 100.0 %\n",
            "Accuracy of LDEC03: 100.0 %\n",
            "Accuracy of SPFH04: 100.0 %\n",
            "Accuracy of SPFL05: 100.0 %\n",
            "Accuracy of DPFH06: 100.0 %\n",
            "Accuracy of DPFL07: 100.0 %\n",
            "Accuracy of DGFH08: 100.0 %\n",
            "Accuracy of DGFL09: 100.0 %\n",
            "Accuracy of SGFH10: 99.66666666666667 %\n",
            "Accuracy of SGFL11: 100.0 %\n",
            "Accuracy of NOOP05: 100.0 %\n"
          ]
        }
      ]
    },
    {
      "cell_type": "markdown",
      "metadata": {
        "id": "4Pydyhxaq74v"
      },
      "source": [
        "To generate the confusion matrix, it is necessary to have the prediction data from all the examples, whether training or testing. Initially a function for predicting classification is defined. Then, with gradient calculation turned off, the labels of all events in the dataset are loaded and then the prediction for all events is also obtained. Using the cikitlearn library, the confusion matrix (cm) is defined considering the real classes (targets) of each event and the prediction obtained with the network (predis). Finally, the function that plots the confusion matrix is ​​defined."
      ]
    },
    {
      "cell_type": "markdown",
      "metadata": {
        "id": "JzgRsxDMjy21"
      },
      "source": [
        "Function to get prediction for all examples provided."
      ]
    },
    {
      "cell_type": "code",
      "metadata": {
        "id": "BAr3L8fYrRQ0"
      },
      "source": [
        "def get_all_preds(model, loader):\n",
        "    with torch.no_grad():\n",
        "        model.eval()\n",
        "        all_preds = torch.tensor([]).to(device)\n",
        "        for batch in loader:\n",
        "            images, labels = batch\n",
        "            images = images.to(device)\n",
        "            labels = labels.to(device)\n",
        "\n",
        "            preds = model(images)\n",
        "            all_preds = torch.cat(\n",
        "                (all_preds, preds)\n",
        "                ,dim=0)\n",
        "    return all_preds"
      ],
      "execution_count": null,
      "outputs": []
    },
    {
      "cell_type": "markdown",
      "metadata": {
        "id": "9WcIZD2Qj_y_"
      },
      "source": [
        "Create a new dataloar, which bombine training and validation data. It is used to get the prediction for all examples provided by the dataset loaded previously. The predictions are used to create the confusion matrix."
      ]
    },
    {
      "cell_type": "code",
      "metadata": {
        "id": "oHa6jscYsVFJ"
      },
      "source": [
        "with torch.no_grad():\n",
        "    model.eval()\n",
        "    prediction_loader = torch.utils.data.DataLoader(dataset, batch_size=450)\n",
        "    preds = get_all_preds(model, prediction_loader)\n"
      ],
      "execution_count": null,
      "outputs": []
    },
    {
      "cell_type": "code",
      "metadata": {
        "id": "kGkHsdo4ujwi"
      },
      "source": [
        "targets = torch.tensor([]).to(device)\n",
        "for images, labels in targets_loader:\n",
        "    targets = labels"
      ],
      "execution_count": null,
      "outputs": []
    },
    {
      "cell_type": "markdown",
      "metadata": {
        "id": "FsVni2Eekhez"
      },
      "source": [
        "Create the confusion matrix. Then a function to plot the confusion matrix is definided."
      ]
    },
    {
      "cell_type": "code",
      "metadata": {
        "id": "Stkj7_nX2QMh"
      },
      "source": [
        "preds_np = preds.argmax(dim=1).cpu()\n",
        "cm = confusion_matrix(targets, preds_np)"
      ],
      "execution_count": null,
      "outputs": []
    },
    {
      "cell_type": "code",
      "metadata": {
        "id": "w6ZP6qOu2nlI"
      },
      "source": [
        "import itertools\n",
        "import numpy as np\n",
        "import matplotlib.pyplot as plt\n",
        "\n",
        "def plot_confusion_matrix(cm, classes, normalize=False, title='Confusion matrix', cmap=plt.cm.Blues):\n",
        "    if normalize:\n",
        "        cm = cm.astype('float') / cm.sum(axis=1)[:, np.newaxis]\n",
        "        print(\"Normalized confusion matrix\")\n",
        "    else:\n",
        "        print('Confusion matrix, without normalization')\n",
        "\n",
        "    # print(cm)\n",
        "    plt.imshow(cm, interpolation='nearest', cmap=cmap)\n",
        "    # plt.title(title)\n",
        "    # plt.colorbar()\n",
        "    tick_marks = np.arange(len(classes))\n",
        "    plt.xticks(tick_marks, classes, rotation=90)\n",
        "    plt.yticks(tick_marks, classes)\n",
        "\n",
        "    fmt = '.2f' if normalize else 'd'\n",
        "    thresh = cm.max() / 2.\n",
        "    for i, j in itertools.product(range(cm.shape[0]), range(cm.shape[1])):\n",
        "        plt.text(j, i, format(cm[i, j], fmt), horizontalalignment=\"center\", color=\"white\" if cm[i, j] > thresh else \"black\")\n",
        "\n",
        "    plt.tight_layout()\n",
        "    plt.ylabel('True class')\n",
        "    plt.xlabel('Predicted class')"
      ],
      "execution_count": null,
      "outputs": []
    },
    {
      "cell_type": "markdown",
      "metadata": {
        "id": "6AM9GgBNkrF7"
      },
      "source": [
        "Plot the confusion matrix, save the figure, then doenload the figure file."
      ]
    },
    {
      "cell_type": "code",
      "metadata": {
        "id": "h3rEfu-13AKG",
        "colab": {
          "base_uri": "https://localhost:8080/",
          "height": 610
        },
        "outputId": "36cb324c-258a-49fc-bd9a-ca16c86382ac"
      },
      "source": [
        "fig = plt.figure(figsize=(8,9))\n",
        "plt.rc('font', size=15) #controls default text size\n",
        "plot_confusion_matrix(cm, classes)\n",
        "fig.savefig(fname = 'confusion_matrix.eps' ,  bbox_inches='tight')\n",
        "files.download('./confusion_matrix.eps')"
      ],
      "execution_count": null,
      "outputs": [
        {
          "output_type": "stream",
          "name": "stdout",
          "text": [
            "Confusion matrix, without normalization\n"
          ]
        },
        {
          "output_type": "display_data",
          "data": {
            "application/javascript": [
              "\n",
              "    async function download(id, filename, size) {\n",
              "      if (!google.colab.kernel.accessAllowed) {\n",
              "        return;\n",
              "      }\n",
              "      const div = document.createElement('div');\n",
              "      const label = document.createElement('label');\n",
              "      label.textContent = `Downloading \"${filename}\": `;\n",
              "      div.appendChild(label);\n",
              "      const progress = document.createElement('progress');\n",
              "      progress.max = size;\n",
              "      div.appendChild(progress);\n",
              "      document.body.appendChild(div);\n",
              "\n",
              "      const buffers = [];\n",
              "      let downloaded = 0;\n",
              "\n",
              "      const channel = await google.colab.kernel.comms.open(id);\n",
              "      // Send a message to notify the kernel that we're ready.\n",
              "      channel.send({})\n",
              "\n",
              "      for await (const message of channel.messages) {\n",
              "        // Send a message to notify the kernel that we're ready.\n",
              "        channel.send({})\n",
              "        if (message.buffers) {\n",
              "          for (const buffer of message.buffers) {\n",
              "            buffers.push(buffer);\n",
              "            downloaded += buffer.byteLength;\n",
              "            progress.value = downloaded;\n",
              "          }\n",
              "        }\n",
              "      }\n",
              "      const blob = new Blob(buffers, {type: 'application/binary'});\n",
              "      const a = document.createElement('a');\n",
              "      a.href = window.URL.createObjectURL(blob);\n",
              "      a.download = filename;\n",
              "      div.appendChild(a);\n",
              "      a.click();\n",
              "      div.remove();\n",
              "    }\n",
              "  "
            ],
            "text/plain": [
              "<IPython.core.display.Javascript object>"
            ]
          },
          "metadata": {}
        },
        {
          "output_type": "display_data",
          "data": {
            "application/javascript": [
              "download(\"download_ef35fadd-6d66-4fb0-98cc-bb48931c9063\", \"confusion_matrix.eps\", 1399161)"
            ],
            "text/plain": [
              "<IPython.core.display.Javascript object>"
            ]
          },
          "metadata": {}
        },
        {
          "output_type": "display_data",
          "data": {
            "image/png": "[encoded data removed]",
            "text/plain": [
              "<Figure size 576x648 with 1 Axes>"
            ]
          },
          "metadata": {
            "needs_background": "light"
          }
        }
      ]
    }
  ]
}