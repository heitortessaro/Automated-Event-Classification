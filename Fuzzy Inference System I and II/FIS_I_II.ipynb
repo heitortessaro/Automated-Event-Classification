{
  "nbformat": 4,
  "nbformat_minor": 0,
  "metadata": {
    "colab": {
      "name": "FIS_I_II.ipynb",
      "provenance": [],
      "toc_visible": true
    },
    "kernelspec": {
      "name": "python3",
      "display_name": "Python 3"
    },
    "language_info": {
      "name": "python"
    }
  },
  "cells": [
    {
      "cell_type": "markdown",
      "metadata": {
        "id": "CjyowquLijQd"
      },
      "source": [
        "**Fuzzy Inference System I - Event Classification \\\\\n",
        "Fuzzy Inference System II - Fault Classification**\n",
        "\n",
        "Author: Dionatan Cieslak\n",
        "\n",
        "---\n",
        "\n"
      ]
    },
    {
      "cell_type": "markdown",
      "metadata": {
        "id": "EbpNlB7gkP0u"
      },
      "source": [
        "### Useful libraries"
      ]
    },
    {
      "cell_type": "code",
      "metadata": {
        "id": "_xssA4q1ifKw"
      },
      "source": [
        "!pip install networkx==2.3\n",
        "!pip install scikit-fuzzy\n",
        "\n",
        "import numpy as np\n",
        "import matplotlib.pyplot as plt\n",
        "import matplotlib.ticker as ticker\n",
        "import matplotlib.patches as mpatches\n",
        "import scipy.io as sio\n",
        "import zipfile\n",
        "import itertools\n",
        "import glob\n",
        "import os\n",
        "import skfuzzy as fuzz\n",
        "from skfuzzy import control as ctrl\n",
        "from natsort import natsorted\n",
        "from google.colab import files\n",
        "from sklearn.metrics import confusion_matrix\n",
        "from google.colab import drive\n",
        "drive.mount('/content/drive')"
      ],
      "execution_count": null,
      "outputs": []
    },
    {
      "cell_type": "markdown",
      "metadata": {
        "id": "pRKCr7yQlIgl"
      },
      "source": [
        "### Data preparation"
      ]
    },
    {
      "cell_type": "code",
      "metadata": {
        "id": "dAUM35rUlNzU"
      },
      "source": [
        "# Uploading files from g-drive:\n",
        "with zipfile.ZipFile(\"/content/drive/My Drive/PSCC 2022/matRuido.zip\", \"r\") as zip_ref:\n",
        "  zip_ref.extractall(\".\")\n",
        "!mkdir npyData\n",
        "\n",
        "# Converting .mat files into .npy:\n",
        "files = []\n",
        "start_dir = \"/content/matRuido\"\n",
        "pattern   = \"*.mat\"\n",
        "for dir,_,_ in os.walk(start_dir):\n",
        "    files.extend(glob.glob(os.path.join(dir,pattern)))\n",
        "data_path = files\n",
        "for d_path in data_path:\n",
        "    base = os.path.basename(d_path)\n",
        "    fileID = os.path.splitext(base)[0]\n",
        "    # load mat file (the loaded file is in the dictionary file)\n",
        "    mat_contents = sio.loadmat(d_path)\n",
        "    # extract the data in a np array format\n",
        "    temp_data = mat_contents['matrizCompSimetricas']\n",
        "    # shaping from (120, 120, 6) to (14400, 6)\n",
        "    data_righ_shape = temp_data.reshape(-1,temp_data.shape[2],order='F')\n",
        "    # denormalize\n",
        "    data_pu = data_righ_shape\n",
        "    temp_v0, temp_v1, temp_v2 = data_pu[:,0], data_pu[:,1], data_pu[:,2]\n",
        "    temp_i0, temp_i1, temp_i2 = data_pu[:,3], data_pu[:,4], data_pu[:,5]\n",
        "    data_struct = np.array([[temp_v0],[temp_v1],[temp_v2],[temp_i0],[temp_i1],[temp_i2]])\n",
        "    np.save('./npyData/' + fileID + '.npy', data_struct)"
      ],
      "execution_count": null,
      "outputs": []
    },
    {
      "cell_type": "markdown",
      "metadata": {
        "id": "D9aYRgVzliMy"
      },
      "source": [
        "### Fuzzy Inference System I\n",
        "\n",
        "FIS I is responsible for classificate the following classes:\n",
        "- DESE01\n",
        "- LINC02\n",
        "- LDEC04\n",
        "- SHUT04\n",
        "- NOOP05\n"
      ]
    },
    {
      "cell_type": "markdown",
      "metadata": {
        "id": "3ycTRJqPl1qw"
      },
      "source": [
        "FIS I modelling:"
      ]
    },
    {
      "cell_type": "code",
      "metadata": {
        "id": "4Y7kVpmHlzAc"
      },
      "source": [
        "# Create fuzzy inputs universe:\n",
        "v_pre = ctrl.Antecedent(np.arange(0, 1.2, 0.1), 'v_pre')\n",
        "v_pos = ctrl.Antecedent(np.arange(0, 1.2, 0.1), 'v_pos')\n",
        "i_pre = ctrl.Antecedent(np.arange(0, 1.2, 0.1), 'i_pre')\n",
        "i_pos = ctrl.Antecedent(np.arange(0, 1.2, 0.1), 'i_pos')\n",
        "i_var = ctrl.Antecedent(np.arange(-1.1, 1.1, 0.1), 'i_var')\n",
        "\n",
        "# Create the mapping from crisp to fuzzy:\n",
        "v_pre['null'] = fuzz.trapmf(v_pre.universe, [0, 0, 0.15, 0.25])\n",
        "v_pre['intermediate'] = fuzz.trapmf(v_pre.universe, [0.15, 0.25, 0.65, 0.75])\n",
        "v_pre['nominal'] = fuzz.trapmf(v_pre.universe, [0.65, 0.75, 1.2, 1.2])\n",
        "# v_pre.view()\n",
        "v_pos['null'] = fuzz.trapmf(v_pos.universe, [0, 0, 0.15, 0.25])\n",
        "v_pos['intermediate'] = fuzz.trapmf(v_pos.universe, [0.15, 0.25, 0.65, 0.75])\n",
        "v_pos['nominal'] = fuzz.trapmf(v_pos.universe, [0.65, 0.75, 1.2, 1.2])\n",
        "# v_pos.view()\n",
        "i_pre['null'] = fuzz.trapmf(i_pre.universe, [0, 0, 0.2, 0.3])\n",
        "i_pre['intermediate'] = fuzz.trapmf(i_pre.universe, [0.2, 0.3, 0.6, 0.7])\n",
        "i_pre['nominal'] = fuzz.trapmf(i_pre.universe, [0.6, 0.7, 1.2, 1.2])\n",
        "# i_pre.view()\n",
        "i_pos['null'] = fuzz.trapmf(i_pos.universe, [0, 0, 0.2, 0.3])\n",
        "i_pos['intermediate'] = fuzz.trapmf(i_pos.universe, [0.2, 0.3, 0.6, 0.7])\n",
        "i_pos['nominal'] = fuzz.trapmf(i_pos.universe, [0.6, 0.7, 1.2, 1.2])\n",
        "# i_pos.view()\n",
        "i_var['negative'] = fuzz.trapmf(i_var.universe, [-1.1, -1.1, -0.01, 0])\n",
        "i_var['null'] = fuzz.trimf(i_var.universe, [-0.001, 0, 0.001])\n",
        "i_var['positive'] = fuzz.trapmf(i_var.universe, [0, 0.01, 1.1, 1.1])\n",
        "# i_var.view()\n",
        "\n",
        "# Create fuzzy outputs universe:\n",
        "operational_state = ctrl.Consequent(np.arange(0, 1.2, 0.01), 'operational_state')\n",
        "\n",
        "# Create the mapping from crisp to fuzzy:\n",
        "sigma = 0.1\n",
        "c_des = 0.2\n",
        "c_inc = 0.4\n",
        "c_dec = 0.6\n",
        "c_shu = 0.8\n",
        "c_nop = 1.0\n",
        "operational_state['desenergization'] = fuzz.gaussmf(operational_state.universe, c_des, sigma)\n",
        "operational_state['load increase'] = fuzz.gaussmf(operational_state.universe, c_inc, sigma)\n",
        "operational_state['load decrease'] = fuzz.gaussmf(operational_state.universe, c_dec, sigma)\n",
        "operational_state['shutdown'] = fuzz.gaussmf(operational_state.universe, c_shu, sigma)\n",
        "operational_state['normal operation'] = fuzz.gaussmf(operational_state.universe, c_nop, sigma)\n",
        "# operational_state.view()\n",
        "\n",
        "# Create set of rules:\n",
        "rule1 = ctrl.Rule(v_pre['nominal'] & v_pos['nominal'] & i_pre['nominal'] & i_pos['nominal'] & i_var['null'], operational_state['normal operation'])\n",
        "rule2 = ctrl.Rule(v_pre['nominal'] & v_pos['nominal'] & i_pre['intermediate'] & i_pos['intermediate'] & i_var['null'], operational_state['normal operation'])\n",
        "rule3 = ctrl.Rule(v_pre['nominal'] & v_pos['nominal'] & i_pre['null'] & i_pos['null'] & i_var['null'], operational_state['normal operation'])\n",
        "rule4 = ctrl.Rule(v_pre['nominal'] & v_pos['null'] & i_pre['null'] & i_pos['null'] & i_var['null'], operational_state['desenergization'])\n",
        "rule5 = ctrl.Rule(v_pre['nominal'] & v_pos['null'] & i_pre['null'] & i_pos['null'] & i_var['negative'], operational_state['desenergization'])\n",
        "rule6 = ctrl.Rule(v_pre['nominal'] & v_pos['null'] & i_pre['nominal'] & i_pos['null'], operational_state['shutdown'])\n",
        "rule7 = ctrl.Rule(v_pre['nominal'] & v_pos['null'] & i_pre['intermediate'] & i_pos['null'], operational_state['shutdown'])\n",
        "rule8 = ctrl.Rule(v_pre['nominal'] & v_pos['nominal'] & i_pre['nominal'] & i_pos['nominal'] & i_var['positive'], operational_state['load increase'])\n",
        "rule9 = ctrl.Rule(v_pre['nominal'] & v_pos['nominal'] & i_pre['null'] & i_pos['intermediate'] & i_var['positive'], operational_state['load increase'])\n",
        "rule10 = ctrl.Rule(v_pre['nominal'] & v_pos['nominal'] & i_pre['intermediate'] & i_pos['intermediate'] & i_var['positive'], operational_state['load increase'])\n",
        "rule11 = ctrl.Rule(v_pre['nominal'] & v_pos['nominal'] & i_pre['intermediate'] & i_pos['nominal'] & i_var['positive'] , operational_state['load increase'])\n",
        "rule12 = ctrl.Rule(v_pre['nominal'] & v_pos['nominal'] & i_pre['intermediate'] & i_pos['intermediate'] & i_var['negative'], operational_state['load decrease'])\n",
        "rule13 = ctrl.Rule(v_pre['nominal'] & v_pos['nominal'] & i_pre['nominal'] & i_pos['nominal'] & i_var['negative'], operational_state['load decrease'])\n",
        "rule14 = ctrl.Rule(v_pre['nominal'] & v_pos['nominal'] & i_pre['nominal'] & i_pos['intermediate'] & i_var['negative'], operational_state['load decrease'])\n",
        "rule15 = ctrl.Rule(v_pre['nominal'] & v_pos['nominal'] & i_pre['intermediate'] & i_pos['null'] & i_var['negative'], operational_state['load decrease'])\n",
        "\n",
        "# Create FIS I:\n",
        "sif = ctrl.ControlSystem([rule1, rule2, rule3, rule4, rule5, rule6, rule7, rule8, rule9, rule10, rule11, rule12, rule13, rule14, rule15])\n",
        "sif_sim = ctrl.ControlSystemSimulation(sif)\n",
        "\n",
        "# Function for inference:\n",
        "def FIS(pre_voltage, post_voltage, pre_current, post_current, current_variation):\n",
        "  sif_sim.input['v_pre'] = pre_voltage\n",
        "  sif_sim.input['v_pos'] = post_voltage\n",
        "  sif_sim.input['i_pre'] = pre_current\n",
        "  sif_sim.input['i_pos'] = post_current\n",
        "  sif_sim.input['i_var'] = current_variation\n",
        "  sif_sim.compute()\n",
        "  return round(sif_sim.output['operational_state'],4)"
      ],
      "execution_count": null,
      "outputs": []
    },
    {
      "cell_type": "markdown",
      "metadata": {
        "id": "oO5ViMM8oU3M"
      },
      "source": [
        "Inference process (classifying all records):"
      ]
    },
    {
      "cell_type": "code",
      "metadata": {
        "id": "x2l8pfXRoaOZ"
      },
      "source": [
        "npydata_path = glob.glob(\"./npyData/Fuzzy*.npy\")\n",
        "npydata_path = natsorted(npydata_path)\n",
        "v1_pre_v, v1_pos_v, i1_pre_v, i1_pos_v = [],[],[],[]\n",
        "memb_des_v, memb_shu_v, memb_dec_v, memb_inc_v, memb_nop_v = [], [],[],[],[]\n",
        "results = []\n",
        "for npyd_path in npydata_path:\n",
        "  npydata = np.load(npyd_path)\n",
        "  # flatten from (1, 14400) to (14400)\n",
        "  v0, v1, v2 = npydata[0].flatten(), npydata[1].flatten(), npydata[2].flatten()\n",
        "  i0, i1, i2 = npydata[3].flatten(), npydata[4].flatten(), npydata[5].flatten()\n",
        "  # calculte mean values pre and post trigger (t = 34s = sample nº 2040)\n",
        "  beg_tra = 2040\n",
        "  end_tra = 2055\n",
        "  v0_pre = np.mean(v0[0:beg_tra]) \n",
        "  v0_pos = np.mean(v0[end_tra:14400])\n",
        "  v1_pre = np.mean(v1[0:beg_tra]) \n",
        "  v1_pos = np.mean(v1[end_tra:14400])\n",
        "  v2_pre = np.mean(v2[0:beg_tra]) \n",
        "  v2_pos = np.mean(v2[end_tra:14400])\n",
        "  i0_pre = np.mean(i0[0:beg_tra]) \n",
        "  i0_pos = np.mean(i0[end_tra:14400])\n",
        "  i1_pre = np.mean(i1[0:beg_tra]) \n",
        "  i1_pos = np.mean(i1[end_tra:14400])\n",
        "  i2_pre = np.mean(i2[0:beg_tra]) \n",
        "  i2_pos = np.mean(i2[end_tra:14400])\n",
        "  # create a list of pre and post transient values\n",
        "  v1_pre_v.append(round(v1_pre,4))\n",
        "  v1_pos_v.append(round(v1_pos,4))\n",
        "  i1_pre_v.append(round(i1_pre,4))\n",
        "  i1_pos_v.append(round(i1_pos,4))\n",
        "  # calculate the inference\n",
        "  inference = FIS(v1_pre, v1_pos, i1_pre, i1_pos, (i1_pos - i1_pre))\n",
        "  # determine the memberships\n",
        "  memb_des = round(fuzz.gaussmf(inference,c_des,sigma),4)\n",
        "  memb_inc = round(fuzz.gaussmf(inference,c_inc,sigma),4)\n",
        "  memb_dec = round(fuzz.gaussmf(inference,c_dec,sigma),4)\n",
        "  memb_shu = round(fuzz.gaussmf(inference,c_shu,sigma),4)\n",
        "  memb_nop = round(fuzz.gaussmf(inference,c_nop,sigma),4)\n",
        "  memb_des_v.append(memb_des)\n",
        "  memb_inc_v.append(memb_inc)\n",
        "  memb_dec_v.append(memb_dec)\n",
        "  memb_shu_v.append(memb_shu)\n",
        "  memb_nop_v.append(memb_nop)\n",
        "  # create a list of FIS outcome\n",
        "  results.append(inference)"
      ],
      "execution_count": null,
      "outputs": []
    },
    {
      "cell_type": "markdown",
      "metadata": {
        "id": "N4TyIkPzpZBa"
      },
      "source": [
        "Evaluating the inference process:"
      ]
    },
    {
      "cell_type": "code",
      "metadata": {
        "id": "yoOiiky7pbFP"
      },
      "source": [
        "#\n",
        "# class 0 - DESE01\n",
        "# class 1 - LINC02\n",
        "# class 2 - LDEC03\n",
        "# class 3 - SHUT04\n",
        "# class 4 - NOOP05\n",
        "# \n",
        "prediction = []\n",
        "size = len(data_path)\n",
        "for k in range(0,size):\n",
        "  if ((memb_des_v[k] > memb_shu_v[k]) and (memb_des_v[k] > memb_dec_v[k]) and (memb_des_v[k] > memb_inc_v[k]) and (memb_des_v[k] > memb_nop_v[k])):\n",
        "    prediction.append(0)\n",
        "  elif ((memb_inc_v[k] > memb_des_v[k]) and (memb_inc_v[k] > memb_shu_v[k]) and (memb_inc_v[k] > memb_dec_v[k]) and (memb_inc_v[k] > memb_nop_v[k])):\n",
        "    prediction.append(1)\n",
        "  elif ((memb_dec_v[k] > memb_des_v[k]) and (memb_dec_v[k] > memb_shu_v[k]) and (memb_dec_v[k] > memb_inc_v[k]) and (memb_dec_v[k] > memb_nop_v[k])):\n",
        "    prediction.append(2)\n",
        "  elif ((memb_shu_v[k] > memb_des_v[k]) and (memb_shu_v[k] > memb_dec_v[k]) and (memb_shu_v[k] > memb_inc_v[k]) and (memb_shu_v[k] > memb_nop_v[k])):\n",
        "    prediction.append(3)\n",
        "  else:\n",
        "    prediction.append(4)"
      ],
      "execution_count": null,
      "outputs": []
    },
    {
      "cell_type": "markdown",
      "metadata": {
        "id": "1uaTNdP3pt8U"
      },
      "source": [
        "Confusion matrix:"
      ]
    },
    {
      "cell_type": "code",
      "metadata": {
        "id": "u-bFpEwSp4aZ"
      },
      "source": [
        "# Creating targets:\n",
        "pred = np.array([prediction], dtype='int')\n",
        "# Arrays are created following the sorted path npydata_path:\n",
        "targ_shut1 = 3*np.ones((1,30), dtype='int') # npydata_path[0:30]\n",
        "targ_nop1 = 4*np.ones((1,30), dtype='int')  # npydata_path[30:60]\n",
        "targ_shut2 = 3*np.ones((1,30), dtype='int') # npydata_path[60:90]\n",
        "targ_nop2 = 4*np.ones((1,30), dtype='int')  # npydata_path[90:120]\n",
        "targ_shut3 = 3*np.ones((1,90), dtype='int') # npydata_path[120:210]\n",
        "targ_nop3 = 4*np.ones((1,30), dtype='int')  # npydata_path[210:240]\n",
        "targ_shut4 = 3*np.ones((1,60), dtype='int') # npydata_path[240:300]\n",
        "targ_nop4 = 4*np.ones((1,30), dtype='int')  # npydata_path[300:330]\n",
        "targ_shut5 = 3*np.ones((1,30), dtype='int') # npydata_path[330:360]\n",
        "targ_dec = 2*np.ones((1,30), dtype='int')   # npydata_path[360:390]\n",
        "targ_des = np.zeros((1,30), dtype='int')    # npydata_path[390:420]\n",
        "targ_inc = np.ones((1,30), dtype='int')     # npydata_path[420:450]\n",
        "targ = np.hstack((targ_shut1, targ_nop1, targ_shut2, targ_nop2, targ_shut3, targ_nop3, targ_shut4, targ_nop4, targ_shut5, targ_dec, targ_des, targ_inc))\n",
        "cm = confusion_matrix(targ.T, pred.T)\n",
        "\n",
        "# Plotting confusion matrix:\n",
        "classes = ('DESE01', 'LINC02', 'LDEC03', 'SHUT04', 'NOOP05')\n",
        "\n",
        "def plot_confusion_matrix(cm, classes, normalize=False, title='Confusion matrix', cmap=plt.cm.Blues):\n",
        "    if normalize:\n",
        "        cm = cm.astype('float') / cm.sum(axis=1)[:, np.newaxis]\n",
        "        print(\"Normalized confusion matrix\")\n",
        "    else:\n",
        "        print('Confusion matrix, without normalization')\n",
        "\n",
        "    # print(cm)\n",
        "    plt.imshow(cm, interpolation='nearest', cmap=cmap)\n",
        "    # plt.title(title)\n",
        "    # plt.colorbar()\n",
        "    tick_marks = np.arange(len(classes))\n",
        "    plt.xticks(tick_marks, classes, rotation=30)\n",
        "    plt.yticks(tick_marks, classes)\n",
        "\n",
        "    fmt = '.2f' if normalize else 'd'\n",
        "    thresh = cm.max() / 2.\n",
        "    for i, j in itertools.product(range(cm.shape[0]), range(cm.shape[1])):\n",
        "        plt.text(j, i, format(cm[i, j], fmt), horizontalalignment=\"center\", color=\"white\" if cm[i, j] > thresh else \"black\")\n",
        "\n",
        "    plt.tight_layout()\n",
        "    plt.ylabel('True class')\n",
        "    plt.xlabel('Predicted class')\n",
        "\n",
        "fig = plt.figure(figsize=(8,5))\n",
        "plt.rc('font', size=15) #controls default text size\n",
        "plot_confusion_matrix(cm, classes)\n",
        "# fig.savefig(fname = 'confusion_matrix_fis1.eps' ,  bbox_inches='tight')"
      ],
      "execution_count": null,
      "outputs": []
    },
    {
      "cell_type": "markdown",
      "metadata": {
        "id": "Ro6Vhsk6uen0"
      },
      "source": [
        "### Fuzzy Inference System II\n",
        "\n",
        "FIS I is responsible for classificate the following classes:\n",
        "- SPFL05/06\n",
        "- DPFL07/08\n",
        "- DGFL09/10\n",
        "- SGFL11/12"
      ]
    },
    {
      "cell_type": "markdown",
      "metadata": {
        "id": "q7UDYMcXu5gx"
      },
      "source": [
        "FIS II modelling:"
      ]
    },
    {
      "cell_type": "code",
      "metadata": {
        "id": "64tV7EMmuv9J"
      },
      "source": [
        "# Create fuzzy inputs universe:\n",
        "psi_v = ctrl.Antecedent(np.arange(0, 1.2, 0.1), 'psi_v')\n",
        "psi_i = ctrl.Antecedent(np.arange(0, 3.2, 0.1), 'psi_i')\n",
        "v2_trans = ctrl.Antecedent(np.arange(0, 1.2, 0.1), 'v2_trans')\n",
        "\n",
        "# Create the mapping from crisp to fuzzy:\n",
        "psi_v['null'] = fuzz.trapmf(psi_v.universe, [0, 0, 0.005, 0.1])\n",
        "psi_v['low'] = fuzz.trapmf(psi_v.universe, [0.005, 0.1, 0.7, 0.75])\n",
        "psi_v['intermediate'] = fuzz.trapmf(psi_v.universe, [0.7, 0.75, 0.8, 0.85])\n",
        "psi_v['high'] = fuzz.trapmf(psi_v.universe, [0.8, 0.85, 1.2, 1.2])\n",
        "# psi_v.view()\n",
        "psi_i['null'] = fuzz.trapmf(psi_i.universe, [0, 0, 0.005, 0.1])\n",
        "psi_i['low'] = fuzz.trapmf(psi_i.universe, [0.005, 0.1, 2, 2.2])\n",
        "psi_i['intermediate'] = fuzz.trapmf(psi_i.universe, [2, 2.1, 2.5, 2.6])\n",
        "psi_i['high'] = fuzz.trapmf(psi_i.universe, [2.5, 2.6, 3.2, 3.2])\n",
        "# psi_i.view()\n",
        "v2_trans['low'] = fuzz.trapmf(v2_trans.universe, [0, 0, 0.01, 0.02])\n",
        "v2_trans['high'] = fuzz.trapmf(v2_trans.universe, [0.01, 0.02, 1.2, 1.2])\n",
        "# v2_trans.view()\n",
        "\n",
        "# Create fuzzy outputs universe:\n",
        "fault_type = ctrl.Consequent(np.arange(0, 1.2, 0.01), 'fault_type')\n",
        "\n",
        "# Create the mapping from crisp to fuzzy:\n",
        "sigma = 0.1\n",
        "cpg = 0.25\n",
        "cpp = 0.50\n",
        "cppg = 0.75\n",
        "cpppg = 1.0\n",
        "fault_type['PG'] = fuzz.gaussmf(fault_type.universe, cpg, sigma)\n",
        "fault_type['PP'] = fuzz.gaussmf(fault_type.universe, cpp, sigma)\n",
        "fault_type['PPG'] = fuzz.gaussmf(fault_type.universe, cppg, sigma)\n",
        "fault_type['PPPG'] = fuzz.gaussmf(fault_type.universe, cpppg, sigma)\n",
        "# fault_type.view()\n",
        "\n",
        "# Create set of rules:\n",
        "rule1 = ctrl.Rule(psi_v['null'] & psi_i['null'] & v2_trans['high'], fault_type['PP'])\n",
        "rule2 = ctrl.Rule(psi_v['low'] & psi_i['low'] & v2_trans['high'], fault_type['PPG'])\n",
        "rule3 = ctrl.Rule(psi_v['high'] & psi_i['low'] & v2_trans['high'], fault_type['PPG'])\n",
        "rule4 = ctrl.Rule(psi_v['low'] & psi_i['high'] & v2_trans['high'], fault_type['PPG'])\n",
        "rule5 = ctrl.Rule(psi_v['high'] & psi_i['high'] & v2_trans['high'], fault_type['PPG'])\n",
        "rule6 = ctrl.Rule(psi_v['intermediate'] & psi_i['intermediate'] & v2_trans['high'] , fault_type['PG'])\n",
        "rule7 = ctrl.Rule(v2_trans['low'] , fault_type['PPPG'])\n",
        "\n",
        "# Create FIS II:\n",
        "sif2 = ctrl.ControlSystem([rule1, rule2, rule3, rule4, rule5, rule6, rule7])\n",
        "sif2_sim = ctrl.ControlSystemSimulation(sif2)\n",
        "\n",
        "# Function for inference:\n",
        "def FIS2(psi_v, psi_i, v2_trans):\n",
        "  sif2_sim.input['psi_v'] = psi_v\n",
        "  sif2_sim.input['psi_i'] = psi_i\n",
        "  sif2_sim.input['v2_trans'] = v2_trans  \n",
        "  sif2_sim.compute()\n",
        "  return round(sif2_sim.output['fault_type'],4)"
      ],
      "execution_count": null,
      "outputs": []
    },
    {
      "cell_type": "markdown",
      "metadata": {
        "id": "QVGOBaO3v8Aj"
      },
      "source": [
        "Inference process (classifying faulty records):"
      ]
    },
    {
      "cell_type": "code",
      "metadata": {
        "id": "S8WLYVadwCm0"
      },
      "source": [
        "# select faulty files\n",
        "fault_data_path = glob.glob(\"./npyData/FuzzyFalta*.npy\")\n",
        "fault_data_path = natsorted(fault_data_path)\n",
        "# select, as example, external grounded faults (comment if statment for selecting full list)\n",
        "faults = [s for s in fault_data_path if (\"BT\" not in s) and (\"EXT\" not in s)]\n",
        "fault_v0_v, fault_v1_v, fault_v2_v, fault_i0_v, fault_i1_v, fault_i2_v = [],[],[],[],[],[]\n",
        "memb_pg_v, memb_pp_v, memb_ppg_v, memb_pppg_v = [],[],[],[]\n",
        "unbal_factor_v, unbal_factor_i = [],[]\n",
        "fault_results = []\n",
        "for fault_d_path in faults:\n",
        "  fault_data = np.load(fault_d_path)\n",
        "  # flatten from (1, 14400) to (14400)\n",
        "  fault_v0, fault_v1, fault_v2 = fault_data[0].flatten(), fault_data[1].flatten(), fault_data[2].flatten()\n",
        "  fault_i0, fault_i1, fault_i2 = fault_data[3].flatten(), fault_data[4].flatten(), fault_data[5].flatten()\n",
        "  # calculte mean values of transient\n",
        "  sample_beg = 2040 # (t = 34s = sample nº 2040)\n",
        "  sample_end = 2130 # (t = 35.5s = sample nº 2130)\n",
        "  fault_v0_mean = np.mean(fault_v0[sample_beg:sample_end])\n",
        "  fault_v1_mean = np.mean(fault_v1[sample_beg:sample_end])\n",
        "  fault_v2_mean = np.mean(fault_v2[sample_beg:sample_end])\n",
        "  fault_i0_mean = np.mean(fault_i0[sample_beg:sample_end])\n",
        "  fault_i1_mean = np.mean(fault_i1[sample_beg:sample_end])\n",
        "  fault_i2_mean = np.mean(fault_i2[sample_beg:sample_end])\n",
        "  psi_v = fault_v0_mean/fault_v2_mean\n",
        "  psi_i = fault_i0_mean/fault_i2_mean\n",
        "  unbal_factor_v.append(psi_v)\n",
        "  unbal_factor_i.append(psi_i)\n",
        "  # create a list of pre and post transient values\n",
        "  fault_v0_v.append(round(fault_v0_mean,4))\n",
        "  fault_v1_v.append(round(fault_v1_mean,4))\n",
        "  fault_v2_v.append(round(fault_v2_mean,4))\n",
        "  fault_i0_v.append(round(fault_i0_mean,4))\n",
        "  fault_i1_v.append(round(fault_i1_mean,4))\n",
        "  fault_i2_v.append(round(fault_i2_mean,4))\n",
        "  # calculate the inference\n",
        "  inference2 = FIS2(psi_v, psi_i, fault_v2_mean)\n",
        "  # determine the memberships\n",
        "  memb_pg = round(fuzz.gaussmf(inference2, cpg, sigma), 4)\n",
        "  memb_pp = round(fuzz.gaussmf(inference2, cpp, sigma), 4)\n",
        "  memb_ppg = round(fuzz.gaussmf(inference2, cppg, sigma), 4)\n",
        "  memb_pppg = round(fuzz.gaussmf(inference2, cpppg, sigma), 4)\n",
        "  memb_pg_v.append(memb_pg)\n",
        "  memb_pp_v.append(memb_pp)\n",
        "  memb_ppg_v.append(memb_ppg)\n",
        "  memb_pppg_v.append(memb_pppg)\n",
        "  # create a list of FIS outcome\n",
        "  fault_results.append(inference2)"
      ],
      "execution_count": null,
      "outputs": []
    },
    {
      "cell_type": "markdown",
      "metadata": {
        "id": "Q6IBa2z6wuDW"
      },
      "source": [
        "Evaluating the inference process:"
      ]
    },
    {
      "cell_type": "code",
      "metadata": {
        "id": "W9-L5pdtwvz2"
      },
      "source": [
        "# class 0 - SPFL05/06\n",
        "# class 1 - DPFL07/08\n",
        "# class 2 - DGFL09/10\n",
        "# class 3 - SGFL11/12\n",
        "\n",
        "fault_prediction = []\n",
        "for k in range(0,len(faults)):\n",
        "  if ((memb_pg_v[k] > memb_pp_v[k]) and (memb_pg_v[k] > memb_ppg_v[k]) and (memb_pg_v[k] > memb_pppg_v[k])):\n",
        "    fault_prediction.append(0)\n",
        "  elif ((memb_pp_v[k] > memb_pg_v[k]) and (memb_pp_v[k] > memb_ppg_v[k]) and (memb_pp_v[k] > memb_pppg_v[k])):\n",
        "    fault_prediction.append(1)\n",
        "  elif ((memb_ppg_v[k] > memb_pg_v[k]) and (memb_ppg_v[k] > memb_pp_v[k]) and (memb_ppg_v[k] > memb_pppg_v[k])):\n",
        "    fault_prediction.append(2)\n",
        "  else:\n",
        "    fault_prediction.append(3)"
      ],
      "execution_count": null,
      "outputs": []
    },
    {
      "cell_type": "markdown",
      "metadata": {
        "id": "EDxQicpFw83v"
      },
      "source": [
        "Confusion matrix:"
      ]
    },
    {
      "cell_type": "code",
      "metadata": {
        "colab": {
          "base_uri": "https://localhost:8080/",
          "height": 394
        },
        "id": "IBnRNvndxCSq",
        "outputId": "ca29ec86-ce0d-49d0-a550-1566bd34b150"
      },
      "source": [
        "# Creating targets:\n",
        "pred_PP = fault_prediction[0:30]\n",
        "pred_PPG = fault_prediction[30:60]\n",
        "pred_PG = fault_prediction[60:90]\n",
        "pred_PPPG = fault_prediction[90:120]\n",
        "pred_global = np.hstack((pred_PP, pred_PPG, pred_PG, pred_PPPG))\n",
        "fault_pred = np.array([pred_global], dtype='int')\n",
        "# Arrays are created following the sorted path npydata_path:\n",
        "targ_pg = np.zeros((1,30), dtype='int')\n",
        "targ_pp = np.ones((1,30), dtype='int')\n",
        "targ_ppg = 2*np.ones((1,30), dtype='int')\n",
        "targ_pppg = 3*np.ones((1,30), dtype='int')\n",
        "fault_targ = np.hstack((targ_pp, targ_ppg, targ_pg, targ_pppg))\n",
        "fault_cm = confusion_matrix(fault_targ.T, fault_pred.T)\n",
        "\n",
        "# Plotting confusion matrix:\n",
        "# classes_fault = ('SPFL05','DPFL07','DGFL09', 'SGFL11') # LVS faults\n",
        "classes_fault = ('SPFH06','DPFH08','DGFH10', 'SGFH12') # HVS faults\n",
        "fig = plt.figure(figsize=(8,5))\n",
        "plt.rc('font', size=15) #controls default text size\n",
        "plot_confusion_matrix(fault_cm, classes_fault, normalize=False)\n",
        "# fig.savefig(fname = 'confusion_matrix_fis2.eps' ,  bbox_inches='tight')"
      ],
      "execution_count": null,
      "outputs": [
        {
          "output_type": "stream",
          "name": "stdout",
          "text": [
            "Confusion matrix, without normalization\n"
          ]
        },
        {
          "output_type": "display_data",
          "data": {
            "image/png": "[encoded data removed]",
            "text/plain": [
              "<Figure size 576x360 with 1 Axes>"
            ]
          },
          "metadata": {
            "needs_background": "light"
          }
        }
      ]
    }
  ]
}